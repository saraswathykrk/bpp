{
  "nbformat": 4,
  "nbformat_minor": 0,
  "metadata": {
    "kernelspec": {
      "language": "python",
      "display_name": "Python 3",
      "name": "python3"
    },
    "language_info": {
      "pygments_lexer": "ipython3",
      "nbconvert_exporter": "python",
      "version": "3.6.4",
      "file_extension": ".py",
      "codemirror_mode": {
        "name": "ipython",
        "version": 3
      },
      "name": "python",
      "mimetype": "text/x-python"
    },
    "colab": {
      "name": "BPP_Sentiment_YouTube.ipynb",
      "provenance": [],
      "collapsed_sections": [],
      "include_colab_link": true
    }
  },
  "cells": [
    {
      "cell_type": "markdown",
      "metadata": {
        "id": "view-in-github",
        "colab_type": "text"
      },
      "source": [
        "<a href=\"https://colab.research.google.com/github/saraswathykrk/ml_work/blob/main/BPP_Sentiment_YouTube.ipynb\" target=\"_parent\"><img src=\"https://colab.research.google.com/assets/colab-badge.svg\" alt=\"Open In Colab\"/></a>"
      ]
    },
    {
      "cell_type": "code",
      "metadata": {
        "id": "xhuqZ4bBiCnx"
      },
      "source": [
        "# from google.colab import drive\n",
        "# drive.mount('/gdrive')"
      ],
      "execution_count": null,
      "outputs": []
    },
    {
      "cell_type": "code",
      "metadata": {
        "id": "2e_qzhUj0q6v",
        "colab": {
          "base_uri": "https://localhost:8080/"
        },
        "outputId": "7d22a7c9-bca8-4ed3-9ce6-601823ace6ef"
      },
      "source": [
        "pip install -U scikit-learn"
      ],
      "execution_count": null,
      "outputs": [
        {
          "output_type": "stream",
          "text": [
            "Collecting scikit-learn\n",
            "\u001b[?25l  Downloading https://files.pythonhosted.org/packages/a8/eb/a48f25c967526b66d5f1fa7a984594f0bf0a5afafa94a8c4dbc317744620/scikit_learn-0.24.2-cp37-cp37m-manylinux2010_x86_64.whl (22.3MB)\n",
            "\u001b[K     |████████████████████████████████| 22.3MB 4.9MB/s \n",
            "\u001b[?25hCollecting threadpoolctl>=2.0.0\n",
            "  Downloading https://files.pythonhosted.org/packages/f7/12/ec3f2e203afa394a149911729357aa48affc59c20e2c1c8297a60f33f133/threadpoolctl-2.1.0-py3-none-any.whl\n",
            "Requirement already satisfied, skipping upgrade: scipy>=0.19.1 in /usr/local/lib/python3.7/dist-packages (from scikit-learn) (1.4.1)\n",
            "Requirement already satisfied, skipping upgrade: joblib>=0.11 in /usr/local/lib/python3.7/dist-packages (from scikit-learn) (1.0.1)\n",
            "Requirement already satisfied, skipping upgrade: numpy>=1.13.3 in /usr/local/lib/python3.7/dist-packages (from scikit-learn) (1.19.5)\n",
            "Installing collected packages: threadpoolctl, scikit-learn\n",
            "  Found existing installation: scikit-learn 0.22.2.post1\n",
            "    Uninstalling scikit-learn-0.22.2.post1:\n",
            "      Successfully uninstalled scikit-learn-0.22.2.post1\n",
            "Successfully installed scikit-learn-0.24.2 threadpoolctl-2.1.0\n"
          ],
          "name": "stdout"
        }
      ]
    },
    {
      "cell_type": "code",
      "metadata": {
        "id": "YnpqYeEMiaGb"
      },
      "source": [
        "# from google.colab import drive\n",
        "# drive.mount('/content/drive')"
      ],
      "execution_count": null,
      "outputs": []
    },
    {
      "cell_type": "code",
      "metadata": {
        "id": "h9_R6yElik_z"
      },
      "source": [
        "# import os\n",
        "# os.chdir(\"/content/drive/My Drive/\")"
      ],
      "execution_count": null,
      "outputs": []
    },
    {
      "cell_type": "code",
      "metadata": {
        "_uuid": "8f2839f25d086af736a60e9eeb907d3b93b6e0e5",
        "_cell_guid": "b1076dfc-b9ad-4769-8c92-a6c4dae69d19",
        "trusted": true,
        "id": "Os2Zzeq1fOPk"
      },
      "source": [
        "\n",
        "\n",
        "import numpy as np # linear algebra\n",
        "import pandas as pd # data processing, CSV file I/O (e.g. pd.read_csv)\n",
        "import os\n",
        "import scipy\n",
        "\n",
        "\n",
        "import warnings\n",
        "warnings.filterwarnings(\"ignore\")\n"
      ],
      "execution_count": null,
      "outputs": []
    },
    {
      "cell_type": "code",
      "metadata": {
        "trusted": true,
        "id": "fgJSTJ_3fOPq"
      },
      "source": [
        "from textblob import TextBlob\n",
        "from sklearn import metrics\n",
        "from mlxtend.plotting import plot_confusion_matrix"
      ],
      "execution_count": null,
      "outputs": []
    },
    {
      "cell_type": "code",
      "metadata": {
        "id": "u6HBiCN5jz0Z",
        "colab": {
          "base_uri": "https://localhost:8080/"
        },
        "outputId": "f70d753d-ed70-4b8c-fd57-f55756cdb733"
      },
      "source": [
        "ls"
      ],
      "execution_count": null,
      "outputs": [
        {
          "output_type": "stream",
          "text": [
            "\u001b[0m\u001b[01;34msample_data\u001b[0m/\n"
          ],
          "name": "stdout"
        }
      ]
    },
    {
      "cell_type": "code",
      "metadata": {
        "trusted": true,
        "id": "7UzPRyFrfOPy",
        "colab": {
          "resources": {
            "http://localhost:8080/nbextensions/google.colab/files.js": {
              "data": "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",
              "ok": true,
              "headers": [
                [
                  "content-type",
                  "application/javascript"
                ]
              ],
              "status": 200,
              "status_text": ""
            }
          },
          "base_uri": "https://localhost:8080/",
          "height": 126
        },
        "outputId": "99cb8316-0ff3-43aa-bc35-37cc5c27bf8d"
      },
      "source": [
        "from google.colab import files\n",
        "uploaded = files.upload()\n",
        "print(uploaded)\n",
        "filename = next(iter(uploaded))\n",
        "print(filename)\n",
        "data = pd.read_csv(filename) #\"Dataset.csv\")"
      ],
      "execution_count": null,
      "outputs": [
        {
          "output_type": "display_data",
          "data": {
            "text/html": [
              "\n",
              "     <input type=\"file\" id=\"files-a9e52204-141a-4eaf-af24-7dcb7c7a203a\" name=\"files[]\" multiple disabled\n",
              "        style=\"border:none\" />\n",
              "     <output id=\"result-a9e52204-141a-4eaf-af24-7dcb7c7a203a\">\n",
              "      Upload widget is only available when the cell has been executed in the\n",
              "      current browser session. Please rerun this cell to enable.\n",
              "      </output>\n",
              "      <script src=\"/nbextensions/google.colab/files.js\"></script> "
            ],
            "text/plain": [
              "<IPython.core.display.HTML object>"
            ]
          },
          "metadata": {
            "tags": []
          }
        },
        {
          "output_type": "stream",
          "text": [
            "Saving Dataset (1).csv to Dataset (1).csv\n",
            "{'Dataset (1).csv': b\"Video ID,Comment ID,comments\\nX0QqhFn8HC8,UgzXdPa8VDAONLbcze14AaABAg,It  seems  beautiful    But  it's  not  really  good  to  do  in  outdoors  or  in  terrace  as  it  get  dirty  and  dusty  very  soon    Good  for  few  days  only  \\nX0QqhFn8HC8,Ugy02yrrzpOdJpKYqPN4AaABAg,This  will  work  for  indoor  balcony    It  is  not  suitable  for  terrace  as  it  will  be  exposed  to  bad  weather\\nX0QqhFn8HC8,Ugw1hcO3btXLPL-d1Ot4AaABAg,oh  my  my  such  a  beautiful  transformation    you  are  very  creative  person      thanks  for  sharing  your  idea  with  us  take  care\\nX0QqhFn8HC8,Ugw9zPJZJ1d4-dHUbJV4AaABAg,Best  part  is  she  is  not  wasting  time  in  talking  nd  explaining  like  mostly  transformation  vedios  \\nX0QqhFn8HC8,UgxNSYUqKZ-fFDIqp3x4AaABAg,Beautiful  garden    Can't  see  this  garden  outsiders  \\nX0QqhFn8HC8,Ugy48-Rak38JOAHG90N4AaABAg,This  would  be  an  awesome  garden  in  a  small  balcony  that  has  covering  of  glass  windows    this  tiny  garden  can  be  like  a  small  place  where  i  can  set  up  my  work  station  and  do  my  office  work    now  that  i  have  WFH      \\nX0QqhFn8HC8,UgzqU526xnAV5yz1Erx4AaABAg,How  tough  would  it  be  to  maintain  this  terrace  garden          though  beautifully  designed  \\nX0QqhFn8HC8,Ugyg2bFI_iHpYB_JVXB4AaABAg,That's  lovely  \\nX0QqhFn8HC8,Ugw27EL74DCeo-wmP3l4AaABAg,Transformation  was  as  beautiful  as  u  r\\nX0QqhFn8HC8,UgzsHhfGOjzgXMUT0Nl4AaABAg,Really  loved  it      i  was  also  looking  for  something  similar      great  work\\nX0QqhFn8HC8,UgyaYygvAKEIXmHRk0h4AaABAg,Wow    So  nice    I  would  like  to  know  where  to  get  artificial  grass  mat  sso  to  make  my  garden  in  my  balcony  \\nX0QqhFn8HC8,UgwrX7kYba1kllXD2AZ4AaABAg,Simply  wow        What  a  beautiful  transformation  and  you  are  blessed  to  have  such  a  big  terrace    In  congested  cities  like  Delhi  we  have  small  balconies    mostly  3  ft  x  5  7  ft    If  you  can  do  some  video  for  this  it  will  be  very  nice  \\nX0QqhFn8HC8,Ugxx_EpilknHAulTc_t4AaABAg,wonderful          greetings  from  Germany\\nX0QqhFn8HC8,UgzwauYlhjQOlHTSFll4AaABAg,Awesome  idea  ill  definately  try  this  soon\\nX0QqhFn8HC8,Ugwd9H5A4Yy8II8l0xh4AaABAg,Thats  simply  awesome  \\nX0QqhFn8HC8,Ugycar5E0JJHuii_mG54AaABAg,Please  also  show  this  beautiful  creation  in  1000    \\nX0QqhFn8HC8,Ugwdlq9EMEJuYHNmU114AaABAg,Oh  my  God  it's  really    awesome      fida    for  ur  talent  keep  it  up  \\nX0QqhFn8HC8,UgxtuNOMfcpN600enhN4AaABAg,Great  job    you  totally  transformed  the  space    Awesome  \\nX0QqhFn8HC8,Ugw3yjA1YjQH7Kh6sDV4AaABAg,Can  you  please  review  the  grass  mat  after  having  used  it  for  6  months    Would  you  rather  have  gone  for  some  other  mat  with  more  thickness    blade  length      or  this  one  is  just  fine    Thanks  \\nX0QqhFn8HC8,UgwkYc9G8y1PIEdv80d4AaABAg,Wow  it's  so  beautiful  and  Thanks  for  giving  ideas\\nX0QqhFn8HC8,Ugx4PyetUlMDXHPi68Z4AaABAg,Awesome    So  creative  and  the  look  is  so  pleasant  \\nX0QqhFn8HC8,UgxPAKnD_1LqMangIR54AaABAg,wow    I  am  gonna  try  it  with  my  Araldite  Acrylics\\nX0QqhFn8HC8,UgxbFDafbYouStasV2V4AaABAg,Dude  u  r  really  underrated        amazing  creativity\\nX0QqhFn8HC8,UgxTwRYmul4rLov05314AaABAg,O  my  god      Look  at  these  beauty  Can't  take  my  eyes  off  from  these    Hats  off  to  your  creativity  \\nX0QqhFn8HC8,UgyfiuRjHr-x6CVn18l4AaABAg,It's  beautiful      so  much  talented  \\nX0QqhFn8HC8,UgzP6AasMnZPe7_tZXp4AaABAg,Vry  nice    would  be  great  if  you  place  a  wooden  chair  and  a  mini  wood  table  on  the  lawn\\nX0QqhFn8HC8,UgyKX9x5xJTCApesBX14AaABAg,Keep  it  up  great  transformation    it\\nX0QqhFn8HC8,UgwhWX1dNAwFBXVhmnJ4AaABAg,Thats  unexpected      I'm  love  with  your  creativity  \\nX0QqhFn8HC8,UgxW8lDGBb10yXfMIqN4AaABAg,Nice  work    Beautiful      What  paint  did  you  use  for  the  floor  covering\\nX0QqhFn8HC8,Ugy1BvdGStLwxYplGWF4AaABAg,Wow      beautiful  \\nX0QqhFn8HC8,UgyASpxawFgHsOSmlaR4AaABAg,Nice    how  the  PVC  hold  for  so  long    how  you  close  the  both  ends  \\nX0QqhFn8HC8,UgzNZ2c6utCyXyQcJ4d4AaABAg,Wow  so  nice  I  like  this  type  of    garden\\nX0QqhFn8HC8,UgyVbrkjl_5f5HfoU6h4AaABAg,I  bet  everything  there  is  a  bought  one      though  looks  good  and  creative      there's  no  plant  propaation  no  seed  germination  no  rooting  of  cuttings        Everything  is  bought  and  kept      Nice  though      \\nX0QqhFn8HC8,UgwXsmcA3frP8H5XnRB4AaABAg,It  is  very  very  beautiful      I  feel  more  relaxing      peaceful    its  amazing\\nX0QqhFn8HC8,UgxyxN4MPb3SEfOlHJ94AaABAg,Lovely    Perhaps  I  could  also  decorate  my  terrace  like  you  did\\nX0QqhFn8HC8,UgzKhWLWOuYDOlDK1tV4AaABAg,Beautiful  set  up      where  the  pebbles  from  \\nX0QqhFn8HC8,UgwclUTAbzexcetR-L14AaABAg,amazing    luk  forward  to  many  such  transformations\\nX0QqhFn8HC8,UgzW5z12pKHzYHZVDud4AaABAg,So  beautiful      I  had  seen  this  type  of  decor  of  garden  in  my  dream  I  love  your  garden    di            \\nX0QqhFn8HC8,UgwRX4kggnS8S_p6bTt4AaABAg,Beautiful  u  are  so  talented    God  bless  you    U  can  keep  some  more  plants  \\nX0QqhFn8HC8,UgxWunG8fRvpn27iWNZ4AaABAg,Hi    you  have  some  special  matt  coating  on  roof  what  type  of  coating  is  it    \\nX0QqhFn8HC8,UgzfAeeaZ3k-owJjKdJ4AaABAg,Wooww  beautiful      i  love  it  \\nX0QqhFn8HC8,Ugxjv_SQGAelBXlK0OB4AaABAg,Great  Job        God  bless  this  Chanel\\nX0QqhFn8HC8,Ugy0SPjiYXbZv3TeqRR4AaABAg,You  had  me  at  the  floor  paint  \\nX0QqhFn8HC8,UgxNqZhQbm6ozHKubmF4AaABAg,Amazing    I  will  try  \\nX0QqhFn8HC8,UgwFO037BdysWXY0Bn94AaABAg,Beautiful  makeover    Where  did  you  buy  the  buddha  head  from  \\nX0QqhFn8HC8,UgwAtLfPkX1LEm-p6Cx4AaABAg,wow        crazy  transformation    \\nX0QqhFn8HC8,UgwadTDaDlkHPefobAt4AaABAg,Wow      I'm  amazed  to  see  this    Great  work  \\nX0QqhFn8HC8,UgyfaEODMP_IK_iCnAh4AaABAg,Gr8      positive  vibes\\nX0QqhFn8HC8,UgyWiqXmSN-d55th5ip4AaABAg,I  appreciate  u  r  hard  work    can  u  plz  put  cost  for  the  preparation\\nX0QqhFn8HC8,Ugx1LNru60I5hUbIFZN4AaABAg,Such  a  beautiful  work\\nX0QqhFn8HC8,UgzvV8dkajxT_nEzKFV4AaABAg,So  so  beautiful      u  have  nice  sence  of  creativity  \\nX0QqhFn8HC8,UgwItpqDHWQTGhmcFa94AaABAg,From  where  did  u  find  this  wooden  tiles  \\nX0QqhFn8HC8,UgxvdfbVf968VvlAqgp4AaABAg,It's  beautiful    \\nX0QqhFn8HC8,UgxcAnThxTfoBsfUl-14AaABAg,I  like  this  one  the  most    Very  beautiful  spot  of  the  house    You  are  really  very  creative    I  really  appreciate  such  hard  work  \\nX0QqhFn8HC8,UgxEQjmnYNcRmeSJ5ct4AaABAg,Beautiful  greenery  spreading  Devine  vibes  of  mother  nature    good  job      tiles  ki  quality  kesi  he  I  want  to  buy  pls  tell  me  bless  you  stay  tuned  with  love  thank  you  namah  shivay\\nX0QqhFn8HC8,UgxteETtMGvR8DrGp694AaABAg,Beautiful    Amazing    Can  you  Pl  tell  from  where  to  buy  artificial  grass  and  wooden  tiles\\nX0QqhFn8HC8,Ugwh9Aq_Kewa3Ip4QkR4AaABAg,Hey  make  the  video  with  voice  over  maam  it's  helpful  \\nX0QqhFn8HC8,UgxHy7F3FhmJ1oyN-gZ4AaABAg,Hi    how  much  you  spent  totally  for  this  transformation    Please  reply      \\nX0QqhFn8HC8,Ugx9qquRmvu2Po00fsF4AaABAg,Wonderful  work    Can  you  please  share  the  cost  \\nX0QqhFn8HC8,UgwgYpXc1QaTphtw2xd4AaABAg,Very  beautiful  transformation      really  good    good  thoughts  never  fails  with  good  results      new  friend  here  stay  cnct\\nX0QqhFn8HC8,Ugxh42gjIeBei110JFF4AaABAg,Excellent  work  by  self\\nX0QqhFn8HC8,UgwBjWqmYYnGXdmY0o14AaABAg,Wow  beautiful  vlog  tnx  for  sharing  apu\\nX0QqhFn8HC8,Ugxj4TDPk4RmU4VfxTZ4AaABAg,Very  beautiful      Which  paint  u  used  on  masking  tape  mam\\nX0QqhFn8HC8,Ugw7CyS1GsmgT0MxRN94AaABAg,Post  a  video  how  you  clean  ur  setup  on  regular  basis  \\nX0QqhFn8HC8,UgwGwRyGjqepclbnMBh4AaABAg,excellent  job  done    what  paint  have  you  used  for  the  floor    couldnt  find  description  of  the  paint  in  the  description  \\nX0QqhFn8HC8,UgxSgpiwH-1NfdflOOl4AaABAg,Amazing    keep  up  the  good  work    I  am  also  in  the  process  of  creating  a  terrace  garden    can  you  share  the  link  for  these  wooden  tiles  Appreciate  your  help        \\nX0QqhFn8HC8,UgyospZ7QifyPJ24OFl4AaABAg,Where  did  you  buy  artificial  grass      Can  you  please  share  the  link    It  would  help  a  lot    Thanks        \\nX0QqhFn8HC8,UgzMXZKt6xNy4IJ-zg14AaABAg,Amazing  transformation\\nX0QqhFn8HC8,UgyXCT7ufoCEefPgp-R4AaABAg,Awesome  work      great  effort\\nX0QqhFn8HC8,UgzFhU33pTbnzHHa50d4AaABAg,Actually  this  is  a  amazing  transformation      \\nX0QqhFn8HC8,Ugwsd23zFd9oq5858zJ4AaABAg,Great  transformation\\nX0QqhFn8HC8,UgwCZO8_w6LVpguOIH14AaABAg,Really  liked  ur  work        how  much  you  spent  in  total\\nX0QqhFn8HC8,UgyzoNUqiXzxd10ba6B4AaABAg,I  wish  Amit  also  should  ve  helped\\nX0QqhFn8HC8,UgztApcTi6mXq4TDTnx4AaABAg,Support  from  California  USA      My  dear  sister        Transformation  is  just  amazing    We  need  more  talents  like  you  in  India    Because    there  are  spacious  homes  and  mostly  materials  we  can  find  cheap  in  price            This  look  is  so  classy  \\nX0QqhFn8HC8,Ugz2V3uLlm_JdjyLkJV4AaABAg,Very  Nice  makeover  dear        I  appreciate  this        Thanks  for  sharing\\nX0QqhFn8HC8,Ugz4yYWeNqgbYWZhUop4AaABAg,Amazing  Osm  idea  very  beautiful  garden  speechless  very  good  work  too  good  superb\\nX0QqhFn8HC8,UgyJDpLk6nMwu-1fSHZ4AaABAg,Appreciate  your  work  beutiful  indeed\\nX0QqhFn8HC8,UgymwRKAU6IlIxFJIyF4AaABAg,Wonderful  work    Nicely  done  \\nX0QqhFn8HC8,UgyKJE96rZOAlV3FkDJ4AaABAg,Lovely  to  see  the  transformation    Loved  the  wooden  interlocking  tiles  \\nX0QqhFn8HC8,UgxsEIPft4FU3p5RjpN4AaABAg,Awesome  transformation  plz  do  a  room  transformation  also  Waiting  for  such  other  videos\\nX0QqhFn8HC8,UgyopLMBj-DYMQ9WjRB4AaABAg,Very  pretty  \\nX0QqhFn8HC8,Ugxudz5RCok0KxQ8Ved4AaABAg,What  if  rain  comes  does  the  mat  get  distressed    How  do  you  clean  if  the  mat  as  some  water  on  it  \\nX0QqhFn8HC8,UgwaOGuXEMn7JAdNQjZ4AaABAg,Wow  super      Great  work    \\nX0QqhFn8HC8,UgwrP17hBHoil_OtCMB4AaABAg,Really  well  maintained  Good  organization  Beautiful  decorations  of  roof  terrace\\nX0QqhFn8HC8,UgxOQIAjIdIlIStr5Kh4AaABAg,Yar  barish  ayegi  to  sb  nash  ho  jayega      Aandhi  toofan        These  type  of  makeover  needs  constant  maintenance\\nX0QqhFn8HC8,UgxPyvrr0Rs9DSdR1Gl4AaABAg,Very  beautiful    enjoyed        PradeepSinghNain\\nX0QqhFn8HC8,UgyVZ0kUkO0ns6t64y14AaABAg,Super  ji  extra  ordinary  how  much  cost  for  this  roof  work  for  your  terrace\\nX0QqhFn8HC8,UgxfutMvkullt9hifWJ4AaABAg,What  a  beautiful  makeover\\nX0QqhFn8HC8,Ugz7Z_LQm0N8hhCzgpR4AaABAg,I  wonder  how  you  keep  this  clean    It  must  take  a  lot  of  time  and  effort  to  maintain  this  beautiful  set  up  \\nX0QqhFn8HC8,Ugyr0Y8oJuzEX9hI_IF4AaABAg,You  are  really  lucky  to  have  terrace  garden  I  personally  feel  u  r  blessed  this  place  makes  you  feel  lively  even  in  your  worst  phase  of  life\\nX0QqhFn8HC8,UgxAND4JWha7j5fkdY14AaABAg,I  love  simple    and  easy    cleaning  things    at  home\\nX0QqhFn8HC8,Ugwy146QfyaNncc_3Dl4AaABAg,Very  beautifull  transformation    You  can  also  Grow  some  organic  vegetables  side  by  side  it's  very  satisfying    and  it  will  be  healthy  aslo      I  grow  flowers  as  well  as  vegetables  on  my  rooftop    gives  another  level  of  happiness  to  me        I  think  you  should  also  try  since  your  roof  top  is  very  beautiful    \\nX0QqhFn8HC8,UgzeDeyP4yJcfNCY1Ah4AaABAg,Where  from  you  got  pebble  stones      How  much  quantity  and  cost  \\nX0QqhFn8HC8,UgyEkvKhjczR0QOOcuV4AaABAg,Wow          Simply  superb          \\nX0QqhFn8HC8,UgywrIKZJQSBJU-YH2J4AaABAg,Wow  really  beautiful    transformation\\nX0QqhFn8HC8,UgzsHBfZj4yy_s3UWFR4AaABAg,But  what  happens  to  it  when  it  will  rain          \\nX0QqhFn8HC8,UgzwSdnf-sJcI0WYAlV4AaABAg,How  you  paint  floor  so  beautifully  where  to  get  thses  tiles\\nX0QqhFn8HC8,UgwH_WXv5mLLMb-e15V4AaABAg,very  creative  and  good  work    \\nX0QqhFn8HC8,Ugx30_hSO-Sf-XXRqt94AaABAg,Simply  Awesome\\nX0QqhFn8HC8,UgzXU2h4mCzZ8Cqozph4AaABAg,This  is  great  idea\\nX0QqhFn8HC8,UgyFTLA-iRn05uLRdBx4AaABAg,Wow    Beautiful  creativity    \\nX0QqhFn8HC8,Ugyp7LB_dEu7mxrMjIN4AaABAg,You  have  very  good  tasty  design  and  creativity  Keep  it  up\\nX0QqhFn8HC8,UgxTN6HKOyV3HKkxKqt4AaABAg,Too  gud  I  love  this\\nX0QqhFn8HC8,Ugzlx2WvfGzCtZta5op4AaABAg,Simple  and  neat  make  over\\nX0QqhFn8HC8,UgzcbNNwAbfUZuV8fXB4AaABAg,Awesome  I  am  sure  one  day  u  will  surely  have  1  million  views  for  this  video  \\nX0QqhFn8HC8,UgzQzwKAaM8KWYPBZ_V4AaABAg,What  are  these  wooden  tiles  called  and  from  where  you  bought  them    \\nX0QqhFn8HC8,UgyZX0CAQE7Q9xmmCjV4AaABAg,wow    very  beautiful  amd  amazing  transformation  plz  mention  the  name  of  all  the  things  which  you  used    \\nX0QqhFn8HC8,Ugwx3YuwUMZh25Qf6AN4AaABAg,Looking  really  good\\nX0QqhFn8HC8,UgynH4pmKD8jKNuskVF4AaABAg,What  is  the  cost  of  that  much  size  of  artificial  grass  \\nX0QqhFn8HC8,Ugyr0bOF7U4P_Uh-K0V4AaABAg,What  did  you  use  for  the  floor\\nX0QqhFn8HC8,Ugzhfix5YGqndGaBFCV4AaABAg,This  is  fantastic      \\nX0QqhFn8HC8,UgxXibeRCCQhglrJzyN4AaABAg,Great  work      simply  superb\\nX0QqhFn8HC8,UgwGqeu8rmbwLatPj0l4AaABAg,Wow  beautiful    God  bless\\nX0QqhFn8HC8,Ugy9T_flJ3gjCtq-UKd4AaABAg,Which  type  of  paint  use\\nX0QqhFn8HC8,UgxSiVkIyN7PIuIMAXF4AaABAg,So  creative  you  are    \\nX0QqhFn8HC8,UgyxmhcrATDXndIv-Rh4AaABAg,Very  beautiful    Really  creative  people\\nX0QqhFn8HC8,UgwznFSrHdXGEZ8-RgV4AaABAg,She  is  indeed  very  creative  and  the  terrace  looks  awesome      but  dear  I  think  the  harsh  climate  might  spoil  it\\nX0QqhFn8HC8,UgygWMRB29iHhjMNb814AaABAg,Fine  makeover    Cost  effective    Any1  can  keep  pumping  in  money  n  place  expensive  stuffs        Yours  is  v  decent  n  doable  in  normal  budget  \\nX0QqhFn8HC8,UgxvOabxR5IiA8yDYiJ4AaABAg,Simply  awesome  \\nX0QqhFn8HC8,Ugx_1RKEbiAEPcsUNn94AaABAg,very  creative  \\nX0QqhFn8HC8,UgxQTaM6fP5J-kMAL9h4AaABAg,How  did  u  fix  the  pvc  pipe  to  the  wall  and  also  where  did  u  get  a  pot  in  that  shape  \\nX0QqhFn8HC8,Ugyx5yzPaDBxji5AitF4AaABAg,Beautiful    How  many  Rs  this  grass  lawn\\nX0QqhFn8HC8,Ugza-bHuas7G0EwWhMl4AaABAg,Great  plan      good  work\\nX0QqhFn8HC8,UgxmOkjCRoxBmXuL_nJ4AaABAg,Amazing  ideas  very  beautiful\\nX0QqhFn8HC8,UgxL7nXfTMQj6XMNK4p4AaABAg,Very  nice    Artificial  grass  how  much  you  pay  \\nX0QqhFn8HC8,Ugxayk73cNL1_W1WLuh4AaABAg,Really  nice          sis            Looking  awesome  \\nX0QqhFn8HC8,UgyPkeTyvqGhoIRVTst4AaABAg,Wow  sach  me    informative  video  he    aapne  garden  look  he  badal  diya  so  beautiful    garden  stay  connected    dear  thanks  for  sharing  dear  \\nX0QqhFn8HC8,UgyjqP-vjK-atqfmbBV4AaABAg,Ur  terrace  is  so  beautiful  I  also  do  like  this  tnq          \\nX0QqhFn8HC8,UgzBVqoRZ1jfmMM0Czh4AaABAg,Lovely    really  loved  it        how  much  it  cost  for  lawn  and  that  wooden  tiles\\nX0QqhFn8HC8,UgxtK8J5wTQTYufTAv14AaABAg,It's  beautiful  \\nX0QqhFn8HC8,UgytxaXUvPJzbz74Gyt4AaABAg,Can  you  tell    what  kind  of  tiles  these  are  which  is  used          gr8  work        \\nX0QqhFn8HC8,UgyQama6yp4zsh5EN2x4AaABAg,Looks  very  calming  and  beautiful  \\nX0QqhFn8HC8,Ugz9UK1GEeMzgmxHMTZ4AaABAg,How  much  cost  for  artificial    grass  and  size\\nX0QqhFn8HC8,Ugy5VXdWLZlOoxNwhIZ4AaABAg,Simply  Great            Heartly  wishes              \\nX0QqhFn8HC8,UgwqmgdAMNLt3H7lYk14AaABAg,Very  creative  and  appreciatible  work  \\nX0QqhFn8HC8,Ugws6Ryd4DGnPNYCtj54AaABAg,Beautiful  garden    you  are  very  talented  \\nX0QqhFn8HC8,UgyRCRjOT_t7CG2SN9N4AaABAg,Its  beautifull  my  mom  would  definately  love  it                        \\nX0QqhFn8HC8,UgyY2AuDBHRDHmMmpfh4AaABAg,Best  transformation  Good  job\\nX0QqhFn8HC8,UgyCdoM6A3nVU9jZeoZ4AaABAg,Loved  it\\nX0QqhFn8HC8,UgwKb9pjYrgbUMLncDZ4AaABAg,Very  nice    I  love  it  so  much  Thanks  for  the  idea\\nX0QqhFn8HC8,Ugy7oqBqkh3qmu0bh3x4AaABAg,Very  attractive  and  beautiful    Radhey  radhey\\nX0QqhFn8HC8,UgxOF-NDbX6uhVOVKHF4AaABAg,Creative  ideas  \\nX0QqhFn8HC8,Ugx3jtl9WDkjBi19Chd4AaABAg,Wow  you  are  very  creative  person  I  liked  your  decoration  I  joined  you  my  friend    you  did  hard  work  I  hope  you  will  also  come  to  my  place  and  also  appreciate  me  Well  done  \\nX0QqhFn8HC8,UgwEOIrjp_MsaikU8iR4AaABAg,Oh  wow  so  beautiful\\nX0QqhFn8HC8,UgzTzvRyGZ3vkgsEIp94AaABAg,Nice    I  only  wish  the  grass  was  real\\nX0QqhFn8HC8,UgxzcIqc8ah24Zxfhqh4AaABAg,Wow        Great        Thanks  for  sharing  \\nX0QqhFn8HC8,Ugw7RWkX0RqHzw-NLnx4AaABAg,Wow  mast      nice  ideas  n  decorative  sense    n  good  planning  of  making  the  place  more  elegant  \\nX0QqhFn8HC8,UgweHYX-v5cwEeqyQK94AaABAg,Can  you  tell  total  cost  for  this  transformation  \\nX0QqhFn8HC8,UgxM2l34E65UUF0cAw94AaABAg,Wow          Very  beautiful\\nX0QqhFn8HC8,Ugx_Mtl__W0SkY6Hhyt4AaABAg,100  marks  for  the  hard  work  \\nX0QqhFn8HC8,Ugzn7ZZEdgWyI-PTJIh4AaABAg,Your  a  great  artist  Canvassed  on  floor\\nX0QqhFn8HC8,Ugy4tGRnYHaq_mPZEQ14AaABAg,  from  L  A    USA\\nX0QqhFn8HC8,Ugy6AJqShoNRKNwWRMh4AaABAg,I  love  the  design  and  colour  on  the  floor  \\nX0QqhFn8HC8,UgyzB9g94r1l2wTijs54AaABAg,How  to  do  the  regular  cleaning    what  to  do  in  raining    \\nX0QqhFn8HC8,UgxoZ_sPete2VlUAaBp4AaABAg,Very  creative            beautiful  garden  n  lovely  transformation\\nX0QqhFn8HC8,UgxaphdwcE8i0CyNDiR4AaABAg,Please  tell  me  background  music  name\\nX0QqhFn8HC8,Ugx9S0w_ptQAPLr7HUp4AaABAg,Wishing  you  a  very  HAPPY  DIWALI      keep  rocking  \\nX0QqhFn8HC8,UgzIDjCgUMJyTveXc194AaABAg,Very  attractive    makeover      Beautiful  \\nX0QqhFn8HC8,UgxZ5KPZiNW2EEddnkp4AaABAg,oh  my  my  shuch  a  beatiful  trasformation    you  are  very  creative  person        thanks  for  sharing  yout  ideatake  care\\nX0QqhFn8HC8,UgzgajeHTgih2VSiwx14AaABAg,It's  amazing\\nX0QqhFn8HC8,UgyxzvlPLQMGmGBWJId4AaABAg,What  is  that  wooden  material  called  which  you  placed  along  artificial  green  grass  \\nX0QqhFn8HC8,UgxENHRN99diltl5NfN4AaABAg,Wah    beautiful  terrace  garden\\nX0QqhFn8HC8,Ugypqp18Nx9-W9fqvdp4AaABAg,Wow  lovely  \\nX0QqhFn8HC8,UgwlmEAn1UvwOrenvxx4AaABAg,Wow  superb      how  much  cost  for  this    \\nX0QqhFn8HC8,UgxXfSU-opd9p3WEvPt4AaABAg,How  much  cost  it  will  be  for  this    transformation  plz  reply\\nX0QqhFn8HC8,UgwF9nZ-t4MrBnu7t0F4AaABAg,It's  just  awesome\\nX0QqhFn8HC8,UgyyQjwcA3F9barAK4d4AaABAg,Just  add  one  pond  and  its  all  set\\nX0QqhFn8HC8,UgwsMQS5tpHthJeMQ9p4AaABAg,Hi    can  you  tell  me  what  flooring  martial  is  this    The  colourful  flooring  you  got  done\\nX0QqhFn8HC8,Ugxj0V8YtKPV9kykqw14AaABAg,Superb  dude    You  have  more  innovative    ideas      Keep  rocking\\nX0QqhFn8HC8,Ugz1Cf74k0C-00D8k7N4AaABAg,hi      i  loved  this  transformation    i  need  some  sugesstion    in  my  balcony  there  is  no  tap    i  want  to  add  dripping  system  to  my  plants    wen  i  go  out  for  4  5days  its  being  hard                my  plants  are  geting  dried  out    pls  sugest  some  idea\\nX0QqhFn8HC8,UgwM0PWw-Kk0fGWTPTJ4AaABAg,Keep  the  good  work  going  on  \\nX0QqhFn8HC8,UgxN5QMhQzxJS6zZ7Yh4AaABAg,Seriously  it's  very  beautiful  \\nX0QqhFn8HC8,Ugy_2ciVa0k7IStSkTB4AaABAg,Beautiful    From  where  to  get  these  materials\\nX0QqhFn8HC8,UgwlOELhqo4wEmtNnat4AaABAg,from  where  you  bought  the  pot  kept  on  the  pipe\\nX0QqhFn8HC8,UgzkGsmDzhTQZQGqo1V4AaABAg,One  thing  I  would  like  to  ask  that  when  it  rains  water  goes  under  the  grass  carpet  and  it  cause  the  damage  of  roof        So  how  to  maintain  at  that  particular  time\\nX0QqhFn8HC8,Ugzc9m4qi4_RtaQuV6Z4AaABAg,Beautiful      Which  spray  paint  used  for  old  pvc  pipe      pls  share  link\\nX0QqhFn8HC8,UgykNMFRNZGUgIFK8_p4AaABAg,It's  so  beautiful    how  must  cost    \\nX0QqhFn8HC8,UgyybT2oIYHGjUIzx2h4AaABAg,Very  nicely  done  and  looking  awesome      Can  you  please  tell  what  was  the  approximate  total  cost  for  this  setup      Thanks\\nX0QqhFn8HC8,Ugzjbs7HOdepdzpgHsx4AaABAg,Very  creative  and  beautiful  garden  \\nX0QqhFn8HC8,UgyijOrT2Lw88rODO914AaABAg,How  do  u  fixed  those  pots  in  wall  mam\\nX0QqhFn8HC8,Ugw4ZG4r75ccAhD1b-h4AaABAg,Wooden  tiles  can  these  be  used  on  walkway  indoor  how  durable  are  they\\nX0QqhFn8HC8,UgysnALMONzKUkSnWC94AaABAg,Lovely  terrace  garden\\nX0QqhFn8HC8,UgyhToWP0t46kNFF7jF4AaABAg,Ohhh  awsome    Beautiful  transformation      Congrats  \\nX0QqhFn8HC8,Ugzj51aWvOGtAHakEAt4AaABAg,Do  u  have  a  shade  overhead    How  do  you  manage  during  heavy  rains    What  paint  did  u  use  for  the  terrace  floor  \\nX0QqhFn8HC8,Ugyb7Zy4KmlOTwT7AcZ4AaABAg,Very  beautiful    I  require  information  about  wooden  floors  pls  give  us  where  we  get\\nX0QqhFn8HC8,UgwE4VvRV2ylR3E6bNN4AaABAg,From  where  I  can  buy  these  1  1  tiles  to  create  border\\nX0QqhFn8HC8,UgyXN6EXVbGhtBeD4wh4AaABAg,Can  u  tell  total  cost  for  this    transformation\\nX0QqhFn8HC8,UgzJ4WQxJcDPndQarax4AaABAg,Awesome  project      Please  tell  me  how  much  it  cost  for  u    \\nX0QqhFn8HC8,UgwhQIyZcx8b-Z4FNmt4AaABAg,Very  beautiful      \\nX0QqhFn8HC8,Ugxfzo5k7q31ncRX6kB4AaABAg,Wow  really  amazing\\nX0QqhFn8HC8,UgwEdFEv_b-PlbOFI4R4AaABAg,Such  nicely  done\\nX0QqhFn8HC8,Ugy30N5Fx-ElzZLd2LN4AaABAg,Beautiful  creativity  \\nX0QqhFn8HC8,UgwnfcBkcM8CATry4kF4AaABAg,Seriously  very  good  work\\nX0QqhFn8HC8,UgyHzAKPpP_t5JUJt9N4AaABAg,Wow  beautiful  \\nX0QqhFn8HC8,Ugwbx5EI1tc0kC4mENR4AaABAg,One  of  the  best  seamless  transformations  i  ve  seen  ever    big  thumbs  up      \\nX0QqhFn8HC8,UgzxgNAmJpttral-ESF4AaABAg,So  creative  lovely\\nX0QqhFn8HC8,UgzAeO9TORRHG0isbXt4AaABAg,Wow  beautiful\\nX0QqhFn8HC8,UgyIUSh8WjhuV1hwaPR4AaABAg,When  I'll  be  able  to  spend  such  a  huge  amount  will  make  it  2  times  better  and  beautiful  IA\\nX0QqhFn8HC8,Ugy8Ta-aeZIyD8Dfvq94AaABAg,Really  admired  your  video  and  it  really  admire  it  your  video  inspire  me      botanicagardening\\nX0QqhFn8HC8,Ugxz9vy5oGrt_lVHyJN4AaABAg,Simply  superb\\nX0QqhFn8HC8,UgydCP5D4BX4jZ8IQ394AaABAg,So  great  \\nX0QqhFn8HC8,UgyRLSiTs3OG4IidPP94AaABAg,Mastch\\nX0QqhFn8HC8,UgzhoPaLmsHowDJUzr54AaABAg,Very  very  good  job  medam            brilliant\\nX0QqhFn8HC8,UgxEtH6BX6EKekMItqx4AaABAg,Big  size  balcony  and  wonderful  decore  with  simple  tricks  \\nX0QqhFn8HC8,UgyWwRipMuvKLA3MC5d4AaABAg,Hey  Hi      It  was  great  looking  transformation      I  have  seen  few  pots  on  wall  above  PVC  pipes      May  I  know  where  u  got  those    I  need  for  my  home  compound  walls      Please  do  helpfull    Once  again  great  vedio    Hoping  to  see  many  more  on  ur  channel  \\nX0QqhFn8HC8,Ugw2yGRE6oPALrgTWHt4AaABAg,Nice  way  to  transform  terrrace          Support  each  other\\nX0QqhFn8HC8,UgxCHnAndz_SLXEdgn54AaABAg,Jeshoos  creations  okasari  chudandi  nachite  subscribe  chesukondi  \\nX0QqhFn8HC8,UgwFQoN_q89TmaYFPPt4AaABAg,Nice  transformation\\nX0QqhFn8HC8,UgyhH2j8XXJ_E2XJeIJ4AaABAg,Very  nice  Suitable  for  dance  class\\nX0QqhFn8HC8,Ugx9v4I6o7IjD72_jJ94AaABAg,You  did  great  Job  but  I  didn  t  understand  how  it  s  work  old  pipe  on  wall\\nX0QqhFn8HC8,Ugy1GGfRKTxPNEi4ScN4AaABAg,Wow        It  is  a  wonderful  project  and  very  well  done        Can  you  let  me  know  where  to  find  that  artificial  lawn    mat  in  chennai    Thanks  in  advance      \\nX0QqhFn8HC8,UgzaTlf1cYAZN8c3IJd4AaABAg,Beautiful          But  only  for  showpiece  not  for  use  in  daily  life          what  about  rain  and  sunlight        with  roof  this  is  room  not  garden  \\nX0QqhFn8HC8,Ugw1lDCZ8MwYKxf4d8B4AaABAg,Very  beautiful\\nX0QqhFn8HC8,UgxbfgPefcqZ4AfTtUV4AaABAg,Very  nice  transformation\\nX0QqhFn8HC8,UgwbmFPLq0ZCd1n7TSF4AaABAg,Hats  off\\nX0QqhFn8HC8,UgwIlKopro-2OlA8C6t4AaABAg,So  it's  very  difficult  to  maintain  the  cleanliness\\nX0QqhFn8HC8,Ugw0zjE6A1hFmYCoxHx4AaABAg,Wowww  amazing      r  u  profational  if  yes      plz  send  detail\\nX0QqhFn8HC8,UgyR5QOWp8qc5lzbVyB4AaABAg,Very  Beautifully  designed        \\nX0QqhFn8HC8,Ugy0Fc1msjgtyRJcbQl4AaABAg,Wawwww    Ausome  dear        Really  beautiful  idea        M  really  impressed  with  your  idea    \\nX0QqhFn8HC8,UgwvLk2f2RXG2jgHDkZ4AaABAg,What  size  is  the  artificial  grass  \\nX0QqhFn8HC8,Ugwi11vku85qxfS_tb94AaABAg,Hi  what  paints  have  u  used  in  floor  plz  share  details\\nX0QqhFn8HC8,UgytJaEhnJDp9aQRkoN4AaABAg,Wow    Excellent  \\nX0QqhFn8HC8,Ugx3WcIRC1A-cHTM1bN4AaABAg,Please  tell  deck  Tile  cost  per  sqft  and  where  u  bought  \\nX0QqhFn8HC8,UgxQDRHp3cssRjGWVCF4AaABAg,Woww  very  nice  garden\\nX0QqhFn8HC8,UgyfNJXFHdZWU-rnMFp4AaABAg,Wow  awesome    no  words      wooden  tiles  1piece  how  much      \\nX0QqhFn8HC8,UgxnxvIvzD6m5Ze2xGd4AaABAg,Where  can  i  get  these  tiles\\nX0QqhFn8HC8,UgwW1jvJ_UIMhfaMmA14AaABAg,Amazing  Yr        Mil  geya  finaly  vo      jaisa  kuch  krna  tha      Thanks      Great  Work      Awesomeeeeeeeee\\nX0QqhFn8HC8,UgzSEbFVJIiQof8u_GB4AaABAg,Beautiful  but  cleaning  could  be  a  issue  for  dusty  places\\nX0QqhFn8HC8,UgwhKOKHayHx3L7pM1N4AaABAg,Great  Work  \\nX0QqhFn8HC8,Ugw4nJ91NRmoBedPKpJ4AaABAg,Wow      just  awesome          IndraniRannagharDailylifestyle    Diwalispecialvlog\\nX0QqhFn8HC8,UgxwXb88SQGEfb4pOnR4AaABAg,is  it  safer  under  sunlight  or  open  area  \\nX0QqhFn8HC8,UgyJ_GB0EnUtd2_Fjfp4AaABAg,Which  paint  to  be  done  on  roof  \\nX0QqhFn8HC8,Ugz5P-WtunRd4rV3Zop4AaABAg,What  is  the  name  of  tiles  variety  \\nX0QqhFn8HC8,UgxTnn96YwnL7_JOlAJ4AaABAg,Great  job    \\nX0QqhFn8HC8,UgxxP4Maw0fYr8WDYE54AaABAg,Very  very  beautiful  \\nX0QqhFn8HC8,Ugx7FbjgHd3fWuLrTX54AaABAg,Simply  awesome  \\nX0QqhFn8HC8,UgwDUc5X8yyLbOLHXkl4AaABAg,Artistic  Suman\\nX0QqhFn8HC8,UgzFDc9hR5ZW7dySnNh4AaABAg,It  s  just  looks  good  for  Indian  class        \\nX0QqhFn8HC8,UgwgGZBtLPF2UVP8YAl4AaABAg,Wow        Can  you  share  the  link  of  that  wooden  look  like  mats        Plz\\nX0QqhFn8HC8,Ugx3IAACxwQroSkMVeB4AaABAg,Wow  so  beautiful  tips  and  gardning  big  lk  \\nX0QqhFn8HC8,Ugyt369wwYV5QiX_FeJ4AaABAg,Great  Job\\nX0QqhFn8HC8,UgzFSfUqKcaAUHZUWud4AaABAg,Wow  superb            very  nice        too  good      \\nX0QqhFn8HC8,UgwQ2xcwrUgQ2dWLzl54AaABAg,Very  very  very  beautiful\\nX0QqhFn8HC8,UgwUlGXPxs_jKurLvHp4AaABAg,How  much  the  total  project  cost  \\nX0QqhFn8HC8,UgxBzhk35nCznjCmQh54AaABAg,How  do  you  ward  off  birds  from  entering  your  space    I  too  have  a  terrace  with  plenty  of  plants  swing  etc    but  birds  pose  a  lot  litter    \\nX0QqhFn8HC8,UgxS6KH8Rja71k6O7O54AaABAg,This        is        so        much        BEAUTIFUL          DIDI\\nX0QqhFn8HC8,UgxGcmCUQNd0OuQKSUh4AaABAg,what  is  the  name  of  the  stand  where  you  keep  Buddha    did  you  buy  it  from  Amazon\\nX0QqhFn8HC8,UgxFVZ4WWkgJS_aXAfl4AaABAg,Very  beautiful    \\nX0QqhFn8HC8,UgwRgN1AqsV_OwLjwkV4AaABAg,Nice  watch        but  didn't  understand  how  does  the  pvc  pipe  help    Is  it  just  the  look    Also  the  pots  over  it  are  they  designed  by  you  or  you  bought  em  like  that  \\nX0QqhFn8HC8,UgwJoW1XGG4D-vgxPJl4AaABAg,We  had  a  similar  one  but  when  it  rains  all  the  water  goes  and  settles  under  the  grass  and  it  doesn't  dry  after  few  days  it  starts  stinking    Later  on  I  had  to  remove  it\\nX0QqhFn8HC8,Ugz-M1MLvcYsZuKpRpl4AaABAg,How  much  is  the  total  costing      Pl  confirm\\nX0QqhFn8HC8,UgyXHYp-cV2n1la6Ub14AaABAg,I  ll  try  at  my  home  as  it  is  \\nX0QqhFn8HC8,Ugx3g-PaSYbIIZ600WN4AaABAg,Which  paint  you  used  \\nX0QqhFn8HC8,UgxEgUrH9GbOGs0hEqF4AaABAg,How  to  maintain    \\nX0QqhFn8HC8,UgwG_I_3rAEA_qqZNql4AaABAg,Loved  it    Your  channel  is  so  underrated\\nX0QqhFn8HC8,UgxhhhjbvkWUernpJiB4AaABAg,During  the  monsoon  how  the  rain  water  is  drained  out  from  that  area\\nX0QqhFn8HC8,UgyeBf_gQfBQTAcHiIZ4AaABAg,Excellent  video  ma'am  Next  time  Plz  use  mask  while  using  spray  paint\\nX0QqhFn8HC8,UgwesmYkJBbvEDh8cVB4AaABAg,Which  material  is  used  on  row    floor  before  putting  all  the  things  \\nX0QqhFn8HC8,UgxV76nGHgIb4SkFoCd4AaABAg,How  much  this  garden  cost\\nX0QqhFn8HC8,UgyDQWV9pK3BCF3nFXJ4AaABAg,Very  cute  and  nice  \\nX0QqhFn8HC8,UgyaoQ1t4sF-R5_PC-d4AaABAg,What  is  the  approximate  cost  incurred  to  create  this  wonder  full  space        \\nX0QqhFn8HC8,Ugw6-jNM9loKf8JutkF4AaABAg,Those  wooden  tiles  which  u  ordered  won't  be  damaged  if  rain  comes  \\nX0QqhFn8HC8,UgwOdoNpuPlTRqREbDl4AaABAg,please  tell  where  you  get  artficial  grass  or  wooden  sides  share  the  link\\nX0QqhFn8HC8,UgxvXsjqH5JmdQjZtdx4AaABAg,We  have  some  questions  What  is  the  cost  of  grass  per  sq  feet    2  size  of  grass  in  mm    like  25mm  35mm  40mm    3  From  which  place  u  bought  this  grass    U  have  done  fabulous  work  very  creative  and  beautiful  Hope  we  get  our  answers  \\nX0QqhFn8HC8,Ugz7Pm7TIj4xEk6UznB4AaABAg,Can  you  pls  tell  how  much  money  was  invested  to  have  such  a  beautiful  terrace  makeover  \\nX0QqhFn8HC8,UgymkDs-E7hJiZ1vgDJ4AaABAg,From  where  did  u  bought  this  grass\\nX0QqhFn8HC8,UgwwgP4eomEYWu4iBLZ4AaABAg,What  are  those  squares  arranged  around  the  grass  \\nX0QqhFn8HC8,UgyQcfeMKQlS3Qic2Gl4AaABAg,Loved  it    What  is  the  paint    What  kind  of  paint  is  this    Can  u  share  that  as  wel\\nX0QqhFn8HC8,UgzRlEpZ8cecbgpOl_B4AaABAg,Very  creative      \\nX0QqhFn8HC8,Ugy3ZrvaaoxXy1HuLlV4AaABAg,Hello    I  just  saw  this  video    You  did  a  great  transformation      I  have  some  products  too    Need  to  discuss  further    Can  we  connect\\nX0QqhFn8HC8,UgxqUY_5nQsmXycBvap4AaABAg,Awesome  idea  sis    \\nX0QqhFn8HC8,UgzbN0H6u9kUEw28bFx4AaABAg,Liked  the  pvc  pipe  pot  Holder  idea\\nX0QqhFn8HC8,Ugx5rxw3YH51E3qTp0R4AaABAg,This  is  anything  but  terrace  garden\\nX0QqhFn8HC8,UgxWhpTidrHiAYZ3rEx4AaABAg,Very  very  nice  A  big  thumbs  up  God  bless  you  Liked  also\\nX0QqhFn8HC8,UgziuyFqdiY--bB4_7p4AaABAg,Nice      Mam  can  u  plz  tell  me  the  size  of  the  artificial  lawn  grass  u  used\\nX0QqhFn8HC8,UgzyAw9i99c0bhCN-sR4AaABAg,Nice  very  nice      I  have  a  similar  Terrace      What  kind  of    paint  did  u  use  for  the    terrace  floor    \\nX0QqhFn8HC8,UgxbsT7-rPtk3uouSAt4AaABAg,Bro  how  much  total  expenses      \\nX0QqhFn8HC8,UgyJ2E4CAsteCT1oOrN4AaABAg,Wow  great  makeover        \\nX0QqhFn8HC8,Ugw5IVNGDvMQPSCg4dN4AaABAg,Request      Please  Mam  share  your  home  tour  video  \\nX0QqhFn8HC8,UgyHDYuetsdsbRbN1Bp4AaABAg,Can  you  tell  me  the  overall  cost  \\nX0QqhFn8HC8,UgynLaT2O2O-2t7hC_B4AaABAg,Looks  good          Already  jnd        Fully  watched        Expect  the  same  friend        \\nX0QqhFn8HC8,Ugznd4w1LP6yjTPa0nR4AaABAg,Beautiful    dear  hum  to  bas  sochte  he  reh  jate        bahut  sundar\\nX0QqhFn8HC8,UgwPs288iXaCdesNjbB4AaABAg,Can  i  know  from  where  did  you  bought  that  bhudha  statue  and  grass\\nX0QqhFn8HC8,UgwffCTZwIkUU-r53kN4AaABAg,Wow  mast  Rooftop  terrace  garden\\nX0QqhFn8HC8,Ugxl4rPQgKeVZ6QAoN54AaABAg,Very  impressive    I  loved  the  idea  of  the  tiles    Cud  you  let  us  know  what  procedure  you  use  for  cleaning  n  maintenance  of  the  spot    Thank  you  \\nX0QqhFn8HC8,Ugw6s_7HsaQNMcZbhLB4AaABAg,Great\\nX0QqhFn8HC8,UgwmB6WF5rAa7jaaal94AaABAg,Very  nice  video  MashAllah\\nX0QqhFn8HC8,UgxWrS9rIc5VQOXGeeV4AaABAg,Start  organic  farming  on  terrace\\nX0QqhFn8HC8,UgxdyUsqFLgt2e0n35Z4AaABAg,U  r  vry  beautiful  bcz  ur  mind  also\\nX0QqhFn8HC8,UgynhScblYmW7Yy697d4AaABAg,Which  paint  you  are  using  for  water  proofing    \\nX0QqhFn8HC8,UgxSr-vumjnj7_A4Rw14AaABAg,Big  lk  dear  nd  I  fully  enjoyed  ur  roof  garden  really  appreciate  my  new  frnd  plz  stay  connected  too    \\nX0QqhFn8HC8,Ugw-6fz44X-SQts0Z7t4AaABAg,Cost  of  the  tiles  u  used          \\nX0QqhFn8HC8,UgzWZq1Re_9XaT7o7w14AaABAg,Can  you  share  the  link  for  the  products  you  bought    can  you  mention  it  in  description  \\nX0QqhFn8HC8,UgxElkEbNmjmsAhjAsB4AaABAg,Total  cost  please\\nX0QqhFn8HC8,UgyX3UB-kPwFO-A6ro54AaABAg,How  to  clean  these  all  stuff    \\nX0QqhFn8HC8,UgzWH3yHf4w6bKbaoPF4AaABAg,Very  nice  dear  full  watch    beautiful  garden    stay  connected  and  join  me  too  \\nX0QqhFn8HC8,Ugwfh5csWwQjdqzZKfx4AaABAg,Transformation  is  amazing    But  it's  better  to  use  newspaper  or  plastic  while  spraying  paint      you  spoiled  that  carpet      \\nX0QqhFn8HC8,Ugxvwd-acEfWBE9Kkg14AaABAg,wow  very  nice  sharing  dear  stay  connected  \\nX0QqhFn8HC8,UgwgLiWGBOq9GTTsYRJ4AaABAg,Could've  been  much  more  Beautiful  like  a  tropical  jungle  with  a  small  pond    anyways  good  job\\nX0QqhFn8HC8,Ugz1DAivffce3c1usQF4AaABAg,Houlw  much  total  works  did  u  costed  by  taking  all  things\\nX0QqhFn8HC8,UgxwXHd77-KB1B2Svw14AaABAg,Where  will  be  the  water  goes  which  u  will  pour  in  the  pots  \\nX0QqhFn8HC8,UgzMHglzSSEx64fpGop4AaABAg,What  about  white  stones    how  can  I  get  it\\nX0QqhFn8HC8,UgygtqpPZ4Op3iavuQh4AaABAg,Really  it's  awesome\\nX0QqhFn8HC8,UgySe3J0Aa8Qd5-HGS94AaABAg,Great  creativity    very  well  planned  and  executed  \\nX0QqhFn8HC8,UgxhdRWrqypHq8VgVpd4AaABAg,hey      what  paint  u  used  of  floor  and      before  paint    how  did  u  filled  the  uneven  sufaces            Plz  tell  me    I'll  try  this  beautiful  transformation  \\nX0QqhFn8HC8,Ugx0BN6QYux-qZzT_fB4AaABAg,Very  Nice    How  much  Money  you  spend    \\nX0QqhFn8HC8,Ugw8mSjnXK8Kiiw0boZ4AaABAg,Where  you  buy  that  wooden  peaces\\nX0QqhFn8HC8,Ugy3wXHMFbCra6KnZQx4AaABAg,The  best  make  over  but  a  small  suggestion  try  to  take  contracts  from  people  and  do  make  overs  ull  make  business  out  of  it\\nX0QqhFn8HC8,UgxbqU7oEohLpzZjw_d4AaABAg,Wow  looking  so  nice\\nX0QqhFn8HC8,Ugw61w3LcxDc5U3CIGd4AaABAg,Nice  organization\\nX0QqhFn8HC8,UgylSnINjIPRyf08t2l4AaABAg,This  won't  last  long  with  the  kind  of  weather  we  have  here    It  will  not  only  get  dirty  but  the  extreme  heat  makes  it  difficult  to  enjoy  such  setups  during  the  day    So  it  only  becomes  a  show  piece  and  nothing  else  \\nX0QqhFn8HC8,UgxdtatPin99Fm3mjyB4AaABAg,What's  the  total  cost  of  items  used\\nX0QqhFn8HC8,UgysqilfQ9ie0arI2eN4AaABAg,Hi  how  should  i  made  pot  i  have  seen  in  this  video  cut  in  the  middle  fixed  on  wall\\nX0QqhFn8HC8,Ugz6GPBTCSP51cU14ph4AaABAg,What  would  be  the  avg  cost  \\nX0QqhFn8HC8,Ugz-uD7CHUvWOSagqpF4AaABAg,Wow  superb\\nX0QqhFn8HC8,UgypAmwPgkp4Zbpi00V4AaABAg,keede  aajayenge  n  cleaning  me  problem  hogi  aur  rainy  season  me  kaise    but  very  creative  work  mam  \\nX0QqhFn8HC8,UgxAh7hHlUFnWS_xzsF4AaABAg,Wow  lovely  \\nX0QqhFn8HC8,UgyCrAZMiAXX9ZWMyFp4AaABAg,Did  u  paint  in  the  first  with  waterproof  paint    \\nX0QqhFn8HC8,UgzC7WkMNLA6veBpK8t4AaABAg,Cool  \\nX0QqhFn8HC8,UgxGK6DacqItXwbEKSF4AaABAg,When  u  have  creative  mind  u  don't  need  to  spend  crores  to  buy  luxurious  house    u  can  made  it  yourself\\nX0QqhFn8HC8,UgyYcIZ3NLQKB-Ybx454AaABAg,I  became  a  fan  of  the  video        and  I  subscribed  ur  channel\\nX0QqhFn8HC8,Ugy0PL537lOnS2uQp714AaABAg,Wow  great  idea  I  am  ur  new  subscriber  I  have  a  doubt  when  rain  comes  it  will  spoil  \\nX0QqhFn8HC8,Ugxq7l2stnq-CnL4y7p4AaABAg,From  where  you  brought  the  pot    in  the  angles\\nX0QqhFn8HC8,UgwUKF5v2iRl5WK46TV4AaABAg,How  much  u  spend  total  cost  pls  replay\\nX0QqhFn8HC8,UgxiGapHhSVCl6XKKCJ4AaABAg,Instead  of  buddha  you  shoud  keep  Ganpati\\nX0QqhFn8HC8,Ugx5oAx77nYskSLwwDV4AaABAg,plz  share  the  dimensions  also  mam\\nX0QqhFn8HC8,UgxyaokH5zvhxkL_Dah4AaABAg,Konse  color  use  kiye  h  apne  flor  k  liye\\nX0QqhFn8HC8,Ugwd9V_lWYg4cJ9Wlop4AaABAg,Very  nice  sister\\nX0QqhFn8HC8,UgyGjR2QPUn20wTvWMJ4AaABAg,this  is  temporary    that  was  permanent  \\nX0QqhFn8HC8,UgwyXTX4938Lihpm3cd4AaABAg,Can  u  pls  tell  how  much  it  costed\\nX0QqhFn8HC8,Ugzk7YjZ9VpvOlHxO0x4AaABAg,Hey  yah          aapne  jo  transformation  kiya  h  terrace  ka    woh  YouTube  pr  available  sbhi  transformations  m  se  sbse  badhiya  h            aapko  ye  transformation  kiye  hue  8  months  ho  gye  hn    ye  wooden  tiles  jo  aapne  lgayi  hn  abhi  bhi  vaisi  hi  hn  ya  weather  ki  wjh  se  khrab  hone  lg  gyi      I  hope  aap  mujhe  iska  jawab  dengi\\nX0QqhFn8HC8,UgzJ-D7tcsYhrJHagq14AaABAg,wow  its  so  beautiful\\nX0QqhFn8HC8,UgwypOAn6anzv6Nj1P54AaABAg,How  do  you  get  those  stones  or  white  marbles\\nX0QqhFn8HC8,UgxYl0hmaZ_JB4arxjN4AaABAg,Very  nice  Thank  u  so  much  dear  for  the  links  too\\nX0QqhFn8HC8,UgyK8DDhf3blQP_HEwJ4AaABAg,Wow  amazing  idea\\nX0QqhFn8HC8,UgwjFiirpag29bCKuUl4AaABAg,Nice  and  creative\\nX0QqhFn8HC8,UgxNuARwBoV20CTsf4B4AaABAg,How  much  cost\\nX0QqhFn8HC8,Ugw2m6K0smuhbZcpeVd4AaABAg,Was  that  a  kitten  in  the  shot  when  you  were  painting  the  pot    \\nX0QqhFn8HC8,UgzjH4A-XhRkEALvszl4AaABAg,  very  very  beautiful\\nX0QqhFn8HC8,Ugw6i65dvXOO3yXRMEt4AaABAg,Big  fan  of  yours\\nX0QqhFn8HC8,UgyqbcfsEs1LbkTgVlZ4AaABAg,Very  beautiful  and  have  a  nice  day\\nX0QqhFn8HC8,Ugz2eysT_svftPySyHB4AaABAg,What's  that  with  the  wooden  things  which  u  put  near  the  grass  mat  \\nX0QqhFn8HC8,UgwXMFpFgJg2JZli5u54AaABAg,Where  I  can  buy  the  pebbles  \\nX0QqhFn8HC8,UgwfPYj2NlJ_o1zVGyh4AaABAg,Hi  can  you  tell  me  How  feet  carpet  mat  you  buyer  for  terrace  which  is  used  by  you  the  same  size\\nX0QqhFn8HC8,UgzbDbKKP8o3ZWJNclp4AaABAg,Really  nice\\nX0QqhFn8HC8,Ugzic9Z5NBTvFC8jgiV4AaABAg,from  where  did  you  get  the  white  beads\\nX0QqhFn8HC8,UgyRhzrpo9IWxbI0k7B4AaABAg,Stay  connected  friend\\nX0QqhFn8HC8,Ugws5uZBM2TUonJW77R4AaABAg,I  am  setting  up  the  same  with  bar        \\nX0QqhFn8HC8,Ugz1xnh8w1YVp2OVged4AaABAg,Everything  is  good  except  too  much  colors  u  should  have  painted  all  the  planter  in  one  color        this  color  issue  is  very  common  among  indians\\nX0QqhFn8HC8,Ugzyh3MAB-0bgdKUaXR4AaABAg,Wow  great\\nX0QqhFn8HC8,UgxFW_cfGzzhjggGr_Z4AaABAg,I  don't  Know  Why  I  Am  Watching  it            for  NO  Reason\\nX0QqhFn8HC8,UgyrZFuCb4C_7bDYZpF4AaABAg,very  spacious\\nX0QqhFn8HC8,UgwVp3kuQSlYlKGZ5Et4AaABAg,how  to  clean  it  in  rain        mud  etc\\nX0QqhFn8HC8,UgwqS-yNI-5VWH8CYCZ4AaABAg,Which  tile  are  u  used    pls  tell  deatailed\\nX0QqhFn8HC8,UgzQNzuc9RnA5pLASvF4AaABAg,All  above  are  artificial        Nature  is  good\\nX0QqhFn8HC8,UgzOEZAttpTA_whPNYR4AaABAg,Money  will  do  everything\\nX0QqhFn8HC8,UgzTkfwSCW0y-D3F7J94AaABAg,buddha  is  not  for  decoration  Respect  is  common  sense\\nX0QqhFn8HC8,Ugyu7RFrPFRzD1zc2Wp4AaABAg,Good  beautiful\\nX0QqhFn8HC8,UgycNmaTiUQAPayuW2h4AaABAg,Please  stop  using  non  biodegradable  material  to  save  this  planet\\nX0QqhFn8HC8,Ugy36c43ucMUS7uFBUN4AaABAg,Can  you  please  tell  me  the  expenditure\\nX0QqhFn8HC8,UgwB8MEVWi-B1tm133B4AaABAg,i'm  a  christian  so  I  prefer  Jesus  head  over  Buddha  \\nX0QqhFn8HC8,Ugy0VyvWhvbk6dpruqN4AaABAg,Beautiful    I  don't  have  covered  roof  top  but  I  really  want  to  doit  I  am  afraid  of  extreme  heat  and  rain  will  spoil  it  \\nX0QqhFn8HC8,UgxWsJPJ4-idCzMd4uh4AaABAg,The  skull  of  budhha  is  in  wrong  place      place  it  higher  level    have  some  respect      U  got  one  Dislike  for  that    \\nX0QqhFn8HC8,UgzlkZ8RXJW58srxNJp4AaABAg,Open  area  mai  artificially  grass  baarish  mai  kharab  to  nhi  hoge\\nX0QqhFn8HC8,UgwFcUI6jD56rTDi_RF4AaABAg,Liked  so  much      welcome  to  my  channel    \\nX0QqhFn8HC8,Ugx8wORetaUeHjs8cIJ4AaABAg,hey  can  you  give  the  link  of  the  budha  head  please\\nX0QqhFn8HC8,Ugzn0TtSaJLDnye1sGd4AaABAg,Whats  the  total  cost  inllvolved  \\nX0QqhFn8HC8,UgwZzqqSVR2fLq_ixFl4AaABAg,R  u  doing  it  as  a  business    pls  give  ur  contact  number\\nX0QqhFn8HC8,UgwMISswLFSf3tMnOvB4AaABAg,In  this  dusty  environment  how  ll  all  this  survive      no  way      \\nX0QqhFn8HC8,UgwsGpfK_z4iCHJdZF54AaABAg,Live  grass  aur  accha  hota\\nX0QqhFn8HC8,UgzwKEiSqbyRSrOSOdh4AaABAg,how  u  manage  in  rainy  season\\nX0QqhFn8HC8,UgyygB-CmHE_Tua9Blh4AaABAg,Products  details  please\\nX0QqhFn8HC8,UgxlM-WDGRHWbLaDNgl4AaABAg,How  much  do  spend  for  this  makeover\\nX0QqhFn8HC8,UgxeYw5gTNB_lRC7TNR4AaABAg,Who  keeps  pots  on  the  sitting  area    it  was  meant  for  sitting\\nX0QqhFn8HC8,UgxtHhW9cMqDFL-2UI94AaABAg,If  ur  married  ur  husband  is  very  lucky\\nX0QqhFn8HC8,UgxQkOKUd0_oc2nuMzh4AaABAg,Cool\\nX0QqhFn8HC8,UgyOTlTUMM590BPHHSd4AaABAg,What  is  the  total  cost  comes  of  its  \\nX0QqhFn8HC8,Ugw3MNRqtyrQ4zcXHt94AaABAg,What  about  budda  where  did  u  buy      Need  the  link\\nX0QqhFn8HC8,UgwXCUNYeu-D2ycLlFh4AaABAg,Placement  of  plants  is  not  good    It  does  not  suits  at  all  \\nX0QqhFn8HC8,UgxY_3q4DgwqO_MSAPl4AaABAg,Apnae  artificial  grass  ke  price  kitnae  h\\nX0QqhFn8HC8,UgytXgQ48-RgjYWzl114AaABAg,Not  upto  the  mark\\nX0QqhFn8HC8,Ugy3qyQFefnbT3h9Zut4AaABAg,Price  please        \\nX0QqhFn8HC8,UgztyxQmeZAfqQGBWip4AaABAg,Do  u  have  your  roof  covered  at  top    \\nX0QqhFn8HC8,Ugwte2QC_76g9QHbN4Z4AaABAg,Very  very  nice          but  so  expensive  \\nX0QqhFn8HC8,UgyHEUAXfo7ufGFl66t4AaABAg,Good  decorations  pls  tell  me  apnae  yeh  black  pipe  kae  upar  joh  flower  pot  rakha  hai  aap  nae  yeh  kaha  sae  purchase  kiye  hai      pls  share  me\\nX0QqhFn8HC8,UgzHFIIeqXCX_lRS9qB4AaABAg,Pehla  video  he  youtube  par  good  job\\nX0QqhFn8HC8,Ugxx59vjtJ2dyT0w0zd4AaABAg,How  much  budget\\nX0QqhFn8HC8,Ugy3Sd18B9CSaUDxVLd4AaABAg,Instead  u  could  guide  us  by  how  u  did  it  n  cost\\nX0QqhFn8HC8,Ugxen1jCqu2GNmSYbdd4AaABAg,Creative  mind  but  barish  me  kya  hoga  \\nX0QqhFn8HC8,UgzziPhmXwLC8Aax3FV4AaABAg,Ur  ideas  very  good\\nX0QqhFn8HC8,UgwsWDI8sgkVZSEEepd4AaABAg,What  about  in  rainy  season  \\nX0QqhFn8HC8,UgwIVyY060SN2Vs-szJ4AaABAg,U  have  an  eye  4  beauty\\nX0QqhFn8HC8,UgxEPxwi9_FcgH-Cxvt4AaABAg,white  kya  paint  kiya  h  terrace  pr  apne        \\nX0QqhFn8HC8,Ugwgfh3npX3r6Ry3B1V4AaABAg,Namaste    if  possible    pl  give  contact  number\\nX0QqhFn8HC8,Ugw3Ij22lgOOHxTamYt4AaABAg,I  will  try\\nX0QqhFn8HC8,UgxZZ5omFbTe9vr7GuR4AaABAg,Subscribed    hoping  the  same  from  u\\nX0QqhFn8HC8,UgzZ5WuvS5DwkNkWP4J4AaABAg,Very  nice  idea  I  and  looking  really  so  good  aap  jab  blackpot  per  golden  paint  kar  rahe  the  sath  mein  cat  Apne  bed  per  so  rahi  thi  vah  showpiece  dobara  dikhao  aur  vah  kahan  se  liya  please  link  share  karna\\nX0QqhFn8HC8,UgzATpC0AGO1ngXHwPR4AaABAg,I  thought  the  grass  is  real  but  it's  fake\\nX0QqhFn8HC8,UgzF9_K_q58jLXei-9d4AaABAg,Greetings  from  Me\\nX0QqhFn8HC8,Ugzr4EuCS3gcYGNuB4l4AaABAg,hi  guys  the  video  is  overall  good  but  there  is  a  lot  of  use  plastic  which  is  not  biodegradable    don't  be  offended  but  pls  for  our  planet  make  less  use  of  this    thank  u    being  a  teen  I  wrote  this  \\nX0QqhFn8HC8,UgwPQ4mH41cbXscvfb94AaABAg,Want  to  know  about  maintain\\nX0QqhFn8HC8,Ugy39rMiD-soJ5rn4d14AaABAg,Where  u  perches  this  tops\\nX0QqhFn8HC8,Ugz_xEZB-tlZgKTS8JN4AaABAg,Roof  par  white  color  me  kya  paint  kiya  hai  \\nX0QqhFn8HC8,UgzEHG9XtL3dryiYQZJ4AaABAg,Hii    Just  want  know  about  details    To  get  the  things\\nX0QqhFn8HC8,UgzjrPLtfcDJldYN8zp4AaABAg,How  much  did  it  cost                          \\nX0QqhFn8HC8,Ugzwvi3iJhBKmvKoD9x4AaABAg,Wow  Nice    Artificial  Grass      Wooden  Tiles  Hamary  Pas  Mojod  hen        Hamary  kam  ko  bhi  zror  check  karen\\nX0QqhFn8HC8,Ugw9WjGVqAhui71t3oN4AaABAg,What  about  rainy  season\\nX0QqhFn8HC8,UgzgNiYoX648h7IjYE14AaABAg,Fake  grass    How  sad\\nX0QqhFn8HC8,UgzVhQipVz42qBaOwz14AaABAg,Nice  ideas\\nX0QqhFn8HC8,UgwDhKfZzc2476vmtVx4AaABAg,apna  ghar  ho  to  accha  h  flat  h  or  wo  bhi  transfer  wali  job  koi  kaise  kare  yha  to  terrace  h  hi  nhi  \\nX0QqhFn8HC8,UgzDNJKfor8qd9uMyRB4AaABAg,How  to  mange  wen  rain  cme\\nX0QqhFn8HC8,Ugwv1dAxZEWGneykzNh4AaABAg,Have  watched  1st  video  and  subscribed\\nX0QqhFn8HC8,UgwFp3QdXK9qaeOwL_h4AaABAg,Things  to  Consider  Before  Buying  a  Sofa      JNS  styleliving      https      youtu  be  2bUatelkmIQ\\nX0QqhFn8HC8,UgyO2VecFdb335V0Qa54AaABAg,Kindly  mention  your  lawn  size\\nX0QqhFn8HC8,Ugx8RSpHrg8hq4zgh3B4AaABAg,This  is  not  DIY    This  is  expensive  and  time  consuming  work    It  would  need  atleast  2  full  days  of  dedication  by  a  professional  and  30k  amount  to  buy  the  items  which  can  only  be  bought  from  internet  That  demands  extra  time  for  arrival    This  is  not  DIY  Stop  misleading  people  with  catchy  heading  \\nX0QqhFn8HC8,UgwEYoRGSf3I1n7Vysl4AaABAg,Nice    aap  ki  video  bhaut  achi  hai  please  aap  meri  coking  channel  ko  subscribe  karein\\nX0QqhFn8HC8,UgyXxQgAYoktc2F8mr54AaABAg,Which  place\\nX0QqhFn8HC8,Ugym4d00yaEHW7Ueu5F4AaABAg,If  it  rains    what  will  you  do\\nX0QqhFn8HC8,UgzyghsPXG4ai6Oa7ol4AaABAg,I  think  there  is  Lot's  of  points  more  improve  and  look  better  than  this  \\nX0QqhFn8HC8,Ugwvx_z048i5iYWzdf94AaABAg,Area  of  garden\\nX0QqhFn8HC8,UgwNEUL8kMLPuGszMPF4AaABAg,What  is  white  white  thing    \\nX0QqhFn8HC8,Ugwtv8i5DS7WqmQ6NFl4AaABAg,Niceeee      But  sorry  mujhse  apka  comment  galti  se  delete  ho  gaya  \\nX0QqhFn8HC8,UgysklBP5n5xAuYzFfJ4AaABAg,Ha  mar  a  terrace  garden  bananake  koyi  specialist  contact  number  Available  hai  \\nX0QqhFn8HC8,UgyZDtRidQAB1n6nc9Z4AaABAg,Common\\nX0QqhFn8HC8,UgyrOV6o7vLJu9NMzSh4AaABAg,If  it  rains\\nX0QqhFn8HC8,UgwTAhWKUyRJ2BUd4bd4AaABAg,If  it  rains  Ma'am    \\nX0QqhFn8HC8,UgyKIAESyEApIeSmkU54AaABAg,Not  much  natural        \\nX0QqhFn8HC8,Ugxv478lPmziNxzQ52B4AaABAg,This  looks  so  fake  \\nX0QqhFn8HC8,UgyjaMgIQ0q7chSYVap4AaABAg,Your  job  is  not  fair    We  warship  our  lord  buddha    That  stachu  is  not  decorating  things    \\n\"}\n",
            "Dataset (1).csv\n"
          ],
          "name": "stdout"
        }
      ]
    },
    {
      "cell_type": "code",
      "metadata": {
        "trusted": true,
        "id": "8oQ_G11BfOP2",
        "colab": {
          "base_uri": "https://localhost:8080/",
          "height": 204
        },
        "outputId": "1140e01e-f430-4761-e5cf-aeb6aa2a03cf"
      },
      "source": [
        "data.head()"
      ],
      "execution_count": null,
      "outputs": [
        {
          "output_type": "execute_result",
          "data": {
            "text/html": [
              "<div>\n",
              "<style scoped>\n",
              "    .dataframe tbody tr th:only-of-type {\n",
              "        vertical-align: middle;\n",
              "    }\n",
              "\n",
              "    .dataframe tbody tr th {\n",
              "        vertical-align: top;\n",
              "    }\n",
              "\n",
              "    .dataframe thead th {\n",
              "        text-align: right;\n",
              "    }\n",
              "</style>\n",
              "<table border=\"1\" class=\"dataframe\">\n",
              "  <thead>\n",
              "    <tr style=\"text-align: right;\">\n",
              "      <th></th>\n",
              "      <th>Video ID</th>\n",
              "      <th>Comment ID</th>\n",
              "      <th>comments</th>\n",
              "    </tr>\n",
              "  </thead>\n",
              "  <tbody>\n",
              "    <tr>\n",
              "      <th>0</th>\n",
              "      <td>X0QqhFn8HC8</td>\n",
              "      <td>UgzXdPa8VDAONLbcze14AaABAg</td>\n",
              "      <td>It  seems  beautiful    But  it's  not  really...</td>\n",
              "    </tr>\n",
              "    <tr>\n",
              "      <th>1</th>\n",
              "      <td>X0QqhFn8HC8</td>\n",
              "      <td>Ugy02yrrzpOdJpKYqPN4AaABAg</td>\n",
              "      <td>This  will  work  for  indoor  balcony    It  ...</td>\n",
              "    </tr>\n",
              "    <tr>\n",
              "      <th>2</th>\n",
              "      <td>X0QqhFn8HC8</td>\n",
              "      <td>Ugw1hcO3btXLPL-d1Ot4AaABAg</td>\n",
              "      <td>oh  my  my  such  a  beautiful  transformation...</td>\n",
              "    </tr>\n",
              "    <tr>\n",
              "      <th>3</th>\n",
              "      <td>X0QqhFn8HC8</td>\n",
              "      <td>Ugw9zPJZJ1d4-dHUbJV4AaABAg</td>\n",
              "      <td>Best  part  is  she  is  not  wasting  time  i...</td>\n",
              "    </tr>\n",
              "    <tr>\n",
              "      <th>4</th>\n",
              "      <td>X0QqhFn8HC8</td>\n",
              "      <td>UgxNSYUqKZ-fFDIqp3x4AaABAg</td>\n",
              "      <td>Beautiful  garden    Can't  see  this  garden ...</td>\n",
              "    </tr>\n",
              "  </tbody>\n",
              "</table>\n",
              "</div>"
            ],
            "text/plain": [
              "      Video ID  ...                                           comments\n",
              "0  X0QqhFn8HC8  ...  It  seems  beautiful    But  it's  not  really...\n",
              "1  X0QqhFn8HC8  ...  This  will  work  for  indoor  balcony    It  ...\n",
              "2  X0QqhFn8HC8  ...  oh  my  my  such  a  beautiful  transformation...\n",
              "3  X0QqhFn8HC8  ...  Best  part  is  she  is  not  wasting  time  i...\n",
              "4  X0QqhFn8HC8  ...  Beautiful  garden    Can't  see  this  garden ...\n",
              "\n",
              "[5 rows x 3 columns]"
            ]
          },
          "metadata": {
            "tags": []
          },
          "execution_count": 9
        }
      ]
    },
    {
      "cell_type": "code",
      "metadata": {
        "trusted": true,
        "id": "yAKqx7vafOP6",
        "colab": {
          "base_uri": "https://localhost:8080/"
        },
        "outputId": "fddbead3-0944-4096-d337-236b185525f3"
      },
      "source": [
        "data.shape"
      ],
      "execution_count": null,
      "outputs": [
        {
          "output_type": "execute_result",
          "data": {
            "text/plain": [
              "(429, 3)"
            ]
          },
          "metadata": {
            "tags": []
          },
          "execution_count": 10
        }
      ]
    },
    {
      "cell_type": "code",
      "metadata": {
        "trusted": true,
        "id": "r4vXRYZxfOQH"
      },
      "source": [
        "data['polarity'] = data['comments'].apply(lambda x: TextBlob(x).sentiment.polarity)"
      ],
      "execution_count": null,
      "outputs": []
    },
    {
      "cell_type": "code",
      "metadata": {
        "trusted": true,
        "id": "F3VyASGDfOQL",
        "colab": {
          "base_uri": "https://localhost:8080/",
          "height": 204
        },
        "outputId": "26e93238-957c-4178-f322-6f18cc77eded"
      },
      "source": [
        "data.head()"
      ],
      "execution_count": null,
      "outputs": [
        {
          "output_type": "execute_result",
          "data": {
            "text/html": [
              "<div>\n",
              "<style scoped>\n",
              "    .dataframe tbody tr th:only-of-type {\n",
              "        vertical-align: middle;\n",
              "    }\n",
              "\n",
              "    .dataframe tbody tr th {\n",
              "        vertical-align: top;\n",
              "    }\n",
              "\n",
              "    .dataframe thead th {\n",
              "        text-align: right;\n",
              "    }\n",
              "</style>\n",
              "<table border=\"1\" class=\"dataframe\">\n",
              "  <thead>\n",
              "    <tr style=\"text-align: right;\">\n",
              "      <th></th>\n",
              "      <th>Video ID</th>\n",
              "      <th>Comment ID</th>\n",
              "      <th>comments</th>\n",
              "      <th>polarity</th>\n",
              "    </tr>\n",
              "  </thead>\n",
              "  <tbody>\n",
              "    <tr>\n",
              "      <th>0</th>\n",
              "      <td>X0QqhFn8HC8</td>\n",
              "      <td>UgzXdPa8VDAONLbcze14AaABAg</td>\n",
              "      <td>It  seems  beautiful    But  it's  not  really...</td>\n",
              "      <td>0.0250</td>\n",
              "    </tr>\n",
              "    <tr>\n",
              "      <th>1</th>\n",
              "      <td>X0QqhFn8HC8</td>\n",
              "      <td>Ugy02yrrzpOdJpKYqPN4AaABAg</td>\n",
              "      <td>This  will  work  for  indoor  balcony    It  ...</td>\n",
              "      <td>-0.4875</td>\n",
              "    </tr>\n",
              "    <tr>\n",
              "      <th>2</th>\n",
              "      <td>X0QqhFn8HC8</td>\n",
              "      <td>Ugw1hcO3btXLPL-d1Ot4AaABAg</td>\n",
              "      <td>oh  my  my  such  a  beautiful  transformation...</td>\n",
              "      <td>0.4250</td>\n",
              "    </tr>\n",
              "    <tr>\n",
              "      <th>3</th>\n",
              "      <td>X0QqhFn8HC8</td>\n",
              "      <td>Ugw9zPJZJ1d4-dHUbJV4AaABAg</td>\n",
              "      <td>Best  part  is  she  is  not  wasting  time  i...</td>\n",
              "      <td>0.7500</td>\n",
              "    </tr>\n",
              "    <tr>\n",
              "      <th>4</th>\n",
              "      <td>X0QqhFn8HC8</td>\n",
              "      <td>UgxNSYUqKZ-fFDIqp3x4AaABAg</td>\n",
              "      <td>Beautiful  garden    Can't  see  this  garden ...</td>\n",
              "      <td>0.8500</td>\n",
              "    </tr>\n",
              "  </tbody>\n",
              "</table>\n",
              "</div>"
            ],
            "text/plain": [
              "      Video ID  ... polarity\n",
              "0  X0QqhFn8HC8  ...   0.0250\n",
              "1  X0QqhFn8HC8  ...  -0.4875\n",
              "2  X0QqhFn8HC8  ...   0.4250\n",
              "3  X0QqhFn8HC8  ...   0.7500\n",
              "4  X0QqhFn8HC8  ...   0.8500\n",
              "\n",
              "[5 rows x 4 columns]"
            ]
          },
          "metadata": {
            "tags": []
          },
          "execution_count": 12
        }
      ]
    },
    {
      "cell_type": "markdown",
      "metadata": {
        "id": "aff7dlQffOQS"
      },
      "source": [
        "## Shuffle the dataset"
      ]
    },
    {
      "cell_type": "code",
      "metadata": {
        "trusted": true,
        "id": "fAvRRLZZfOQS"
      },
      "source": [
        "data = data.sample(frac=1).reset_index(drop=True)"
      ],
      "execution_count": null,
      "outputs": []
    },
    {
      "cell_type": "code",
      "metadata": {
        "trusted": true,
        "id": "b3l65gBXfOQV"
      },
      "source": [
        "data['pol_cat']  = 0"
      ],
      "execution_count": null,
      "outputs": []
    },
    {
      "cell_type": "markdown",
      "metadata": {
        "id": "5eApxikxfOQX"
      },
      "source": [
        "Continuous to categorical"
      ]
    },
    {
      "cell_type": "code",
      "metadata": {
        "trusted": true,
        "id": "FjSukaWYfOQY"
      },
      "source": [
        "# data['pol_cat'][data.polarity == 0] = 0\n",
        "data['pol_cat'][data.polarity > 0] = 1\n",
        "data['pol_cat'][data.polarity <= 0] = -1\n"
      ],
      "execution_count": null,
      "outputs": []
    },
    {
      "cell_type": "code",
      "metadata": {
        "trusted": true,
        "id": "UqA764VKfOQh",
        "colab": {
          "base_uri": "https://localhost:8080/",
          "height": 204
        },
        "outputId": "c983baa3-02d9-4ff8-f196-6f7d31be21cb"
      },
      "source": [
        "data.head()"
      ],
      "execution_count": null,
      "outputs": [
        {
          "output_type": "execute_result",
          "data": {
            "text/html": [
              "<div>\n",
              "<style scoped>\n",
              "    .dataframe tbody tr th:only-of-type {\n",
              "        vertical-align: middle;\n",
              "    }\n",
              "\n",
              "    .dataframe tbody tr th {\n",
              "        vertical-align: top;\n",
              "    }\n",
              "\n",
              "    .dataframe thead th {\n",
              "        text-align: right;\n",
              "    }\n",
              "</style>\n",
              "<table border=\"1\" class=\"dataframe\">\n",
              "  <thead>\n",
              "    <tr style=\"text-align: right;\">\n",
              "      <th></th>\n",
              "      <th>Video ID</th>\n",
              "      <th>Comment ID</th>\n",
              "      <th>comments</th>\n",
              "      <th>polarity</th>\n",
              "      <th>pol_cat</th>\n",
              "    </tr>\n",
              "  </thead>\n",
              "  <tbody>\n",
              "    <tr>\n",
              "      <th>0</th>\n",
              "      <td>X0QqhFn8HC8</td>\n",
              "      <td>Ugwh9Aq_Kewa3Ip4QkR4AaABAg</td>\n",
              "      <td>Hey  make  the  video  with  voice  over  maam...</td>\n",
              "      <td>0.000</td>\n",
              "      <td>-1</td>\n",
              "    </tr>\n",
              "    <tr>\n",
              "      <th>1</th>\n",
              "      <td>X0QqhFn8HC8</td>\n",
              "      <td>Ugyx5yzPaDBxji5AitF4AaABAg</td>\n",
              "      <td>Beautiful    How  many  Rs  this  grass  lawn</td>\n",
              "      <td>0.675</td>\n",
              "      <td>1</td>\n",
              "    </tr>\n",
              "    <tr>\n",
              "      <th>2</th>\n",
              "      <td>X0QqhFn8HC8</td>\n",
              "      <td>UgyRCRjOT_t7CG2SN9N4AaABAg</td>\n",
              "      <td>Its  beautifull  my  mom  would  definately  l...</td>\n",
              "      <td>0.500</td>\n",
              "      <td>1</td>\n",
              "    </tr>\n",
              "    <tr>\n",
              "      <th>3</th>\n",
              "      <td>X0QqhFn8HC8</td>\n",
              "      <td>Ugxvwd-acEfWBE9Kkg14AaABAg</td>\n",
              "      <td>wow  very  nice  sharing  dear  stay  connected</td>\n",
              "      <td>0.440</td>\n",
              "      <td>1</td>\n",
              "    </tr>\n",
              "    <tr>\n",
              "      <th>4</th>\n",
              "      <td>X0QqhFn8HC8</td>\n",
              "      <td>UgyYcIZ3NLQKB-Ybx454AaABAg</td>\n",
              "      <td>I  became  a  fan  of  the  video        and  ...</td>\n",
              "      <td>0.000</td>\n",
              "      <td>-1</td>\n",
              "    </tr>\n",
              "  </tbody>\n",
              "</table>\n",
              "</div>"
            ],
            "text/plain": [
              "      Video ID                  Comment ID  ... polarity  pol_cat\n",
              "0  X0QqhFn8HC8  Ugwh9Aq_Kewa3Ip4QkR4AaABAg  ...    0.000       -1\n",
              "1  X0QqhFn8HC8  Ugyx5yzPaDBxji5AitF4AaABAg  ...    0.675        1\n",
              "2  X0QqhFn8HC8  UgyRCRjOT_t7CG2SN9N4AaABAg  ...    0.500        1\n",
              "3  X0QqhFn8HC8  Ugxvwd-acEfWBE9Kkg14AaABAg  ...    0.440        1\n",
              "4  X0QqhFn8HC8  UgyYcIZ3NLQKB-Ybx454AaABAg  ...    0.000       -1\n",
              "\n",
              "[5 rows x 5 columns]"
            ]
          },
          "metadata": {
            "tags": []
          },
          "execution_count": 16
        }
      ]
    },
    {
      "cell_type": "code",
      "metadata": {
        "trusted": true,
        "id": "HjyjS1yqfOQx",
        "colab": {
          "base_uri": "https://localhost:8080/"
        },
        "outputId": "a082077d-a9af-4e73-910d-a79a0c5a30f8"
      },
      "source": [
        "data['pol_cat'].value_counts()"
      ],
      "execution_count": null,
      "outputs": [
        {
          "output_type": "execute_result",
          "data": {
            "text/plain": [
              " 1    287\n",
              "-1    142\n",
              "Name: pol_cat, dtype: int64"
            ]
          },
          "metadata": {
            "tags": []
          },
          "execution_count": 17
        }
      ]
    },
    {
      "cell_type": "markdown",
      "metadata": {
        "id": "GUaFvHcLfOQ2"
      },
      "source": [
        "Create separate dataframes for Negative,Positive & Neutral comments "
      ]
    },
    {
      "cell_type": "code",
      "metadata": {
        "trusted": true,
        "id": "AFKmSBwcfOQ3"
      },
      "source": [
        "data_pos = data[data['pol_cat'] == 1]\n",
        "data_pos = data_pos.reset_index(drop = True)\n",
        "\n",
        "data_neg = data[data['pol_cat'] == -1]\n",
        "data_neg = data_neg.reset_index(drop = True)\n",
        "\n",
        "# data_neutral = data[data['pol_cat'] == 0]\n",
        "# data_neutral = data_neutral.reset_index(drop = True)"
      ],
      "execution_count": null,
      "outputs": []
    },
    {
      "cell_type": "code",
      "metadata": {
        "trusted": true,
        "id": "viYbRp2ifOQ-",
        "colab": {
          "base_uri": "https://localhost:8080/",
          "height": 204
        },
        "outputId": "5954fc70-4a42-4de7-e882-e02d627cb18e"
      },
      "source": [
        "data_pos.head()"
      ],
      "execution_count": null,
      "outputs": [
        {
          "output_type": "execute_result",
          "data": {
            "text/html": [
              "<div>\n",
              "<style scoped>\n",
              "    .dataframe tbody tr th:only-of-type {\n",
              "        vertical-align: middle;\n",
              "    }\n",
              "\n",
              "    .dataframe tbody tr th {\n",
              "        vertical-align: top;\n",
              "    }\n",
              "\n",
              "    .dataframe thead th {\n",
              "        text-align: right;\n",
              "    }\n",
              "</style>\n",
              "<table border=\"1\" class=\"dataframe\">\n",
              "  <thead>\n",
              "    <tr style=\"text-align: right;\">\n",
              "      <th></th>\n",
              "      <th>Video ID</th>\n",
              "      <th>Comment ID</th>\n",
              "      <th>comments</th>\n",
              "      <th>polarity</th>\n",
              "      <th>pol_cat</th>\n",
              "    </tr>\n",
              "  </thead>\n",
              "  <tbody>\n",
              "    <tr>\n",
              "      <th>0</th>\n",
              "      <td>X0QqhFn8HC8</td>\n",
              "      <td>Ugyx5yzPaDBxji5AitF4AaABAg</td>\n",
              "      <td>Beautiful    How  many  Rs  this  grass  lawn</td>\n",
              "      <td>0.675</td>\n",
              "      <td>1</td>\n",
              "    </tr>\n",
              "    <tr>\n",
              "      <th>1</th>\n",
              "      <td>X0QqhFn8HC8</td>\n",
              "      <td>UgyRCRjOT_t7CG2SN9N4AaABAg</td>\n",
              "      <td>Its  beautifull  my  mom  would  definately  l...</td>\n",
              "      <td>0.500</td>\n",
              "      <td>1</td>\n",
              "    </tr>\n",
              "    <tr>\n",
              "      <th>2</th>\n",
              "      <td>X0QqhFn8HC8</td>\n",
              "      <td>Ugxvwd-acEfWBE9Kkg14AaABAg</td>\n",
              "      <td>wow  very  nice  sharing  dear  stay  connected</td>\n",
              "      <td>0.440</td>\n",
              "      <td>1</td>\n",
              "    </tr>\n",
              "    <tr>\n",
              "      <th>3</th>\n",
              "      <td>X0QqhFn8HC8</td>\n",
              "      <td>Ugx1LNru60I5hUbIFZN4AaABAg</td>\n",
              "      <td>Such  a  beautiful  work</td>\n",
              "      <td>0.425</td>\n",
              "      <td>1</td>\n",
              "    </tr>\n",
              "    <tr>\n",
              "      <th>4</th>\n",
              "      <td>X0QqhFn8HC8</td>\n",
              "      <td>Ugxx_EpilknHAulTc_t4AaABAg</td>\n",
              "      <td>wonderful          greetings  from  Germany</td>\n",
              "      <td>1.000</td>\n",
              "      <td>1</td>\n",
              "    </tr>\n",
              "  </tbody>\n",
              "</table>\n",
              "</div>"
            ],
            "text/plain": [
              "      Video ID                  Comment ID  ... polarity  pol_cat\n",
              "0  X0QqhFn8HC8  Ugyx5yzPaDBxji5AitF4AaABAg  ...    0.675        1\n",
              "1  X0QqhFn8HC8  UgyRCRjOT_t7CG2SN9N4AaABAg  ...    0.500        1\n",
              "2  X0QqhFn8HC8  Ugxvwd-acEfWBE9Kkg14AaABAg  ...    0.440        1\n",
              "3  X0QqhFn8HC8  Ugx1LNru60I5hUbIFZN4AaABAg  ...    0.425        1\n",
              "4  X0QqhFn8HC8  Ugxx_EpilknHAulTc_t4AaABAg  ...    1.000        1\n",
              "\n",
              "[5 rows x 5 columns]"
            ]
          },
          "metadata": {
            "tags": []
          },
          "execution_count": 19
        }
      ]
    },
    {
      "cell_type": "code",
      "metadata": {
        "trusted": true,
        "id": "LMQlLiuhfORF",
        "colab": {
          "base_uri": "https://localhost:8080/"
        },
        "outputId": "5f89ca46-427b-43da-e37a-12b4f90f97c1"
      },
      "source": [
        "data_pos.shape"
      ],
      "execution_count": null,
      "outputs": [
        {
          "output_type": "execute_result",
          "data": {
            "text/plain": [
              "(287, 5)"
            ]
          },
          "metadata": {
            "tags": []
          },
          "execution_count": 20
        }
      ]
    },
    {
      "cell_type": "code",
      "metadata": {
        "trusted": true,
        "id": "uEpv5BBDfORJ",
        "colab": {
          "base_uri": "https://localhost:8080/",
          "height": 204
        },
        "outputId": "abfbf2d5-f29d-4713-fb83-e0b6eb19da96"
      },
      "source": [
        "data_neg.head()"
      ],
      "execution_count": null,
      "outputs": [
        {
          "output_type": "execute_result",
          "data": {
            "text/html": [
              "<div>\n",
              "<style scoped>\n",
              "    .dataframe tbody tr th:only-of-type {\n",
              "        vertical-align: middle;\n",
              "    }\n",
              "\n",
              "    .dataframe tbody tr th {\n",
              "        vertical-align: top;\n",
              "    }\n",
              "\n",
              "    .dataframe thead th {\n",
              "        text-align: right;\n",
              "    }\n",
              "</style>\n",
              "<table border=\"1\" class=\"dataframe\">\n",
              "  <thead>\n",
              "    <tr style=\"text-align: right;\">\n",
              "      <th></th>\n",
              "      <th>Video ID</th>\n",
              "      <th>Comment ID</th>\n",
              "      <th>comments</th>\n",
              "      <th>polarity</th>\n",
              "      <th>pol_cat</th>\n",
              "    </tr>\n",
              "  </thead>\n",
              "  <tbody>\n",
              "    <tr>\n",
              "      <th>0</th>\n",
              "      <td>X0QqhFn8HC8</td>\n",
              "      <td>Ugwh9Aq_Kewa3Ip4QkR4AaABAg</td>\n",
              "      <td>Hey  make  the  video  with  voice  over  maam...</td>\n",
              "      <td>0.0</td>\n",
              "      <td>-1</td>\n",
              "    </tr>\n",
              "    <tr>\n",
              "      <th>1</th>\n",
              "      <td>X0QqhFn8HC8</td>\n",
              "      <td>UgyYcIZ3NLQKB-Ybx454AaABAg</td>\n",
              "      <td>I  became  a  fan  of  the  video        and  ...</td>\n",
              "      <td>0.0</td>\n",
              "      <td>-1</td>\n",
              "    </tr>\n",
              "    <tr>\n",
              "      <th>2</th>\n",
              "      <td>X0QqhFn8HC8</td>\n",
              "      <td>UgycNmaTiUQAPayuW2h4AaABAg</td>\n",
              "      <td>Please  stop  using  non  biodegradable  mater...</td>\n",
              "      <td>0.0</td>\n",
              "      <td>-1</td>\n",
              "    </tr>\n",
              "    <tr>\n",
              "      <th>3</th>\n",
              "      <td>X0QqhFn8HC8</td>\n",
              "      <td>UgyXHYp-cV2n1la6Ub14AaABAg</td>\n",
              "      <td>I  ll  try  at  my  home  as  it  is</td>\n",
              "      <td>0.0</td>\n",
              "      <td>-1</td>\n",
              "    </tr>\n",
              "    <tr>\n",
              "      <th>4</th>\n",
              "      <td>X0QqhFn8HC8</td>\n",
              "      <td>Ugw6-jNM9loKf8JutkF4AaABAg</td>\n",
              "      <td>Those  wooden  tiles  which  u  ordered  won't...</td>\n",
              "      <td>0.0</td>\n",
              "      <td>-1</td>\n",
              "    </tr>\n",
              "  </tbody>\n",
              "</table>\n",
              "</div>"
            ],
            "text/plain": [
              "      Video ID                  Comment ID  ... polarity  pol_cat\n",
              "0  X0QqhFn8HC8  Ugwh9Aq_Kewa3Ip4QkR4AaABAg  ...      0.0       -1\n",
              "1  X0QqhFn8HC8  UgyYcIZ3NLQKB-Ybx454AaABAg  ...      0.0       -1\n",
              "2  X0QqhFn8HC8  UgycNmaTiUQAPayuW2h4AaABAg  ...      0.0       -1\n",
              "3  X0QqhFn8HC8  UgyXHYp-cV2n1la6Ub14AaABAg  ...      0.0       -1\n",
              "4  X0QqhFn8HC8  Ugw6-jNM9loKf8JutkF4AaABAg  ...      0.0       -1\n",
              "\n",
              "[5 rows x 5 columns]"
            ]
          },
          "metadata": {
            "tags": []
          },
          "execution_count": 21
        }
      ]
    },
    {
      "cell_type": "code",
      "metadata": {
        "trusted": true,
        "id": "Zv_eLUh8fORS",
        "colab": {
          "base_uri": "https://localhost:8080/",
          "height": 35
        },
        "outputId": "2ae2bc31-d5e4-4dca-8e6a-7279bf9cb558"
      },
      "source": [
        "data_neg['comments'][40]"
      ],
      "execution_count": null,
      "outputs": [
        {
          "output_type": "execute_result",
          "data": {
            "application/vnd.google.colaboratory.intrinsic+json": {
              "type": "string"
            },
            "text/plain": [
              "'Do  u  have  a  shade  overhead    How  do  you  manage  during  heavy  rains    What  paint  did  u  use  for  the  terrace  floor  '"
            ]
          },
          "metadata": {
            "tags": []
          },
          "execution_count": 22
        }
      ]
    },
    {
      "cell_type": "code",
      "metadata": {
        "trusted": true,
        "id": "-Js16up1fORW",
        "colab": {
          "base_uri": "https://localhost:8080/",
          "height": 319
        },
        "outputId": "9432391b-7c16-4464-b983-79206f94f459"
      },
      "source": [
        "data.pol_cat.value_counts().plot.bar()\n",
        "data.pol_cat.value_counts()"
      ],
      "execution_count": null,
      "outputs": [
        {
          "output_type": "execute_result",
          "data": {
            "text/plain": [
              " 1    287\n",
              "-1    142\n",
              "Name: pol_cat, dtype: int64"
            ]
          },
          "metadata": {
            "tags": []
          },
          "execution_count": 23
        },
        {
          "output_type": "display_data",
          "data": {
            "image/png": "[encoded data removed]",
            "text/plain": [
              "<Figure size 432x288 with 1 Axes>"
            ]
          },
          "metadata": {
            "tags": [],
            "needs_background": "light"
          }
        }
      ]
    },
    {
      "cell_type": "markdown",
      "metadata": {
        "id": "uPIRm-0gfORj"
      },
      "source": [
        "## Data Preprocessing"
      ]
    },
    {
      "cell_type": "markdown",
      "metadata": {
        "id": "ADfF9AAZfORk"
      },
      "source": [
        "Lower the text in comments"
      ]
    },
    {
      "cell_type": "code",
      "metadata": {
        "trusted": true,
        "id": "zcUC0pIFfORl"
      },
      "source": [
        "data['comments'] = data['comments'].str.lower()"
      ],
      "execution_count": null,
      "outputs": []
    },
    {
      "cell_type": "code",
      "metadata": {
        "trusted": true,
        "id": "X14Mvov6fORr",
        "colab": {
          "base_uri": "https://localhost:8080/"
        },
        "outputId": "d10f25e1-9e83-4930-e195-1a411676b4b4"
      },
      "source": [
        "data['comments'].head()"
      ],
      "execution_count": null,
      "outputs": [
        {
          "output_type": "execute_result",
          "data": {
            "text/plain": [
              "0    hey  make  the  video  with  voice  over  maam...\n",
              "1        beautiful    how  many  rs  this  grass  lawn\n",
              "2    its  beautifull  my  mom  would  definately  l...\n",
              "3    wow  very  nice  sharing  dear  stay  connected  \n",
              "4    i  became  a  fan  of  the  video        and  ...\n",
              "Name: comments, dtype: object"
            ]
          },
          "metadata": {
            "tags": []
          },
          "execution_count": 25
        }
      ]
    },
    {
      "cell_type": "code",
      "metadata": {
        "trusted": true,
        "id": "5yFhcEwffORz",
        "colab": {
          "base_uri": "https://localhost:8080/",
          "height": 297
        },
        "outputId": "d9bf2696-01c6-4dfa-cebf-951d4385f29b"
      },
      "source": [
        "data.describe()"
      ],
      "execution_count": null,
      "outputs": [
        {
          "output_type": "execute_result",
          "data": {
            "text/html": [
              "<div>\n",
              "<style scoped>\n",
              "    .dataframe tbody tr th:only-of-type {\n",
              "        vertical-align: middle;\n",
              "    }\n",
              "\n",
              "    .dataframe tbody tr th {\n",
              "        vertical-align: top;\n",
              "    }\n",
              "\n",
              "    .dataframe thead th {\n",
              "        text-align: right;\n",
              "    }\n",
              "</style>\n",
              "<table border=\"1\" class=\"dataframe\">\n",
              "  <thead>\n",
              "    <tr style=\"text-align: right;\">\n",
              "      <th></th>\n",
              "      <th>polarity</th>\n",
              "      <th>pol_cat</th>\n",
              "    </tr>\n",
              "  </thead>\n",
              "  <tbody>\n",
              "    <tr>\n",
              "      <th>count</th>\n",
              "      <td>429.000000</td>\n",
              "      <td>429.000000</td>\n",
              "    </tr>\n",
              "    <tr>\n",
              "      <th>mean</th>\n",
              "      <td>0.343804</td>\n",
              "      <td>0.337995</td>\n",
              "    </tr>\n",
              "    <tr>\n",
              "      <th>std</th>\n",
              "      <td>0.366466</td>\n",
              "      <td>0.942247</td>\n",
              "    </tr>\n",
              "    <tr>\n",
              "      <th>min</th>\n",
              "      <td>-0.650000</td>\n",
              "      <td>-1.000000</td>\n",
              "    </tr>\n",
              "    <tr>\n",
              "      <th>25%</th>\n",
              "      <td>0.000000</td>\n",
              "      <td>-1.000000</td>\n",
              "    </tr>\n",
              "    <tr>\n",
              "      <th>50%</th>\n",
              "      <td>0.350000</td>\n",
              "      <td>1.000000</td>\n",
              "    </tr>\n",
              "    <tr>\n",
              "      <th>75%</th>\n",
              "      <td>0.633333</td>\n",
              "      <td>1.000000</td>\n",
              "    </tr>\n",
              "    <tr>\n",
              "      <th>max</th>\n",
              "      <td>1.000000</td>\n",
              "      <td>1.000000</td>\n",
              "    </tr>\n",
              "  </tbody>\n",
              "</table>\n",
              "</div>"
            ],
            "text/plain": [
              "         polarity     pol_cat\n",
              "count  429.000000  429.000000\n",
              "mean     0.343804    0.337995\n",
              "std      0.366466    0.942247\n",
              "min     -0.650000   -1.000000\n",
              "25%      0.000000   -1.000000\n",
              "50%      0.350000    1.000000\n",
              "75%      0.633333    1.000000\n",
              "max      1.000000    1.000000"
            ]
          },
          "metadata": {
            "tags": []
          },
          "execution_count": 26
        }
      ]
    },
    {
      "cell_type": "code",
      "metadata": {
        "trusted": true,
        "id": "km6dIMhWfOR5",
        "colab": {
          "base_uri": "https://localhost:8080/"
        },
        "outputId": "184e37b4-48d0-423f-e16f-7fa13f5ee6e5"
      },
      "source": [
        "data.info()"
      ],
      "execution_count": null,
      "outputs": [
        {
          "output_type": "stream",
          "text": [
            "<class 'pandas.core.frame.DataFrame'>\n",
            "RangeIndex: 429 entries, 0 to 428\n",
            "Data columns (total 5 columns):\n",
            " #   Column      Non-Null Count  Dtype  \n",
            "---  ------      --------------  -----  \n",
            " 0   Video ID    429 non-null    object \n",
            " 1   Comment ID  429 non-null    object \n",
            " 2   comments    429 non-null    object \n",
            " 3   polarity    429 non-null    float64\n",
            " 4   pol_cat     429 non-null    int64  \n",
            "dtypes: float64(1), int64(1), object(3)\n",
            "memory usage: 16.9+ KB\n"
          ],
          "name": "stdout"
        }
      ]
    },
    {
      "cell_type": "code",
      "metadata": {
        "trusted": true,
        "id": "avjaCC79fOSE",
        "colab": {
          "base_uri": "https://localhost:8080/",
          "height": 35
        },
        "outputId": "66ed244f-9a17-48f3-dde7-1e7a2b91a988"
      },
      "source": [
        "data['comments'][0]"
      ],
      "execution_count": null,
      "outputs": [
        {
          "output_type": "execute_result",
          "data": {
            "application/vnd.google.colaboratory.intrinsic+json": {
              "type": "string"
            },
            "text/plain": [
              "\"hey  make  the  video  with  voice  over  maam  it's  helpful  \""
            ]
          },
          "metadata": {
            "tags": []
          },
          "execution_count": 28
        }
      ]
    },
    {
      "cell_type": "code",
      "metadata": {
        "trusted": true,
        "id": "V4zfsTUifOSO",
        "colab": {
          "base_uri": "https://localhost:8080/",
          "height": 35
        },
        "outputId": "670351c5-bd80-4a9c-be70-62507580c457"
      },
      "source": [
        "data['comments'][0].strip()"
      ],
      "execution_count": null,
      "outputs": [
        {
          "output_type": "execute_result",
          "data": {
            "application/vnd.google.colaboratory.intrinsic+json": {
              "type": "string"
            },
            "text/plain": [
              "\"hey  make  the  video  with  voice  over  maam  it's  helpful\""
            ]
          },
          "metadata": {
            "tags": []
          },
          "execution_count": 29
        }
      ]
    },
    {
      "cell_type": "code",
      "metadata": {
        "id": "pVxZ8KK_vbm4",
        "colab": {
          "base_uri": "https://localhost:8080/"
        },
        "outputId": "b4dd25cd-2314-42fb-eda0-e682f6989725"
      },
      "source": [
        "import nltk\n",
        "nltk.download(\"stopwords\")"
      ],
      "execution_count": null,
      "outputs": [
        {
          "output_type": "stream",
          "text": [
            "[nltk_data] Downloading package stopwords to /root/nltk_data...\n",
            "[nltk_data]   Unzipping corpora/stopwords.zip.\n"
          ],
          "name": "stdout"
        },
        {
          "output_type": "execute_result",
          "data": {
            "text/plain": [
              "True"
            ]
          },
          "metadata": {
            "tags": []
          },
          "execution_count": 30
        }
      ]
    },
    {
      "cell_type": "code",
      "metadata": {
        "id": "ugZWXdNOyBKq",
        "colab": {
          "base_uri": "https://localhost:8080/"
        },
        "outputId": "367b5a39-d72e-40a8-a694-545e8013ac0e"
      },
      "source": [
        "nltk.download(\"punkt\")"
      ],
      "execution_count": null,
      "outputs": [
        {
          "output_type": "stream",
          "text": [
            "[nltk_data] Downloading package punkt to /root/nltk_data...\n",
            "[nltk_data]   Unzipping tokenizers/punkt.zip.\n"
          ],
          "name": "stdout"
        },
        {
          "output_type": "execute_result",
          "data": {
            "text/plain": [
              "True"
            ]
          },
          "metadata": {
            "tags": []
          },
          "execution_count": 31
        }
      ]
    },
    {
      "cell_type": "code",
      "metadata": {
        "trusted": true,
        "id": "fC4ig8cyfOSa"
      },
      "source": [
        "from nltk.corpus import stopwords\n",
        "from nltk import word_tokenize\n",
        "import string\n",
        "import re\n",
        "import nltk"
      ],
      "execution_count": null,
      "outputs": []
    },
    {
      "cell_type": "code",
      "metadata": {
        "id": "FdcsbqXTvYLB",
        "colab": {
          "base_uri": "https://localhost:8080/"
        },
        "outputId": "4b83b9c6-97b7-42b2-8be9-73ec1413eb0c"
      },
      "source": [
        "print(stopwords.words('english'))"
      ],
      "execution_count": null,
      "outputs": [
        {
          "output_type": "stream",
          "text": [
            "['i', 'me', 'my', 'myself', 'we', 'our', 'ours', 'ourselves', 'you', \"you're\", \"you've\", \"you'll\", \"you'd\", 'your', 'yours', 'yourself', 'yourselves', 'he', 'him', 'his', 'himself', 'she', \"she's\", 'her', 'hers', 'herself', 'it', \"it's\", 'its', 'itself', 'they', 'them', 'their', 'theirs', 'themselves', 'what', 'which', 'who', 'whom', 'this', 'that', \"that'll\", 'these', 'those', 'am', 'is', 'are', 'was', 'were', 'be', 'been', 'being', 'have', 'has', 'had', 'having', 'do', 'does', 'did', 'doing', 'a', 'an', 'the', 'and', 'but', 'if', 'or', 'because', 'as', 'until', 'while', 'of', 'at', 'by', 'for', 'with', 'about', 'against', 'between', 'into', 'through', 'during', 'before', 'after', 'above', 'below', 'to', 'from', 'up', 'down', 'in', 'out', 'on', 'off', 'over', 'under', 'again', 'further', 'then', 'once', 'here', 'there', 'when', 'where', 'why', 'how', 'all', 'any', 'both', 'each', 'few', 'more', 'most', 'other', 'some', 'such', 'no', 'nor', 'not', 'only', 'own', 'same', 'so', 'than', 'too', 'very', 's', 't', 'can', 'will', 'just', 'don', \"don't\", 'should', \"should've\", 'now', 'd', 'll', 'm', 'o', 're', 've', 'y', 'ain', 'aren', \"aren't\", 'couldn', \"couldn't\", 'didn', \"didn't\", 'doesn', \"doesn't\", 'hadn', \"hadn't\", 'hasn', \"hasn't\", 'haven', \"haven't\", 'isn', \"isn't\", 'ma', 'mightn', \"mightn't\", 'mustn', \"mustn't\", 'needn', \"needn't\", 'shan', \"shan't\", 'shouldn', \"shouldn't\", 'wasn', \"wasn't\", 'weren', \"weren't\", 'won', \"won't\", 'wouldn', \"wouldn't\"]\n"
          ],
          "name": "stdout"
        }
      ]
    },
    {
      "cell_type": "code",
      "metadata": {
        "trusted": true,
        "id": "pYrDplBYfOSc"
      },
      "source": [
        "stop_words = set(stopwords.words('english'))"
      ],
      "execution_count": null,
      "outputs": []
    },
    {
      "cell_type": "code",
      "metadata": {
        "trusted": true,
        "id": "k-kxFfPlfOSe"
      },
      "source": [
        "data['comments'] = data['comments'].str.strip()"
      ],
      "execution_count": null,
      "outputs": []
    },
    {
      "cell_type": "code",
      "metadata": {
        "trusted": true,
        "id": "QOJwKjV5fOSh"
      },
      "source": [
        "train = data.copy()"
      ],
      "execution_count": null,
      "outputs": []
    },
    {
      "cell_type": "code",
      "metadata": {
        "trusted": true,
        "id": "QFxxu3HLfOSn"
      },
      "source": [
        "train['comments'] = train['comments'].str.strip()"
      ],
      "execution_count": null,
      "outputs": []
    },
    {
      "cell_type": "code",
      "metadata": {
        "trusted": true,
        "id": "MEYK2fHjfOSq",
        "colab": {
          "base_uri": "https://localhost:8080/",
          "height": 35
        },
        "outputId": "31a682e9-973c-4f7b-ecad-6aef1f22f7b4"
      },
      "source": [
        "train['comments'][0]"
      ],
      "execution_count": null,
      "outputs": [
        {
          "output_type": "execute_result",
          "data": {
            "application/vnd.google.colaboratory.intrinsic+json": {
              "type": "string"
            },
            "text/plain": [
              "\"hey  make  the  video  with  voice  over  maam  it's  helpful\""
            ]
          },
          "metadata": {
            "tags": []
          },
          "execution_count": 38
        }
      ]
    },
    {
      "cell_type": "code",
      "metadata": {
        "trusted": true,
        "id": "7dutEBJ9fOSt"
      },
      "source": [
        "def remove_stopwords(line):\n",
        "    word_tokens = word_tokenize(line)\n",
        "    filtered_sentence = [w for w in word_tokens if not w in stop_words]\n",
        "    return \" \".join(filtered_sentence)"
      ],
      "execution_count": null,
      "outputs": []
    },
    {
      "cell_type": "code",
      "metadata": {
        "trusted": true,
        "id": "N6_eOPkLfOSy"
      },
      "source": [
        "data['stop_comments'] = data['comments'].apply(lambda x : remove_stopwords(x))"
      ],
      "execution_count": null,
      "outputs": []
    },
    {
      "cell_type": "code",
      "metadata": {
        "trusted": true,
        "id": "ecShTkF6fOS3",
        "colab": {
          "base_uri": "https://localhost:8080/",
          "height": 204
        },
        "outputId": "6c1a5e21-df0b-45f9-df89-b1e7f8817491"
      },
      "source": [
        "data.head()"
      ],
      "execution_count": null,
      "outputs": [
        {
          "output_type": "execute_result",
          "data": {
            "text/html": [
              "<div>\n",
              "<style scoped>\n",
              "    .dataframe tbody tr th:only-of-type {\n",
              "        vertical-align: middle;\n",
              "    }\n",
              "\n",
              "    .dataframe tbody tr th {\n",
              "        vertical-align: top;\n",
              "    }\n",
              "\n",
              "    .dataframe thead th {\n",
              "        text-align: right;\n",
              "    }\n",
              "</style>\n",
              "<table border=\"1\" class=\"dataframe\">\n",
              "  <thead>\n",
              "    <tr style=\"text-align: right;\">\n",
              "      <th></th>\n",
              "      <th>Video ID</th>\n",
              "      <th>Comment ID</th>\n",
              "      <th>comments</th>\n",
              "      <th>polarity</th>\n",
              "      <th>pol_cat</th>\n",
              "      <th>stop_comments</th>\n",
              "    </tr>\n",
              "  </thead>\n",
              "  <tbody>\n",
              "    <tr>\n",
              "      <th>0</th>\n",
              "      <td>X0QqhFn8HC8</td>\n",
              "      <td>Ugwh9Aq_Kewa3Ip4QkR4AaABAg</td>\n",
              "      <td>hey  make  the  video  with  voice  over  maam...</td>\n",
              "      <td>0.000</td>\n",
              "      <td>-1</td>\n",
              "      <td>hey make video voice maam 's helpful</td>\n",
              "    </tr>\n",
              "    <tr>\n",
              "      <th>1</th>\n",
              "      <td>X0QqhFn8HC8</td>\n",
              "      <td>Ugyx5yzPaDBxji5AitF4AaABAg</td>\n",
              "      <td>beautiful    how  many  rs  this  grass  lawn</td>\n",
              "      <td>0.675</td>\n",
              "      <td>1</td>\n",
              "      <td>beautiful many rs grass lawn</td>\n",
              "    </tr>\n",
              "    <tr>\n",
              "      <th>2</th>\n",
              "      <td>X0QqhFn8HC8</td>\n",
              "      <td>UgyRCRjOT_t7CG2SN9N4AaABAg</td>\n",
              "      <td>its  beautifull  my  mom  would  definately  l...</td>\n",
              "      <td>0.500</td>\n",
              "      <td>1</td>\n",
              "      <td>beautifull mom would definately love</td>\n",
              "    </tr>\n",
              "    <tr>\n",
              "      <th>3</th>\n",
              "      <td>X0QqhFn8HC8</td>\n",
              "      <td>Ugxvwd-acEfWBE9Kkg14AaABAg</td>\n",
              "      <td>wow  very  nice  sharing  dear  stay  connected</td>\n",
              "      <td>0.440</td>\n",
              "      <td>1</td>\n",
              "      <td>wow nice sharing dear stay connected</td>\n",
              "    </tr>\n",
              "    <tr>\n",
              "      <th>4</th>\n",
              "      <td>X0QqhFn8HC8</td>\n",
              "      <td>UgyYcIZ3NLQKB-Ybx454AaABAg</td>\n",
              "      <td>i  became  a  fan  of  the  video        and  ...</td>\n",
              "      <td>0.000</td>\n",
              "      <td>-1</td>\n",
              "      <td>became fan video subscribed ur channel</td>\n",
              "    </tr>\n",
              "  </tbody>\n",
              "</table>\n",
              "</div>"
            ],
            "text/plain": [
              "      Video ID  ...                           stop_comments\n",
              "0  X0QqhFn8HC8  ...    hey make video voice maam 's helpful\n",
              "1  X0QqhFn8HC8  ...            beautiful many rs grass lawn\n",
              "2  X0QqhFn8HC8  ...    beautifull mom would definately love\n",
              "3  X0QqhFn8HC8  ...    wow nice sharing dear stay connected\n",
              "4  X0QqhFn8HC8  ...  became fan video subscribed ur channel\n",
              "\n",
              "[5 rows x 6 columns]"
            ]
          },
          "metadata": {
            "tags": []
          },
          "execution_count": 41
        }
      ]
    },
    {
      "cell_type": "code",
      "metadata": {
        "trusted": true,
        "id": "7H8Xj_JRfOS7"
      },
      "source": [
        "from sklearn.model_selection import train_test_split"
      ],
      "execution_count": null,
      "outputs": []
    },
    {
      "cell_type": "code",
      "metadata": {
        "trusted": true,
        "id": "PaoU_bOvfOTN"
      },
      "source": [
        "X_train,X_test,y_train,y_test = train_test_split(data['stop_comments'],data['pol_cat'],test_size = 0.2,random_state = 324)"
      ],
      "execution_count": null,
      "outputs": []
    },
    {
      "cell_type": "code",
      "metadata": {
        "trusted": true,
        "id": "3zj--smRfOTP",
        "colab": {
          "base_uri": "https://localhost:8080/"
        },
        "outputId": "7ec178bc-551a-4cf1-9673-e6187da1df84"
      },
      "source": [
        "X_train.shape"
      ],
      "execution_count": null,
      "outputs": [
        {
          "output_type": "execute_result",
          "data": {
            "text/plain": [
              "(343,)"
            ]
          },
          "metadata": {
            "tags": []
          },
          "execution_count": 44
        }
      ]
    },
    {
      "cell_type": "code",
      "metadata": {
        "trusted": true,
        "id": "U05hiD8DfOTS",
        "colab": {
          "base_uri": "https://localhost:8080/"
        },
        "outputId": "f50fea60-2150-4add-bf4c-90b02151d7e5"
      },
      "source": [
        "X_test.shape"
      ],
      "execution_count": null,
      "outputs": [
        {
          "output_type": "execute_result",
          "data": {
            "text/plain": [
              "(86,)"
            ]
          },
          "metadata": {
            "tags": []
          },
          "execution_count": 45
        }
      ]
    },
    {
      "cell_type": "code",
      "metadata": {
        "trusted": true,
        "id": "dlw1BR_ufOTe",
        "colab": {
          "base_uri": "https://localhost:8080/"
        },
        "outputId": "b286bef0-f945-46d5-c99f-6d8654f866c6"
      },
      "source": [
        "data['pol_cat'].value_counts()"
      ],
      "execution_count": null,
      "outputs": [
        {
          "output_type": "execute_result",
          "data": {
            "text/plain": [
              " 1    287\n",
              "-1    142\n",
              "Name: pol_cat, dtype: int64"
            ]
          },
          "metadata": {
            "tags": []
          },
          "execution_count": 46
        }
      ]
    },
    {
      "cell_type": "markdown",
      "metadata": {
        "id": "xGaouqyyfOTi"
      },
      "source": [
        "## Gonna Apply Logistic Regression"
      ]
    },
    {
      "cell_type": "code",
      "metadata": {
        "trusted": true,
        "id": "Y2rtvhbufOTj"
      },
      "source": [
        "from sklearn.feature_extraction.text import CountVectorizer"
      ],
      "execution_count": null,
      "outputs": []
    },
    {
      "cell_type": "code",
      "metadata": {
        "trusted": true,
        "id": "qMJXYfjdfOTr"
      },
      "source": [
        "from sklearn.feature_extraction.text import CountVectorizer, TfidfVectorizer \n",
        "vect = CountVectorizer()\n",
        "tf_train = vect.fit_transform(X_train)\n",
        "tf_test = vect.transform(X_test)"
      ],
      "execution_count": null,
      "outputs": []
    },
    {
      "cell_type": "code",
      "metadata": {
        "trusted": true,
        "id": "QtrJNPojfOTv",
        "colab": {
          "base_uri": "https://localhost:8080/"
        },
        "outputId": "0589846d-e487-4d53-c1d3-4900bf6538ce"
      },
      "source": [
        "tf_train.shape"
      ],
      "execution_count": null,
      "outputs": [
        {
          "output_type": "execute_result",
          "data": {
            "text/plain": [
              "(343, 827)"
            ]
          },
          "metadata": {
            "tags": []
          },
          "execution_count": 49
        }
      ]
    },
    {
      "cell_type": "markdown",
      "metadata": {
        "id": "zeWvrFV1fOTy"
      },
      "source": [
        "### Print the Vocabulary"
      ]
    },
    {
      "cell_type": "code",
      "metadata": {
        "trusted": true,
        "id": "YVIZNPOSfOTz",
        "colab": {
          "base_uri": "https://localhost:8080/"
        },
        "outputId": "a9c7ecbb-cb75-4717-89a9-43ba01eccc17"
      },
      "source": [
        "print(vect.vocabulary_)"
      ],
      "execution_count": null,
      "outputs": [
        {
          "output_type": "stream",
          "text": [
            "{'watched': 785, '1st': 2, 'video': 770, 'subscribed': 691, 'creative': 162, 'mind': 471, 'barish': 72, 'kya': 402, 'hoga': 324, 'wow': 814, 'great': 291, 'thanks': 720, 'sharing': 639, 'try': 749, 'awesome': 60, 'good': 287, 'job': 371, 'medam': 467, 'brilliant': 99, 'apnae': 38, 'artificial': 50, 'grass': 290, 'ke': 385, 'price': 571, 'kitnae': 395, 'wish': 799, 'amit': 29, 'also': 23, 'helped': 314, 'superb': 701, 'much': 481, 'cost': 152, 'work': 810, 'indoor': 351, 'balcony': 70, 'suitable': 695, 'terrace': 718, 'exposed': 238, 'bad': 65, 'weather': 790, 'need': 498, 'spend': 667, 'crores': 164, 'buy': 107, 'luxurious': 435, 'house': 336, 'made': 438, 'nice': 503, 'big': 89, 'thumbs': 729, 'god': 282, 'bless': 95, 'liked': 414, 'brought': 101, 'pot': 566, 'angles': 31, 'really': 595, 'garden': 270, 'natural': 494, 'loved': 431, 'paint': 525, 'kind': 394, 'share': 638, 'wel': 791, 'hey': 318, 'hi': 319, 'looking': 426, 'transformation': 744, 'seen': 628, 'pots': 567, 'wall': 778, 'pvc': 581, 'pipes': 546, 'may': 465, 'know': 398, 'got': 288, 'home': 329, 'compound': 141, 'walls': 779, 'please': 558, 'helpfull': 316, 'vedio': 766, 'hoping': 333, 'see': 625, 'many': 449, 'ur': 757, 'channel': 120, 'idea': 343, 'new': 500, 'subscriber': 692, 'doubt': 210, 'rain': 588, 'comes': 138, 'spoil': 669, 'plz': 561, 'dimensions': 198, 'mam': 447, 'wonderful': 806, 'nicely': 505, 'done': 209, 'show': 642, 'beautiful': 77, 'creation': 160, '1000': 1, 'pipe': 545, 'holder': 328, 'welcome': 792, 'size': 654, 'wooww': 809, 'love': 430, 'lovely': 432, 'questions': 584, 'per': 537, 'sq': 673, 'feet': 250, 'mm': 474, 'like': 413, '25mm': 3, '35mm': 6, '40mm': 7, 'place': 548, 'bought': 98, 'fabulous': 243, 'hope': 332, 'get': 275, 'answers': 33, 'greetings': 293, 'cute': 167, 'ward': 781, 'birds': 91, 'entering': 227, 'space': 662, 'plenty': 559, 'plants': 555, 'swing': 704, 'etc': 229, 'pose': 563, 'lot': 429, 'litter': 417, 'sister': 652, 'makeover': 444, 'tell': 716, 'carpet': 114, 'mat': 460, 'buyer': 108, 'used': 761, 'actually': 18, 'amazing': 26, 'use': 760, 'floor': 257, 'super': 700, 'ji': 367, 'extra': 239, 'ordinary': 518, 'roof': 606, 'would': 813, 'small': 656, 'covering': 157, 'glass': 280, 'windows': 798, 'tiny': 734, 'set': 633, 'station': 681, 'office': 511, 'wfh': 795, 'hello': 312, 'saw': 618, 'products': 574, 'discuss': 200, 'connect': 145, 'start': 679, 'organic': 519, 'farming': 248, 'oh': 512, 'shuch': 644, 'beatiful': 76, 'trasformation': 747, 'person': 541, 'yout': 823, 'ideatake': 345, 'care': 113, 'wooden': 808, 'tiles': 731, 'hamary': 301, 'pas': 530, 'mojod': 475, 'hen': 317, 'kam': 381, 'ko': 399, 'bhi': 87, 'zror': 826, 'check': 122, 'karen': 383, 'us': 758, 'take': 707, 'something': 659, 'similar': 647, 'bhudha': 88, 'statue': 682, 'excellent': 233, 'self': 629, 'giving': 279, 'ideas': 344, 'rains': 590, 'ma': 436, 'am': 24, 'sso': 676, 'make': 443, 'lk': 422, 'dear': 174, 'nd': 496, 'fully': 267, 'enjoyed': 226, 'appreciate': 40, 'frnd': 264, 'stay': 683, 'connected': 146, 'open': 516, 'area': 45, 'mai': 439, 'artificially': 51, 'baarish': 63, 'kharab': 391, 'nhi': 502, 'hoge': 325, 'effort': 220, 'called': 112, 'talented': 710, 'clean': 130, 'stuff': 687, 'wo': 803, 'last': 403, 'long': 424, 'dirty': 199, 'extreme': 240, 'heat': 311, 'makes': 445, 'difficult': 196, 'enjoy': 225, 'setups': 636, 'day': 172, 'becomes': 82, 'piece': 544, 'nothing': 508, 'else': 222, 'tough': 743, 'maintain': 440, 'though': 727, 'beautifully': 79, 'designed': 191, 'simply': 649, 'luk': 434, 'forward': 262, 'transformations': 745, 'pebble': 534, 'stones': 685, 'quantity': 583, 'tips': 735, 'gardning': 271, 'material': 461, 'row': 610, 'putting': 580, 'things': 725, 'pebbles': 535, 'people': 536, 'next': 501, 'time': 732, 'mask': 457, 'using': 762, 'spray': 671, 'vry': 774, 'chair': 118, 'mini': 472, 'wood': 807, 'table': 706, 'lawn': 405, 'crazy': 158, 'ha': 299, 'mar': 450, 'bananake': 71, 'koyi': 401, 'specialist': 665, 'contact': 150, 'number': 509, 'available': 58, 'hai': 300, 'live': 418, 'aur': 57, 'accha': 16, 'hota': 334, 'mast': 458, 'decorative': 183, 'sense': 631, 'planning': 553, 'making': 446, 'elegant': 221, 'details': 192, 'whats': 796, 'total': 741, 'inllvolved': 353, 'keeps': 388, 'sitting': 653, 'meant': 466, 'materials': 462, 'thats': 721, 'overall': 524, 'happens': 302, 'create': 159, 'border': 97, 'lucky': 433, 'personally': 542, 'feel': 249, 'blessed': 96, 'lively': 419, 'even': 230, 'worst': 812, 'phase': 543, 'life': 412, 'kept': 389, 'items': 360, 'yar': 820, 'ayegi': 62, 'sb': 619, 'nash': 493, 'ho': 323, 'jayega': 364, 'aandhi': 10, 'toofan': 738, 'type': 751, 'needs': 499, 'constant': 148, 'maintenance': 442, 'buddha': 102, 'head': 307, 'amd': 28, 'mention': 469, 'name': 492, 'congested': 143, 'cities': 127, 'delhi': 187, 'balconies': 69, 'mostly': 479, 'ft': 265, 'give': 277, 'link': 415, 'budha': 104, 'interlocking': 356, 'rainy': 591, 'season': 624, 'regular': 597, 'cleaning': 131, 'raining': 589, 'best': 84, 'part': 528, 'wasting': 783, 'talking': 712, 'explaining': 237, 'vedios': 767, 'decor': 178, 'dream': 211, 'di': 194, 'looks': 427, 'indian': 350, 'class': 128, 'aap': 11, 'jab': 361, 'blackpot': 93, 'golden': 284, 'kar': 382, 'rahe': 586, 'sath': 615, 'mein': 468, 'cat': 115, 'apne': 39, 'bed': 83, 'rahi': 587, 'thi': 722, 'vah': 763, 'showpiece': 643, 'dobara': 207, 'dikhao': 197, 'kahan': 379, 'se': 622, 'liya': 420, 'karna': 384, 'became': 81, 'fan': 246, 'dude': 215, 'innovative': 354, 'keep': 387, 'rocking': 605, 'must': 486, 'watching': 786, 'reason': 596, 'distressed': 202, 'water': 787, 'sach': 612, 'informative': 352, 'aapne': 13, 'look': 425, 'badal': 66, 'diya': 205, 'decoration': 181, 'joined': 374, 'friend': 263, 'hard': 305, 'come': 137, 'well': 793, 'married': 454, 'husband': 341, 'first': 254, 'waterproof': 788, 'manage': 448, 'plan': 551, 'already': 22, 'jnd': 368, 'expect': 234, 'ill': 346, 'definately': 185, 'soon': 660, 'pleasant': 557, 'namaste': 491, 'possible': 565, 'pl': 547, 'gud': 295, 'respect': 603, 'common': 140, 'ordered': 517, 'damaged': 170, 'artficial': 49, 'sides': 646, 'hold': 327, 'close': 133, 'ends': 224, 'impressive': 347, 'cud': 165, 'let': 408, 'procedure': 573, 'spot': 670, 'thank': 719, 'decorations': 182, 'pls': 560, 'yeh': 822, 'black': 92, 'kae': 377, 'upar': 755, 'joh': 372, 'flower': 260, 'rakha': 592, 'nae': 489, 'kaha': 378, 'sae': 613, 'purchase': 579, 'kiye': 397, 'replay': 601, 'mud': 482, 'peaces': 533, 'project': 576, 'find': 252, 'chennai': 123, 'advance': 20, 'instead': 355, 'shoud': 641, 'ganpati': 269, 'sis': 651, 'attractive': 56, 'radhey': 585, 'review': 604, 'months': 478, 'rather': 593, 'gone': 286, 'thickness': 723, 'blade': 94, 'length': 406, 'one': 515, 'fine': 253, 'simple': 648, 'easy': 218, 'placement': 549, 'suits': 696, 'white': 797, 'marbles': 451, 'neat': 497, 'niceeee': 504, 'sorry': 661, 'mujhse': 484, 'apka': 37, 'comment': 139, 'galti': 268, 'delete': 186, 'gaya': 272, 'wah': 775, 'seamless': 623, 'ever': 231, 'gon': 285, 'na': 487, 'araldite': 44, 'acrylics': 17, 'ohhh': 513, 'awsome': 61, 'congrats': 144, 'bet': 85, 'everything': 232, 'plant': 554, 'propaation': 577, 'seed': 626, 'germination': 274, 'rooting': 609, 'cuttings': 168, 'full': 266, 'watch': 784, 'join': 373, 'guys': 296, 'plastic': 556, 'biodegradable': 90, 'offended': 510, 'planet': 552, 'less': 407, 'teen': 715, 'wrote': 817, 'jeshoos': 365, 'creations': 161, 'okasari': 514, 'chudandi': 126, 'nachite': 488, 'subscribe': 690, 'chesukondi': 124, 'beautifull': 78, 'grow': 294, 'vegetables': 768, 'side': 645, 'satisfying': 616, 'healthy': 309, 'aslo': 54, 'flowers': 261, 'rooftop': 607, 'gives': 278, 'another': 32, 'level': 409, 'happiness': 303, 'think': 726, 'since': 650, 'top': 739, 'could': 155, 'issue': 359, 'dusty': 217, 'places': 550, 'anything': 35, 'add': 19, 'pond': 562, 'mats': 463, 'cut': 166, 'middle': 470, 'fixed': 256, 'seriously': 632, 'artistic': 52, 'suman': 697, 'squares': 675, 'arranged': 47, 'around': 46, 'fake': 245, 'yah': 819, 'jo': 370, 'kiya': 396, 'ka': 376, 'woh': 804, 'youtube': 825, 'pr': 568, 'sbhi': 620, 'sbse': 621, 'badhiya': 67, 'aapko': 12, 'ye': 821, 'hue': 338, 'gye': 297, 'hn': 322, 'lgayi': 411, 'abhi': 14, 'vaisi': 764, 'ya': 818, 'ki': 393, 'wjh': 802, 'khrab': 392, 'hone': 331, 'lg': 410, 'gyi': 298, 'mujhe': 483, 'iska': 358, 'jawab': 363, 'dengi': 189, 'environment': 228, 'survive': 703, 'way': 789, 'wishing': 801, 'happy': 304, 'diwali': 203, 'fix': 255, 'shape': 637, 'sence': 630, 'creativity': 163, 'stop': 686, 'non': 506, 'save': 617, 'eye': 241, 'beauty': 80, 'thing': 724, 'ask': 53, 'goes': 283, 'cause': 117, 'damage': 169, 'particular': 529, 'totally': 742, 'transformed': 746, 'mom': 476, 'effective': 219, 'any1': 34, 'pumping': 578, 'money': 477, 'expensive': 236, 'stuffs': 688, 'decent': 176, 'doable': 206, 'normal': 507, 'budget': 103, 'fantastic': 247, 'ca': 110, 'outsiders': 523, 'gr8': 289, 'bcz': 74, 'chanel': 119, 'heartly': 310, 'wishes': 800, 'unexpected': 754, 'approximate': 42, 'incurred': 348, 'wonder': 805, 'safer': 614, 'sunlight': 699, 'deck': 177, 'tile': 730, 'sqft': 674, 'par': 527, 'color': 135, 'hii': 321, 'want': 780, 'spent': 668, 'reply': 602, 'tasty': 714, 'design': 190, 'background': 64, 'music': 485, 'understand': 753, 'help': 313, 'em': 223, 'upto': 756, 'mark': 452, 'voice': 773, 'maam': 437, 'helpful': 315, 'costed': 153, 'konse': 400, 'flor': 259, 'liye': 421, 'houlw': 335, 'works': 811, 'taking': 708, 'didi': 195, 'fair': 244, 'warship': 782, 'lord': 428, 'stachu': 677, 'decorating': 180, 'maintained': 441, 'organization': 520, 'sugesstion': 693, 'tap': 713, 'dripping': 213, 'system': 705, 'wen': 794, 'go': 281, '5days': 8, 'geting': 276, 'dried': 212, 'sugest': 694, 'paints': 526, 'cool': 151, 'consider': 147, 'buying': 109, 'sofa': 658, 'jns': 369, 'styleliving': 689, 'https': 337, 'youtu': 824, '2buatelkmiq': 4, 'vlog': 772, 'tnx': 737, 'apu': 43, 'fida': 251, 'talent': 709, 'pradeepsinghnain': 569, 'spacious': 663, 'eyes': 242, 'hats': 306, 'costing': 154, 'confirm': 142, 'underrated': 752, 'business': 106, 'woww': 815, 'positive': 564, 'vibes': 769, 'support': 702, 'california': 111, 'usa': 759, 'talents': 711, 'india': 349, 'homes': 330, 'cheap': 121, 'classy': 129, 'special': 664, 'matt': 464, 'coating': 134, 'covered': 156, 'keede': 386, 'aajayenge': 9, 'problem': 572, 'hogi': 326, 'kaise': 380, 'diy': 204, 'consuming': 149, 'atleast': 55, 'days': 173, 'dedication': 184, 'professional': 575, '30k': 5, 'amount': 30, 'internet': 357, 'demands': 188, 'arrival': 48, 'misleading': 473, 'catchy': 116, 'heading': 308, 'settles': 634, 'dry': 214, 'starts': 680, 'stinking': 684, 'later': 404, 'remove': 600, 'cleanliness': 132, 'mashallah': 456, 'doit': 208, 'afraid': 21, '100': 0, 'marks': 453, 've': 765, 'tropical': 748, 'jungle': 375, 'anyways': 36, 'stand': 678, 'amazon': 27, 'germany': 273, 'osm': 521, 'speechless': 666, 'skull': 655, 'budhha': 105, 'wrong': 816, 'higher': 320, 'dislike': 201, 'amazed': 25, 'mastch': 459, 'walkway': 777, 'durable': 216, 'dance': 171, 'perhaps': 539, 'decorate': 179, 'greenery': 292, 'spreading': 672, 'devine': 193, 'mother': 480, 'nature': 495, 'quality': 582, 'kesi': 390, 'tuned': 750, 'namah': 490, 'shivay': 640, 'setup': 635, 'thought': 728, 'real': 594, 'pay': 531, 'rs': 611, 'bro': 100, 'expenses': 235, 'hum': 340, 'bas': 73, 'sochte': 657, 'reh': 598, 'jate': 362, 'bahut': 68, 'sundar': 698, 'links': 416, 'relaxing': 599, 'peaceful': 532, 'room': 608, 'waiting': 776, 'videos': 771, 'avg': 59, 'tnq': 736, 'seems': 627, 'outdoors': 522, 'flooring': 258, 'martial': 455, 'colourful': 136, 'deatailed': 175, 'll': 423, 'able': 15, 'huge': 339, 'times': 733, 'better': 86, 'ia': 342, 'temporary': 717, 'permanent': 540, 'beads': 75, 'appreciatible': 41, 'perches': 538, 'tops': 740, 'christian': 125, 'prefer': 570, 'jesus': 366}\n"
          ],
          "name": "stdout"
        }
      ]
    },
    {
      "cell_type": "code",
      "metadata": {
        "trusted": true,
        "id": "fIi0Qao6fOT3"
      },
      "source": [
        "vocab = vect.vocabulary_"
      ],
      "execution_count": null,
      "outputs": []
    },
    {
      "cell_type": "code",
      "metadata": {
        "trusted": true,
        "id": "k_0nswJkfOT8"
      },
      "source": [
        "# for key,value in vocab.items():\n",
        "#     if(value == 162):\n",
        "#         print(key)"
      ],
      "execution_count": null,
      "outputs": []
    },
    {
      "cell_type": "markdown",
      "metadata": {
        "id": "2nuCDN4fzR_B"
      },
      "source": [
        "import the logistic regression classifer and fit on the training dataset"
      ]
    },
    {
      "cell_type": "code",
      "metadata": {
        "trusted": true,
        "id": "GT0Tc8HKfOT_",
        "colab": {
          "base_uri": "https://localhost:8080/"
        },
        "outputId": "a94c652a-d78d-4647-b912-e8f6cdb81ef3"
      },
      "source": [
        "from sklearn.linear_model import LogisticRegression\n",
        "lr = LogisticRegression()\n",
        "lr.fit(tf_train,y_train)"
      ],
      "execution_count": null,
      "outputs": [
        {
          "output_type": "execute_result",
          "data": {
            "text/plain": [
              "LogisticRegression()"
            ]
          },
          "metadata": {
            "tags": []
          },
          "execution_count": 53
        }
      ]
    },
    {
      "cell_type": "markdown",
      "metadata": {
        "id": "UBP_uI2Vzc3i"
      },
      "source": [
        "###  Accuracy score on training dataset"
      ]
    },
    {
      "cell_type": "code",
      "metadata": {
        "trusted": true,
        "id": "1P_lH-8LfOUA",
        "colab": {
          "base_uri": "https://localhost:8080/"
        },
        "outputId": "8449604a-dc5e-474a-8a9f-78626e95e933"
      },
      "source": [
        "lr.score(tf_train,y_train)"
      ],
      "execution_count": null,
      "outputs": [
        {
          "output_type": "execute_result",
          "data": {
            "text/plain": [
              "0.9941690962099126"
            ]
          },
          "metadata": {
            "tags": []
          },
          "execution_count": 54
        }
      ]
    },
    {
      "cell_type": "markdown",
      "metadata": {
        "id": "IDjjvJrjziJ8"
      },
      "source": [
        "### Accuracy score on test dataset i.e got from the splitting"
      ]
    },
    {
      "cell_type": "code",
      "metadata": {
        "trusted": true,
        "id": "6WrwiXH9fOUD",
        "colab": {
          "base_uri": "https://localhost:8080/"
        },
        "outputId": "8c33802a-9a18-4cff-d8c7-194fdefc729f"
      },
      "source": [
        "lr.score(tf_test,y_test)"
      ],
      "execution_count": null,
      "outputs": [
        {
          "output_type": "execute_result",
          "data": {
            "text/plain": [
              "0.8488372093023255"
            ]
          },
          "metadata": {
            "tags": []
          },
          "execution_count": 55
        }
      ]
    },
    {
      "cell_type": "markdown",
      "metadata": {
        "id": "6q2Lbal6zpxR"
      },
      "source": [
        "### Make predictions on the test dataset i.e. unseen data to the model"
      ]
    },
    {
      "cell_type": "code",
      "metadata": {
        "trusted": true,
        "id": "ebpYgyVZfOUF"
      },
      "source": [
        "expected = y_test\n",
        "predicted = lr.predict(tf_test)"
      ],
      "execution_count": null,
      "outputs": []
    },
    {
      "cell_type": "markdown",
      "metadata": {
        "id": "tvq5GSaCzzXE"
      },
      "source": [
        "### plot confusion matrix for the test dataset"
      ]
    },
    {
      "cell_type": "code",
      "metadata": {
        "id": "TKH8iPvS1mGJ"
      },
      "source": [
        "\n",
        "from mlxtend.plotting import plot_confusion_matrix\n",
        "import matplotlib.pyplot as plt\n",
        "import numpy as np"
      ],
      "execution_count": null,
      "outputs": []
    },
    {
      "cell_type": "code",
      "metadata": {
        "id": "GVYDbvgt1nZ_",
        "colab": {
          "base_uri": "https://localhost:8080/"
        },
        "outputId": "b9a124e9-824e-45d8-8862-d87a41139d9b"
      },
      "source": [
        "pip install mlxtend"
      ],
      "execution_count": null,
      "outputs": [
        {
          "output_type": "stream",
          "text": [
            "Requirement already satisfied: mlxtend in /usr/local/lib/python3.7/dist-packages (0.14.0)\n",
            "Requirement already satisfied: scipy>=0.17 in /usr/local/lib/python3.7/dist-packages (from mlxtend) (1.4.1)\n",
            "Requirement already satisfied: pandas>=0.17.1 in /usr/local/lib/python3.7/dist-packages (from mlxtend) (1.1.5)\n",
            "Requirement already satisfied: matplotlib>=1.5.1 in /usr/local/lib/python3.7/dist-packages (from mlxtend) (3.2.2)\n",
            "Requirement already satisfied: scikit-learn>=0.18 in /usr/local/lib/python3.7/dist-packages (from mlxtend) (0.24.2)\n",
            "Requirement already satisfied: setuptools in /usr/local/lib/python3.7/dist-packages (from mlxtend) (57.0.0)\n",
            "Requirement already satisfied: numpy>=1.10.4 in /usr/local/lib/python3.7/dist-packages (from mlxtend) (1.19.5)\n",
            "Requirement already satisfied: python-dateutil>=2.7.3 in /usr/local/lib/python3.7/dist-packages (from pandas>=0.17.1->mlxtend) (2.8.1)\n",
            "Requirement already satisfied: pytz>=2017.2 in /usr/local/lib/python3.7/dist-packages (from pandas>=0.17.1->mlxtend) (2018.9)\n",
            "Requirement already satisfied: pyparsing!=2.0.4,!=2.1.2,!=2.1.6,>=2.0.1 in /usr/local/lib/python3.7/dist-packages (from matplotlib>=1.5.1->mlxtend) (2.4.7)\n",
            "Requirement already satisfied: cycler>=0.10 in /usr/local/lib/python3.7/dist-packages (from matplotlib>=1.5.1->mlxtend) (0.10.0)\n",
            "Requirement already satisfied: kiwisolver>=1.0.1 in /usr/local/lib/python3.7/dist-packages (from matplotlib>=1.5.1->mlxtend) (1.3.1)\n",
            "Requirement already satisfied: joblib>=0.11 in /usr/local/lib/python3.7/dist-packages (from scikit-learn>=0.18->mlxtend) (1.0.1)\n",
            "Requirement already satisfied: threadpoolctl>=2.0.0 in /usr/local/lib/python3.7/dist-packages (from scikit-learn>=0.18->mlxtend) (2.1.0)\n",
            "Requirement already satisfied: six>=1.5 in /usr/local/lib/python3.7/dist-packages (from python-dateutil>=2.7.3->pandas>=0.17.1->mlxtend) (1.15.0)\n"
          ],
          "name": "stdout"
        }
      ]
    },
    {
      "cell_type": "code",
      "metadata": {
        "id": "bx5l8cY0z21f",
        "colab": {
          "base_uri": "https://localhost:8080/",
          "height": 313
        },
        "outputId": "2ab562ff-e0de-40b6-f2f5-ff12e25910c0"
      },
      "source": [
        "cf = metrics.confusion_matrix(expected,predicted,labels = [1,-1])\n",
        "print(cf)\n",
        "## this command is only for google collab \n",
        "## in the below figure \" 1 is actually showing -1 and 0 is actually showing 1\"\n",
        "fig, ax = plot_confusion_matrix(conf_mat = cf)\n",
        "                                \n",
        "## It canbe used in any platform\n",
        "# fig, ax = plot_confusion_matrix(conf_mat = cf, class_names = [1,-1])\n",
        "plt.show()"
      ],
      "execution_count": null,
      "outputs": [
        {
          "output_type": "stream",
          "text": [
            "[[53  8]\n",
            " [ 5 20]]\n"
          ],
          "name": "stdout"
        },
        {
          "output_type": "display_data",
          "data": {
            "image/png": "[encoded data removed]",
            "text/plain": [
              "<Figure size 432x288 with 1 Axes>"
            ]
          },
          "metadata": {
            "tags": [],
            "needs_background": "light"
          }
        }
      ]
    },
    {
      "cell_type": "code",
      "metadata": {
        "trusted": true,
        "id": "8EHpanQGfOUH",
        "colab": {
          "base_uri": "https://localhost:8080/"
        },
        "outputId": "68ed0584-d1e2-45cd-b107-10184c31b229"
      },
      "source": [
        "from sklearn import metrics\n",
        "print(metrics.classification_report(expected, predicted))\n",
        "# print(metrics.confusion_matrix(expected,predicted))"
      ],
      "execution_count": null,
      "outputs": [
        {
          "output_type": "stream",
          "text": [
            "              precision    recall  f1-score   support\n",
            "\n",
            "          -1       0.71      0.80      0.75        25\n",
            "           1       0.91      0.87      0.89        61\n",
            "\n",
            "    accuracy                           0.85        86\n",
            "   macro avg       0.81      0.83      0.82        86\n",
            "weighted avg       0.86      0.85      0.85        86\n",
            "\n"
          ],
          "name": "stdout"
        }
      ]
    },
    {
      "cell_type": "markdown",
      "metadata": {
        "id": "ywD3TAtU0B53"
      },
      "source": [
        "### find the F1 score"
      ]
    },
    {
      "cell_type": "code",
      "metadata": {
        "trusted": true,
        "id": "tXUN76kgfOUN",
        "colab": {
          "base_uri": "https://localhost:8080/"
        },
        "outputId": "2b5da7de-3124-4a8a-adad-16ce59c38c64"
      },
      "source": [
        "from sklearn.metrics import f1_score\n",
        "f1_score(expected, predicted, average='macro')"
      ],
      "execution_count": null,
      "outputs": [
        {
          "output_type": "execute_result",
          "data": {
            "text/plain": [
              "0.822736641826542"
            ]
          },
          "metadata": {
            "tags": []
          },
          "execution_count": 61
        }
      ]
    }
  ]
}