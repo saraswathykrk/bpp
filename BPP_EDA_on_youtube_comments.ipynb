{
  "nbformat": 4,
  "nbformat_minor": 0,
  "metadata": {
    "colab": {
      "name": "BPP_EDA_on_youtube_comments.ipynb",
      "provenance": [],
      "collapsed_sections": [
        "G2MVIRpHyS89",
        "SbBLYIuJ4sXA"
      ],
      "include_colab_link": true
    },
    "kernelspec": {
      "name": "python3",
      "display_name": "Python 3"
    }
  },
  "cells": [
    {
      "cell_type": "markdown",
      "metadata": {
        "id": "view-in-github",
        "colab_type": "text"
      },
      "source": [
        "<a href=\"https://colab.research.google.com/github/saraswathykrk/ml_work/blob/main/BPP_EDA_on_youtube_comments.ipynb\" target=\"_parent\"><img src=\"https://colab.research.google.com/assets/colab-badge.svg\" alt=\"Open In Colab\"/></a>"
      ]
    },
    {
      "cell_type": "code",
      "metadata": {
        "id": "aU-jl4XWH1jw"
      },
      "source": [
        " # Google Colab Setup\n",
        "# from google.colab import drive\n",
        "\n",
        "# This will prompt for authorization.\n",
        "# drive.mount('/content/drive')"
      ],
      "execution_count": null,
      "outputs": []
    },
    {
      "cell_type": "code",
      "metadata": {
        "id": "ERMhezy7JWca"
      },
      "source": [
        "import os"
      ],
      "execution_count": null,
      "outputs": []
    },
    {
      "cell_type": "code",
      "metadata": {
        "id": "VMStYkmaJt27"
      },
      "source": [
        "# os.chdir('/content/drive/My Drive/Analytic-Steps-blogs/YouTube/')"
      ],
      "execution_count": null,
      "outputs": []
    },
    {
      "cell_type": "code",
      "metadata": {
        "id": "3eOOtsx9csqv"
      },
      "source": [
        "import pandas as pd\n",
        "import numpy as np"
      ],
      "execution_count": null,
      "outputs": []
    },
    {
      "cell_type": "code",
      "metadata": {
        "id": "BL_FelwRcxia",
        "colab": {
          "resources": {
            "http://localhost:8080/nbextensions/google.colab/files.js": {
              "data": "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",
              "ok": true,
              "headers": [
                [
                  "content-type",
                  "application/javascript"
                ]
              ],
              "status": 200,
              "status_text": ""
            }
          },
          "base_uri": "https://localhost:8080/",
          "height": 313
        },
        "outputId": "6fff8255-c143-4dea-8ea1-8925ecfe7641"
      },
      "source": [
        "from google.colab import files\n",
        "uploaded = files.upload()\n",
        "print(uploaded)\n",
        "filename = next(iter(uploaded))\n",
        "print(filename)\n",
        "data = pd.read_csv(filename) #(\"ExtractedData.csv\")\n",
        "data.head()"
      ],
      "execution_count": null,
      "outputs": [
        {
          "output_type": "display_data",
          "data": {
            "text/html": [
              "\n",
              "     <input type=\"file\" id=\"files-629f0d13-db8d-433b-a23d-b399d473746f\" name=\"files[]\" multiple disabled\n",
              "        style=\"border:none\" />\n",
              "     <output id=\"result-629f0d13-db8d-433b-a23d-b399d473746f\">\n",
              "      Upload widget is only available when the cell has been executed in the\n",
              "      current browser session. Please rerun this cell to enable.\n",
              "      </output>\n",
              "      <script src=\"/nbextensions/google.colab/files.js\"></script> "
            ],
            "text/plain": [
              "<IPython.core.display.HTML object>"
            ]
          },
          "metadata": {
            "tags": []
          }
        },
        {
          "output_type": "stream",
          "text": [
            "Saving Youtube_Videos_2021-06-25_12_59_30.844158.csv to Youtube_Videos_2021-06-25_12_59_30.844158.csv\n",
            "{'Youtube_Videos_2021-06-25_12_59_30.844158.csv': b'title,videoIds,video_description,publishedDate,likes,dislikes,views,comment\\n#28 Essential Tips for Starting a Balcony Vegetable Garden | Urban Gardening,YF2iQAGA5Bg,\"No winter lasts forever; no spring skips its turn. There is a loveliness to life that does not fade. Winter, it is the time for home. And January and February are such ...\",2021-01-07T13:00:22Z,36292,370,1124206,1325\\nGrow Your Own Food II Container Gardening Ideas || \\xe0\\xb0\\x95\\xe0\\xb0\\x82\\xe0\\xb0\\x9f\\xe0\\xb1\\x86\\xe0\\xb0\\xaf\\xe0\\xb0\\xbf\\xe0\\xb0\\xa8\\xe0\\xb0\\xb0\\xe0\\xb1\\x8d \\xe0\\xb0\\x97\\xe0\\xb0\\xbe\\xe0\\xb0\\xb0\\xe0\\xb1\\x8d\\xe0\\xb0\\xa1\\xe0\\xb1\\x86\\xe0\\xb0\\xa8\\xe0\\xb0\\xbf\\xe0\\xb0\\x82\\xe0\\xb0\\x97\\xe0\\xb1\\x8d \\xe0\\xb0\\x9a\\xe0\\xb1\\x87\\xe0\\xb0\\xaf\\xe0\\xb0\\xa1\\xe0\\xb0\\x82 \\xe0\\xb0\\x8e\\xe0\\xb0\\xb2\\xe0\\xb0\\xbe?,6C1a7Pn1CUQ,... terrace gardening classes in chennai terrace gardening containers terrace gardening courses terrace gardening design terrace gardening details diy terrace ...,2017-09-22T09:49:20Z,4594,446,979081,243\\nhow  to make a grass bed/flower bed/bed to grow vegetables on a  terrace without damaging it .,Ev6qg4Rvet4,A video on growing bermuda grass on my terrace on a grass bed and how to make a soil bed without damaging the terrace . Update on my grass bed ...,2018-10-05T07:51:31Z,6520,612,529728,440\\nMAKING OF TERRACE GARDEN | Gardening Ideas for Home | SHADE HOUSE DESIGN,wnwRBFci70M,\"Today we will look into DIY Gardening Ideas for designing Shade House or Green-Net house, Its benefits in teres gardening, Different colors of shadenets and ...\",2018-04-27T12:38:51Z,5337,211,433311,273\\n\\xe0\\xa4\\x86\\xe0\\xa4\\x87\\xe0\\xa4\\xaf\\xe0\\xa5\\x87 \\xe0\\xa4\\x9b\\xe0\\xa4\\xa4 \\xe0\\xa4\\xaa\\xe0\\xa4\\xb0 \\xe0\\xa4\\x96\\xe0\\xa5\\x87\\xe0\\xa4\\xa4 \\xe0\\xa4\\xac\\xe0\\xa4\\xa8\\xe0\\xa4\\xbe\\xe0\\xa4\\xa4\\xe0\\xa5\\x87 \\xe0\\xa4\\xb9\\xe0\\xa5\\x88\\xe0\\xa4\\x82 | Elevated Bed on Terrace for Vegetables | Waterproofing Not Required,IAINLO2nQgU,... of terrace gardening Trick for terrace farming My rooftop terrace garden Grow your own food Terrace farming ideas Diy terrace farming Vegetables on terrace ...,2019-09-13T15:14:42Z,9326,309,414280,372\\nGrow Your Own Food II Intensive Fish Farming on Terrace,O3s-Rkj9pO0,Balcony Gardening terrace gardening terrace gardening in bangalore terrace gardening in hyderabad terrace gardening in chennai terrace gardening ideas ...,2017-10-02T13:30:13Z,1798,172,299460,68\\nTerrace Gardening | How to prepare the coco peat base for plants to grow well,WIUUuDyjCC4,\"Hi All, This is my second planting video in my terrace gardening series. In this video, I have explained how to prepare a nutritious base for plants to grow well.\",2018-05-15T10:09:29Z,2579,232,283385,105\\nAgriculture and organic farming - high yielding organic terrace garden at chennai,MEYUeFkq5SQ,Agriculture and organic farming - high eyding organic terrace garden at chennai Subasri 9677101627 Subashree a simple house wife was created a green ...,2019-09-12T06:28:39Z,2456,183,273269,127\\nstep farming school project model for science exhibition,NFo-K3PbbfI,step farming school project model for science exhibition #stepfarmingmodel #scienceexhibition #howtofunda.,2019-02-21T14:49:17Z,1128,125,169918,36\\nBasic Requirements of Terrace Gardening - My Dream Garden,jL10sek0xzg,My Dream garden is a leading urban farming company in India. Which is exclusive in facilitating and guiding people to grow their own chemical free ...,2020-06-17T10:28:25Z,2176,250,153808,273\\nDIY : Make Your Own Balcony Garden,Qz6wHvV3lww,... chennai terrace gardening containers terrace gardening courses terrace gardening design terrace gardening details diy terrace gardening terrace gardening ...,2018-03-26T09:05:40Z,1115,73,112419,47\\nGrowYourOwnFood II Organic Terrace Gardening for Beginners-Step by Step,HW6woE21kVs,... terrace gardening classes in chennai terrace gardening containers terrace gardening courses terrace gardening design terrace gardening details diy terrace ...,2018-04-07T09:57:07Z,903,46,92965,60\\n10 Secret Tips and FAQs for Rooftop / Terrace Gardening Ideas  | Q &amp; A Part 3,dO1St6ypGoU,... Gardening Ideas and problems like \\xe2\\x80\\x93 Is terrace gardening bad for the building? Can I grow fruit trees on terrace? What Type of Soil to use for terrace farming?,2019-01-01T06:02:52Z,1321,78,87708,84\\nHow to start Terrace Garden? | Part II |Perfect Zero Budget gardening | complete Guide for beginners,DH9Y7X0NSgc,\"Hi, Here how to start a gardening with our kitchen seeds? This video is very easy for beginners understanding. how to start terrace garden part 1 video: ...\",2020-06-09T16:17:18Z,747,49,76880,69\\n&quot;Do it yourself&quot;  TamilNadu Government program for TERRACE GARDENING,IARPeZ1r3Gs,\"Tamil Nadu Government Organize the Agriculture activity in City by introducing \"\"TERRACE GARDENING: Do It Yourself\"\".Through this program tamil nadu ...\",2014-04-14T07:29:22Z,109,32,71117,69\\nTerrace gardening - 8 Tips for beginners,oB1GeuIg71w,Think how good it would be to produce our own food. Worried about chemical sprayed vegetables? Worried about the lack of space for gardening? It\\'s not at all ...,2018-01-24T07:29:55Z,265,31,69317,10\\nGrow your own tomatoes..in balcony / pot ..#tomatoes,jiaCF2UR1xE,Grow your own tomatoes..in balcony / pot .. Growing tomatoes is very easy..we all love tomatoes and use them almost in every dish we make.. it\\'s good for health ...,2018-03-16T05:24:21Z,350,173,62804,62\\nHow to make a terrace farming model,LlkYoeJd4xg,Learn step by step and very easy to make. use material:- 1. thermocol sheet thick and thin 2. cardboard 3. colour papers 4. fevicol 5. pop sticks 6. ARTIFICIAL ...,2019-05-15T11:43:06Z,549,93,52180,41\\nTerrace Farming - Step Farming &amp; Cultivation Explained - 3D Animation,6GyTyHnCX_E,\"Terrace farming, also known as the Step farming is an ancient way of farming on hills with steep slopes, mountains and other elevated regions of the world.\",2019-09-01T15:38:55Z,976,57,43712,51\\nHow to make your own easy rooftop garden |Terrace | Construction | Part - 01| Urdu/Hind | MY HOBBIES,db5GlVLWk-I,In this episode I am making a #rooftop #garden at my Tiny house. This is a diy raised flower bed filled with #bee friendly plants and lavender. I am using cement ...,2020-02-07T11:32:07Z,356,93,40352,33\\nDo-It-Yourself Terrace Gardening Kit by Govt.,1EWa7Gb7aN8,Tamil Nadu State Government distributes Do-It-Yourself terrace garden kits in Madurai.,2016-07-07T16:00:01Z,85,13,38927,0\\nTerrace Gardening | How to Grow Creeper Spinach | RaghothamaReddy-13,x0kSH47FMdg,... terrace gardening classes in chennai terrace gardening containers terrace gardening courses terrace gardening design terrace gardening details diy terrace ...,2016-11-11T11:40:01Z,241,20,38401,31\\nTerrace Gardening | Tamil Nadu Gov \\xe0\\xae\\xae\\xe0\\xae\\xbe\\xe0\\xae\\x9f\\xe0\\xae\\xbf \\xe0\\xae\\x95\\xe0\\xae\\xbe\\xe0\\xae\\xaf\\xe0\\xaf\\x8d\\xe0\\xae\\x95\\xe0\\xae\\xb1\\xe0\\xae\\xbf \\xe0\\xae\\xa4\\xe0\\xaf\\x8b\\xe0\\xae\\x9f\\xe0\\xaf\\x8d\\xe0\\xae\\x9f\\xe0\\xae\\xae\\xe0\\xaf\\x8d DIY Kit | Organic Farming | myGovSchemes,f3Aeak9TjtA,\"This Video is about the Terrace Gardening - \"\"Do it Yourself\"\" Scheme launched by Horticulture Department of Tamil Nadu Government. Link for contact details of ...\",2017-10-19T04:31:51Z,488,22,34122,48\\nTerrace Gardening | Best Tips to Grow Fruit Plants | RaghothamaReddy-10,RnmWYQaQ_Ps,... terrace gardening classes in chennai terrace gardening containers terrace gardening courses terrace gardening design terrace gardening details diy terrace ...,2016-10-20T16:36:37Z,163,21,33159,8\\nFruit Trees Lagane Ke Liye Chhath Mai Kyari Kaise Banaye | Bed with Bricks on Terrace to Grow Fruit,RX8QH5qgdDU,... of terrace gardening Trick for terrace farming My rooftop terrace garden Grow your own food Terrace farming ideas Diy terrace farming Vegetables on terrace ...,2019-09-27T10:50:28Z,477,65,32046,46\\nGrowYourOwnFood-Terrace Gardening the Organic Way-\\xe0\\xb0\\x87\\xe0\\xb0\\x82\\xe0\\xb0\\x9f\\xe0\\xb0\\xbf\\xe0\\xb0\\xaa\\xe0\\xb0\\x82\\xe0\\xb0\\x9f\\xe0\\xb0\\xb2 \\xe0\\xb0\\xb5\\xe0\\xb1\\x88\\xe0\\xb0\\xad\\xe0\\xb0\\xb5\\xe0\\xb0\\x82,bo3hLQwU2eQ,... terrace gardening classes in chennai terrace gardening containers terrace gardening courses terrace gardening design terrace gardening details diy terrace ...,2018-05-18T11:33:20Z,187,22,28082,11\\nHow to Make Terraced Raised Beds for Vegetable Gardening - E.1,Hf_qUQeu1hM,\"vegetablegarden #bushlife #homestead Raised beds are a good bet for vegetable gardening at your cottage, camp homestead or even your house in the city.\",2020-05-08T04:00:05Z,561,18,27263,124\\nTerrace Farming Model | Science Projects,I7hNEubPdGo,Terrace farming model is a cool science fair ideas for 8th grade . You can make this science project and learn about working model of Terrace farming.,2020-06-22T03:03:58Z,392,32,26489,23\\n\"Terrace Vegetable Garden Designs, Ideas and Planting Tips for Organic Farming \\xe0\\xb4\\x9f\\xe0\\xb5\\x86\\xe0\\xb4\\xb1\\xe0\\xb4\\xb8\\xe0\\xb5\\x8d\\xe0\\xb4\\xb8\\xe0\\xb5\\x8d \\xe0\\xb4\\xaa\\xe0\\xb4\\x9a\\xe0\\xb5\\x8d\\xe0\\xb4\\x9a\\xe0\\xb4\\x95\\xe0\\xb5\\x8d\\xe0\\xb4\\x95\\xe0\\xb4\\xb1\\xe0\\xb4\\xbf \\xe0\\xb4\\x95\\xe0\\xb5\\x83\\xe0\\xb4\\xb7\\xe0\\xb4\\xbf\",XxQQuBFu3IQ,\"Terrace Vegetable Garden Designs, Ideas and Planting Tips for Organic Farming are described in this video. A comprehensive terrace vegetable garden is a ...\",2020-05-02T08:16:00Z,316,19,21124,41\\nHow to make Vertical Farming at Home || Terrace Garden || SumanTV Tree,Sxl4kQ3y7nM,\"Have you ever imagined what the world would be like Without Trees? The benefits of trees extend beyond their beauty. Trees planted today will offer social, ...\",2019-05-14T13:27:11Z,258,13,20112,26\\nCheapest Raised Garden Planter Beds on a Slope Hill Terrace Farming - Low Cost Easy Instructions DIY,-fp0becLcC0,\"Questions, Comments, or Compliments? ~ Please Leave Them Below! ~ Top Soil Compost (organic matter) Peat Moss aka Hummus Perlite.\",2017-02-23T01:34:35Z,207,8,19703,11\\nTerrace Gardening- Container Designing Tips-Raghothamareddy 3,t2pnhMe91-Y,... terrace gardening classes in chennai terrace gardening containers terrace gardening courses terrace gardening design terrace gardening details diy terrace ...,2016-06-04T13:10:59Z,85,11,19465,4\\nTerrace Gardening | How to Create A Most Beautiful Garden-\\xe0\\xb0\\x85\\xe0\\xb0\\x82\\xe0\\xb0\\xa6\\xe0\\xb0\\xae\\xe0\\xb1\\x88\\xe0\\xb0\\xa8 \\xe0\\xb0\\xa4\\xe0\\xb1\\x8b\\xe0\\xb0\\x9f\\xe0\\xb0\\xa8\\xe0\\xb1\\x81 \\xe0\\xb0\\xa8\\xe0\\xb0\\xbf\\xe0\\xb0\\xb0\\xe0\\xb1\\x8d\\xe0\\xb0\\xae\\xe0\\xb0\\xbf\\xe0\\xb0\\x82\\xe0\\xb0\\x9a\\xe0\\xb0\\xa1\\xe0\\xb0\\x82 \\xe0\\xb0\\x8e\\xe0\\xb0\\xb2\\xe0\\xb0\\xbe?,upFtUxkj8ig,... terrace gardening classes in chennai terrace gardening containers terrace gardening courses terrace gardening design terrace gardening details diy terrace ...,2016-10-19T13:40:05Z,100,4,19005,6\\nDIY innovative terrace garden grow bag stand. unboxing and easy assembly. English version,Jc8ORWb-rqM,\"A grow bag stand has been designed for the terrace garden. This stand is made with abs coated iron pipe. Because of this stand the floor will not be affected, ...\",2020-06-10T02:38:54Z,273,18,19272,182\\nTerrace Gardening | How to Grow plants In Small Spaces | Raghothama Reddy-12,25a-hevMA_E,... terrace gardening classes in chennai terrace gardening containers terrace gardening courses terrace gardening design terrace gardening details diy terrace ...,2016-10-21T14:03:51Z,61,4,16282,3\\nTerrace Gardening-Raised Beds with Unused Cooler Parts-Raghothamareddy 4,-Yzx1ic7lTs,... terrace gardening classes in chennai terrace gardening containers terrace gardening courses terrace gardening design terrace gardening details diy terrace ...,2016-06-06T14:34:04Z,70,8,15824,2\\nLow Budget Terraced Garden Build,jl_mSLZonK0,I have a spot near my garden the gets excellent sun - but it\\'s on the the side of a rocky hill with useless soil. In this video I show a way to make a terraced garden ...,2020-08-01T22:53:26Z,421,6,14973,76\\nWhere to get the gardening DIY kit in chennai??What is in the DIY kit.? Beginner&#39;s kit,xm43B23h704,chennaicitygarden #horticulture #garden_kit #terrace_garden http://tnhorticulture.tn.gov.in/horti/do-it-yourself-kit ------------------------- Follow me on FB ...,2018-03-24T07:41:58Z,177,11,13765,31\\nTERRACE FARMING MODEL || SCHOOL PROJECTS || HOW TO MAKE TERRACE FARMING MODEL,ROUF35GxVa4,TERRACE FARMING MODEL || SCHOOL PROJECTS || HOW TO MAKE TERRACE FARMING MODEL #terracefarming #schoolprojects #howtomake ...,2019-07-13T09:44:27Z,74,13,10666,6\\n\"Terrace Farm, How to Make your Terrace Farm, \\xe0\\xa4\\x9f\\xe0\\xa5\\x87\\xe0\\xa4\\xb0\\xe0\\xa5\\x87\\xe0\\xa4\\xb8 \\xe0\\xa4\\xab\\xe0\\xa4\\xbe\\xe0\\xa4\\xb0\\xe0\\xa5\\x8d\\xe0\\xa4\\xae \\xe0\\xa4\\x95\\xe0\\xa5\\x88\\xe0\\xa4\\xb8\\xe0\\xa5\\x87 \\xe0\\xa4\\xac\\xe0\\xa4\\xa8\\xe0\\xa4\\xbe\\xe0\\xa4\\x8f, Terrace Garden, Urban farming\",uNTDFmSxO7k,\"Terrace Farm, How to Make your Terrace Farm, \\xe0\\xa4\\x9f\\xe0\\xa5\\x87\\xe0\\xa4\\xb0\\xe0\\xa5\\x87\\xe0\\xa4\\xb8 \\xe0\\xa4\\xab\\xe0\\xa4\\xbe\\xe0\\xa4\\xb0\\xe0\\xa5\\x8d\\xe0\\xa4\\xae \\xe0\\xa4\\x95\\xe0\\xa5\\x88\\xe0\\xa4\\xb8\\xe0\\xa5\\x87 \\xe0\\xa4\\xac\\xe0\\xa4\\xa8\\xe0\\xa4\\xbe\\xe0\\xa4\\x8f, \\xe0\\xa4\\x95\\xe0\\xa5\\x88\\xe0\\xa4\\xb8\\xe0\\xa5\\x87 \\xe0\\xa4\\xac\\xe0\\xa4\\xa8\\xe0\\xa4\\xbe\\xe0\\xa4\\xaf\\xe0\\xa4\\xbe \\xe0\\xa4\\xae\\xe0\\xa5\\x88\\xe0\\xa4\\x82\\xe0\\xa4\\xa8\\xe0\\xa5\\x87 \\xe0\\xa4\\xae\\xe0\\xa5\\x87\\xe0\\xa4\\xb0\\xe0\\xa4\\xbe \\xe0\\xa4\\x9f\\xe0\\xa5\\x87\\xe0\\xa4\\xb0\\xe0\\xa5\\x87\\xe0\\xa4\\xb8 \\xe0\\xa4\\xab\\xe0\\xa4\\xbe\\xe0\\xa4\\xb0\\xe0\\xa5\\x8d\\xe0\\xa4\\xae , \\xe0\\xa4\\x9f\\xe0\\xa5\\x87\\xe0\\xa4\\xb0\\xe0\\xa5\\x87\\xe0\\xa4\\xb8 \\xe0\\xa4\\xab\\xe0\\xa4\\xbe\\xe0\\xa4\\xb0\\xe0\\xa5\\x8d\\xe0\\xa4\\xae, Terrace Garden ...\",2020-07-26T04:50:40Z,377,8,10217,49\\nHow to make your own easy rooftop garden |Terrace | Construction | Part#02|| Urdu/Hind  cement slab,GJnI-bGT0Qk,In this episode I am making a #rooftop #garden at my Tiny house. This is a diy raised flower bed filled with #bee friendly plants and lavender. I am using cement ...,2020-02-08T15:13:18Z,53,66,9867,16\\nWick Irrigation or Thiri Nana #DIY Information for self watering in Terrace Vegetable Gardens,LHlHpJqZCP4,Wick Irrigation #DIY #Gardening #OraganicVegetableGarden #Drip Irrigation Wick Irrigation or Thiri Nana related Information are described in this video to \\'do it ...,2020-05-26T07:38:25Z,218,12,8154,64\\nHow To Make Terrace Garden In Fiber Tubs || Terrace Gardening Ideas || SumanTV Tree,xcqVszAOgJc,Trees are the most important aspects which helps us to survive in this world. Growing Plants is a good idea but the idea of terrace garden is an awesome one !,2019-08-12T13:30:05Z,47,2,7428,4\\nTerrace farming model,9kxMBPaTRl4,\"eco friendly still model of terrace farming using plaster of paris, card board and fresh leaves...\",2019-11-07T21:07:16Z,82,17,7181,7\\n3D model Terrace Farming | Model from waste material | Science Project | step farming model,tAnPU3ubIWg,Few interesting videos Learning tricks 28 states of India: https://youtu.be/jb_xAIcLcdg Diy party popper: https://youtu.be/g38uXh1h2pY Hello kitty money bank ...,2020-11-05T13:40:21Z,210,29,7399,53\\nstep farming model for science exhibition project | diy at home | howtofunda,4PQnxEOLfSU,step farming model for science exhibition project | diy at home | howtofunda #stepfarmingmodel #scienceexhibition #howtofunda Amazon ...,2019-12-13T14:25:34Z,79,12,6834,5\\nHow to Make Elevated Bed on Terrace for Vegetables | Waterproofing Not Required,25o63W7-goM,Today\\'s video is about making an elevated bed on rooftop. The specialty of this elevated bed is that it will not cost you a single penny and even if you have not ...,2019-12-13T15:00:19Z,152,4,6700,11\\nDIY How to Prevent Water Seepage in your Terrace Garden,J26XzZ7rVuc,\"In this DIY project, I will show you how I prevent water damage/ seepage in my terrace garden. The materials used for this project are cheap and easily available.\",2019-09-09T12:18:27Z,84,24,6660,7\\nHYDROPNIC FARMING IN INDIA | Soilless farming at Home | Vertical Farming | Terrace Farming / Garden,SHLSQm_6G2M,\"New technologies are coming up every day in the world. As the world population is growing, the agriculture industry is also developing new techniques to grow ...\",2020-11-24T04:50:52Z,135,3,5549,10\\n200 Holes NFT Hydroponics System | DIY Hydroponics Setup At Home | Urban Farming | CItyKisan,8bMpS1gAt30,hydroponics #diyhydroponics #urbanfarming Here is the video of the DIY Hydroponics Setup at home. We prepare a 200 potholes hydroponics setup for the ...,2020-11-03T06:22:01Z,63,6,5350,13\\nHow to make soilless media for terrace Gardening...,OgUVMSAesHw,Soilless media recipe metrial Mustard cake Powder coco peat - 50% Neem cake Powder seaweed extract Dust-20% Compost- 30% other fertilizer in very small ...,2020-09-10T06:52:44Z,177,5,4777,382\\n\"Terrace Garden Ideas DIY for Homes To Lift Heavy Weights, Soil, Bricks and Fertilizers to Upstairs\",LrQmWE0yDN4,\"TerraceGardenIdeas #DIY Terrace Garden Ideas DIY for Homes To Lift Heavy Weights like Soil, Bricks and Fertilizers to Upstairs are described in this video.\",2020-05-13T08:16:37Z,95,10,2985,33\\nMake terraces out of trees ~ North slope gardening ~ Hugelkultur,j5kMSmBI7gY,Today we are preparing a new 75 square foot terrace for our north sloping garden. The best terraces are made with logs because in spring and fall they will be ...,2020-02-25T21:58:12Z,91,0,2719,12\\nModel on Terrace farming,VfRBQREwUZ0,\"Model on Terrace farming with the help of Real clay, wooden sheet(ply), Fevicryl colours.cont- 9711335475 for order.\",2019-06-20T14:07:43Z,20,8,2353,2\\nPoultry farming tips for terrace poultry farming in terrace vegetable garden hi-tech cage farming,C4IBd-fH09A,Poultry farming tips for terrace poultry farming in terrace vegetable garden hi-tech cage farming. The poultry farming in terrace garden is an easy activity if you ...,2020-12-22T10:56:55Z,0,0,1590,6\\nTerrace farming and cultivation of vegetable-DIY pure and natural,H3fv4I6oDmI,Terrace Garden after summer shower. My terrace garden in to the harvest stage. More awareness videos about all vegetable farming and harvest videos on the ...,2020-05-01T17:26:27Z,226,1,1347,47\\nHi-tech poultry cage construction and farming easily #DIY in Terrace vegetable garden,GkOvh5LNvEM,Hi-tech poultry cage construction easily #DIY in Terrace vegetable garden. Poultry farming can be done easily in the terrace vegetable garden and the hi-tech ...,2020-12-20T12:40:07Z,0,0,1398,6\\nDIY Terrace Farming Model | Terrace Farming Model At Home | 3D Model on Terrace farming,lfgYr9mhhqk,DIY #TerraceFarming #ScienceProject.,2021-01-20T09:01:43Z,35,1,951,4\\nSTEP FARMING SCHOOL PROJECT I TERRACE FARMING MODEL I FUN LEARNING WITH JIYA KOENA,b73-7_K5Lgc,\"Jiya prepared a step farming school project and she describes her journey through this project, which helped her to plan, design & colour the model. I hope you ...\",2020-08-28T05:30:02Z,34,2,862,0\\n100% Organic Farming | DIY Project | Waste Decomposer | Terrace Gardening | Part 1 | Setup,KnYZqROG0gM,,2018-06-02T09:25:15Z,7,2,698,7\\nHow to make potting / soil mix for pots for growing vegetables|  terrace gardening,kTu8_HjJkl8,The videos discusses about making potting mix for growing vegetables in containers. A light weight potting mix is being discussed using the following ...,2020-08-25T16:58:32Z,29,1,682,10\\nTerrace farming || how to set up terrace for vegetable gardening. [IMPORTANT],C89Cw5K76DQ,How to set up your terrace for vegetable gardening. 7 things to be considered while starting a vegetable garden in your terrace 1.divide terrace for climber and ...,2020-06-20T10:17:31Z,67,0,661,22\\nBalcony Garden decorations with waste marterials | Gardening in Balcony @ Bahrain,CnYrMpYflJI,Bestoutofwaste #Diy #Reduce #Reuse #Recycling #Withme #Tshirt #Craft #Gardening #Balconygarden #krishi #Balconydecorations #Dhanyas gardenart ...,2019-12-17T12:47:36Z,20,0,568,8\\nAutomatic poultry feeder and drinker #DIY for hi-tech cages in terrace vegetable garden,dw6pXiL3LlY,Automatic poultry feeder and drinker #DIY for hi-tech cages in terrace vegetable garden. Everyone used to face the problem of feeding chicken regularly and any ...,2020-12-23T14:49:38Z,0,0,402,0\\nTerrace Farming School Project || step farming modal || science project || kids school project,pr5Kvlzp2TM,Terrace Farming II School Project II How to Make School project #Terracefarming #stepfarming #schoolproject #craftwork #interactivelearning Some of my DIYs ...,2020-06-11T12:24:59Z,42,0,216,13\\nTERRACE FARMING|SCIENCE PROJECT|SCHOOL MODEL|KIDS|DIY PROJECT|#Anmolartcreations,h8SBo7L5ufQ,Hello Dosto / friends ajj Iss Vedio me Aplogo ko Dekhaunga TERRACE FARMING|SCIENCE PROJECT|SCHOOL MODEL|KIDS|DIY ...,2020-03-10T08:19:24Z,6,0,105,2\\nFarming Tips Without Land | Terrace Farming | Punjabi Farms | DIY Plants and Crops | Food Farming,fGnvEHMN26M,Farming Tips Without Land | Terrace Farming | Punjabi Farms | DIY Plants and Crops | Food Farming \\xe0\\xa8\\x86\\xe0\\xa8\\xb9 \\xe0\\xa8\\xb5\\xe0\\xa9\\x87\\xe0\\xa8\\x96\\xe0\\xa9\\x8b \\xe0\\xa8\\xae\\xe0\\xa8\\xbf\\xe0\\xa9\\xb1\\xe0\\xa8\\x9f\\xe0\\xa9\\x80 \\xe0\\xa8\\xa4\\xe0\\xa9\\x8b\\xe0\\xa8\\x82 \\xe0\\xa8\\xac\\xe0\\xa8\\x97\\xe0\\xa9\\x88\\xe0\\xa8\\xb0 \\xe0\\xa8\\x95\\xe0\\xa8\\xbf\\xe0\\xa8\\xb5\\xe0\\xa9\\x87\\xe0\\xa8\\x82 \\xe0\\xa8\\xb9\\xe0\\xa9\\x81\\xe0\\xa9\\xb0\\xe0\\xa8\\xa6\\xe0\\xa9\\x80 \\xe0\\xa8\\xb9\\xe0\\xa9\\x88 \\xe0\\xa8\\x96\\xe0\\xa9\\x87\\xe0\\xa8\\xa4\\xe0\\xa9\\x80 !,2021-03-06T01:30:19Z,7,0,38,0\\nPlastic Bottles into Two Tier Flower Pot For Terrace Garden  | Terrace Farming | VC Terrace Garden,XG1a1J0PlME,\"diy, #terracefarming, #flowerpots, #plasticbottles Plastic Bottles into Two Tier Flower Pots For Terrace Garden | DIY Terrace Garden | Terrace Farming | VC ...\",2021-01-08T18:33:52Z,2,0,23,0\\n0,0,0,0,0,0,0,0\\n'}\n",
            "Youtube_Videos_2021-06-25_12_59_30.844158.csv\n"
          ],
          "name": "stdout"
        },
        {
          "output_type": "execute_result",
          "data": {
            "text/html": [
              "<div>\n",
              "<style scoped>\n",
              "    .dataframe tbody tr th:only-of-type {\n",
              "        vertical-align: middle;\n",
              "    }\n",
              "\n",
              "    .dataframe tbody tr th {\n",
              "        vertical-align: top;\n",
              "    }\n",
              "\n",
              "    .dataframe thead th {\n",
              "        text-align: right;\n",
              "    }\n",
              "</style>\n",
              "<table border=\"1\" class=\"dataframe\">\n",
              "  <thead>\n",
              "    <tr style=\"text-align: right;\">\n",
              "      <th></th>\n",
              "      <th>title</th>\n",
              "      <th>videoIds</th>\n",
              "      <th>video_description</th>\n",
              "      <th>publishedDate</th>\n",
              "      <th>likes</th>\n",
              "      <th>dislikes</th>\n",
              "      <th>views</th>\n",
              "      <th>comment</th>\n",
              "    </tr>\n",
              "  </thead>\n",
              "  <tbody>\n",
              "    <tr>\n",
              "      <th>0</th>\n",
              "      <td>#28 Essential Tips for Starting a Balcony Vege...</td>\n",
              "      <td>YF2iQAGA5Bg</td>\n",
              "      <td>No winter lasts forever; no spring skips its t...</td>\n",
              "      <td>2021-01-07T13:00:22Z</td>\n",
              "      <td>36292</td>\n",
              "      <td>370</td>\n",
              "      <td>1124206</td>\n",
              "      <td>1325</td>\n",
              "    </tr>\n",
              "    <tr>\n",
              "      <th>1</th>\n",
              "      <td>Grow Your Own Food II Container Gardening Idea...</td>\n",
              "      <td>6C1a7Pn1CUQ</td>\n",
              "      <td>... terrace gardening classes in chennai terra...</td>\n",
              "      <td>2017-09-22T09:49:20Z</td>\n",
              "      <td>4594</td>\n",
              "      <td>446</td>\n",
              "      <td>979081</td>\n",
              "      <td>243</td>\n",
              "    </tr>\n",
              "    <tr>\n",
              "      <th>2</th>\n",
              "      <td>how  to make a grass bed/flower bed/bed to gro...</td>\n",
              "      <td>Ev6qg4Rvet4</td>\n",
              "      <td>A video on growing bermuda grass on my terrace...</td>\n",
              "      <td>2018-10-05T07:51:31Z</td>\n",
              "      <td>6520</td>\n",
              "      <td>612</td>\n",
              "      <td>529728</td>\n",
              "      <td>440</td>\n",
              "    </tr>\n",
              "    <tr>\n",
              "      <th>3</th>\n",
              "      <td>MAKING OF TERRACE GARDEN | Gardening Ideas for...</td>\n",
              "      <td>wnwRBFci70M</td>\n",
              "      <td>Today we will look into DIY Gardening Ideas fo...</td>\n",
              "      <td>2018-04-27T12:38:51Z</td>\n",
              "      <td>5337</td>\n",
              "      <td>211</td>\n",
              "      <td>433311</td>\n",
              "      <td>273</td>\n",
              "    </tr>\n",
              "    <tr>\n",
              "      <th>4</th>\n",
              "      <td>आइये छत पर खेत बनाते हैं | Elevated Bed on Ter...</td>\n",
              "      <td>IAINLO2nQgU</td>\n",
              "      <td>... of terrace gardening Trick for terrace far...</td>\n",
              "      <td>2019-09-13T15:14:42Z</td>\n",
              "      <td>9326</td>\n",
              "      <td>309</td>\n",
              "      <td>414280</td>\n",
              "      <td>372</td>\n",
              "    </tr>\n",
              "  </tbody>\n",
              "</table>\n",
              "</div>"
            ],
            "text/plain": [
              "                                               title  ... comment\n",
              "0  #28 Essential Tips for Starting a Balcony Vege...  ...    1325\n",
              "1  Grow Your Own Food II Container Gardening Idea...  ...     243\n",
              "2  how  to make a grass bed/flower bed/bed to gro...  ...     440\n",
              "3  MAKING OF TERRACE GARDEN | Gardening Ideas for...  ...     273\n",
              "4  आइये छत पर खेत बनाते हैं | Elevated Bed on Ter...  ...     372\n",
              "\n",
              "[5 rows x 8 columns]"
            ]
          },
          "metadata": {
            "tags": []
          },
          "execution_count": 8
        }
      ]
    },
    {
      "cell_type": "code",
      "metadata": {
        "id": "XX9qAipEc2ei",
        "colab": {
          "base_uri": "https://localhost:8080/"
        },
        "outputId": "562e5713-045f-43cd-8b47-f745d5be9bb1"
      },
      "source": [
        "print(\"total number of videos uploaded on the channel: \"+str(data.shape[0]))"
      ],
      "execution_count": null,
      "outputs": [
        {
          "output_type": "stream",
          "text": [
            "total number of videos uploaded on the channel: 69\n"
          ],
          "name": "stdout"
        }
      ]
    },
    {
      "cell_type": "code",
      "metadata": {
        "id": "eDXCfVbHwYAb",
        "colab": {
          "base_uri": "https://localhost:8080/"
        },
        "outputId": "b3aa84e8-204c-405b-aa9a-d3f539d1885d"
      },
      "source": [
        "data['views'].value_counts()"
      ],
      "execution_count": null,
      "outputs": [
        {
          "output_type": "execute_result",
          "data": {
            "text/plain": [
              "27263     1\n",
              "6700      1\n",
              "40352     1\n",
              "112419    1\n",
              "92965     1\n",
              "         ..\n",
              "299460    1\n",
              "1347      1\n",
              "529728    1\n",
              "169918    1\n",
              "0         1\n",
              "Name: views, Length: 69, dtype: int64"
            ]
          },
          "metadata": {
            "tags": []
          },
          "execution_count": 10
        }
      ]
    },
    {
      "cell_type": "code",
      "metadata": {
        "id": "35NKCbr-wL9Q",
        "colab": {
          "base_uri": "https://localhost:8080/"
        },
        "outputId": "1069710f-ecd3-4198-e93b-cf8e4bb1f3be"
      },
      "source": [
        "data['likes'].value_counts()"
      ],
      "execution_count": null,
      "outputs": [
        {
          "output_type": "execute_result",
          "data": {
            "text/plain": [
              "0        4\n",
              "85       2\n",
              "177      2\n",
              "20       2\n",
              "7        2\n",
              "        ..\n",
              "74       1\n",
              "70       1\n",
              "36292    1\n",
              "67       1\n",
              "2176     1\n",
              "Name: likes, Length: 62, dtype: int64"
            ]
          },
          "metadata": {
            "tags": []
          },
          "execution_count": 11
        }
      ]
    },
    {
      "cell_type": "code",
      "metadata": {
        "id": "aIgSGoC0wPpL",
        "colab": {
          "base_uri": "https://localhost:8080/"
        },
        "outputId": "91cb30b4-c081-48b3-e024-28868bd2fa97"
      },
      "source": [
        "data['comment'].value_counts()\n",
        "data['dislikes'].value_counts()"
      ],
      "execution_count": null,
      "outputs": [
        {
          "output_type": "execute_result",
          "data": {
            "text/plain": [
              "0      11\n",
              "8       4\n",
              "1       3\n",
              "2       3\n",
              "4       3\n",
              "13      3\n",
              "11      2\n",
              "32      2\n",
              "18      2\n",
              "12      2\n",
              "22      2\n",
              "6       2\n",
              "93      2\n",
              "24      1\n",
              "5       1\n",
              "17      1\n",
              "19      1\n",
              "20      1\n",
              "21      1\n",
              "3       1\n",
              "10      1\n",
              "125     1\n",
              "29      1\n",
              "65      1\n",
              "370     1\n",
              "232     1\n",
              "612     1\n",
              "211     1\n",
              "78      1\n",
              "73      1\n",
              "66      1\n",
              "446     1\n",
              "250     1\n",
              "57      1\n",
              "183     1\n",
              "309     1\n",
              "49      1\n",
              "46      1\n",
              "173     1\n",
              "172     1\n",
              "31      1\n",
              "Name: dislikes, dtype: int64"
            ]
          },
          "metadata": {
            "tags": []
          },
          "execution_count": 12
        }
      ]
    },
    {
      "cell_type": "code",
      "metadata": {
        "id": "pTaWWOToc3wi",
        "colab": {
          "base_uri": "https://localhost:8080/"
        },
        "outputId": "7d5256bc-8bac-462c-ce56-74c3538b5eea"
      },
      "source": [
        "data['dislikes'].value_counts()"
      ],
      "execution_count": null,
      "outputs": [
        {
          "output_type": "execute_result",
          "data": {
            "text/plain": [
              "0      11\n",
              "8       4\n",
              "1       3\n",
              "2       3\n",
              "4       3\n",
              "13      3\n",
              "11      2\n",
              "32      2\n",
              "18      2\n",
              "12      2\n",
              "22      2\n",
              "6       2\n",
              "93      2\n",
              "24      1\n",
              "5       1\n",
              "17      1\n",
              "19      1\n",
              "20      1\n",
              "21      1\n",
              "3       1\n",
              "10      1\n",
              "125     1\n",
              "29      1\n",
              "65      1\n",
              "370     1\n",
              "232     1\n",
              "612     1\n",
              "211     1\n",
              "78      1\n",
              "73      1\n",
              "66      1\n",
              "446     1\n",
              "250     1\n",
              "57      1\n",
              "183     1\n",
              "309     1\n",
              "49      1\n",
              "46      1\n",
              "173     1\n",
              "172     1\n",
              "31      1\n",
              "Name: dislikes, dtype: int64"
            ]
          },
          "metadata": {
            "tags": []
          },
          "execution_count": 13
        }
      ]
    },
    {
      "cell_type": "code",
      "metadata": {
        "id": "yzGEW_2cfGkT",
        "colab": {
          "base_uri": "https://localhost:8080/"
        },
        "outputId": "30ffac27-5ab0-413d-cf86-f8ca7fc9a5e4"
      },
      "source": [
        "data['likes'].isnull().value_counts()"
      ],
      "execution_count": null,
      "outputs": [
        {
          "output_type": "execute_result",
          "data": {
            "text/plain": [
              "False    69\n",
              "Name: likes, dtype: int64"
            ]
          },
          "metadata": {
            "tags": []
          },
          "execution_count": 14
        }
      ]
    },
    {
      "cell_type": "code",
      "metadata": {
        "id": "C8hs76dxfqyM",
        "colab": {
          "base_uri": "https://localhost:8080/"
        },
        "outputId": "3a6c8995-17aa-44f5-942a-5eb6154b5d6a"
      },
      "source": [
        "data.videoIds.isnull().value_counts()"
      ],
      "execution_count": null,
      "outputs": [
        {
          "output_type": "execute_result",
          "data": {
            "text/plain": [
              "False    69\n",
              "Name: videoIds, dtype: int64"
            ]
          },
          "metadata": {
            "tags": []
          },
          "execution_count": 16
        }
      ]
    },
    {
      "cell_type": "code",
      "metadata": {
        "id": "QfM4nHpHf1T1",
        "colab": {
          "base_uri": "https://localhost:8080/"
        },
        "outputId": "7f960779-b01e-4280-f76c-a955cf799901"
      },
      "source": [
        "data.info()"
      ],
      "execution_count": null,
      "outputs": [
        {
          "output_type": "stream",
          "text": [
            "<class 'pandas.core.frame.DataFrame'>\n",
            "RangeIndex: 69 entries, 0 to 68\n",
            "Data columns (total 8 columns):\n",
            " #   Column             Non-Null Count  Dtype \n",
            "---  ------             --------------  ----- \n",
            " 0   title              69 non-null     object\n",
            " 1   videoIds           69 non-null     object\n",
            " 2   video_description  68 non-null     object\n",
            " 3   publishedDate      69 non-null     object\n",
            " 4   likes              69 non-null     int64 \n",
            " 5   dislikes           69 non-null     int64 \n",
            " 6   views              69 non-null     int64 \n",
            " 7   comment            69 non-null     int64 \n",
            "dtypes: int64(4), object(4)\n",
            "memory usage: 4.4+ KB\n"
          ],
          "name": "stdout"
        }
      ]
    },
    {
      "cell_type": "code",
      "metadata": {
        "id": "nhZu6aokzfPB",
        "colab": {
          "base_uri": "https://localhost:8080/"
        },
        "outputId": "b33cec3b-1a29-4d5f-9b70-f6e0b66f441a"
      },
      "source": [
        "data.count()"
      ],
      "execution_count": null,
      "outputs": [
        {
          "output_type": "execute_result",
          "data": {
            "text/plain": [
              "title                69\n",
              "videoIds             69\n",
              "video_description    68\n",
              "publishedDate        69\n",
              "likes                69\n",
              "dislikes             69\n",
              "views                69\n",
              "comment              69\n",
              "dtype: int64"
            ]
          },
          "metadata": {
            "tags": []
          },
          "execution_count": 32
        }
      ]
    },
    {
      "cell_type": "code",
      "metadata": {
        "id": "MBVftszBgI5o",
        "colab": {
          "base_uri": "https://localhost:8080/",
          "height": 297
        },
        "outputId": "1c1d56d0-7d73-474c-9ee8-81663e0353f3"
      },
      "source": [
        "data.describe()"
      ],
      "execution_count": null,
      "outputs": [
        {
          "output_type": "execute_result",
          "data": {
            "text/html": [
              "<div>\n",
              "<style scoped>\n",
              "    .dataframe tbody tr th:only-of-type {\n",
              "        vertical-align: middle;\n",
              "    }\n",
              "\n",
              "    .dataframe tbody tr th {\n",
              "        vertical-align: top;\n",
              "    }\n",
              "\n",
              "    .dataframe thead th {\n",
              "        text-align: right;\n",
              "    }\n",
              "</style>\n",
              "<table border=\"1\" class=\"dataframe\">\n",
              "  <thead>\n",
              "    <tr style=\"text-align: right;\">\n",
              "      <th></th>\n",
              "      <th>likes</th>\n",
              "      <th>dislikes</th>\n",
              "      <th>views</th>\n",
              "      <th>comment</th>\n",
              "    </tr>\n",
              "  </thead>\n",
              "  <tbody>\n",
              "    <tr>\n",
              "      <th>count</th>\n",
              "      <td>69.000000</td>\n",
              "      <td>69.000000</td>\n",
              "      <td>6.900000e+01</td>\n",
              "      <td>69.000000</td>\n",
              "    </tr>\n",
              "    <tr>\n",
              "      <th>mean</th>\n",
              "      <td>1244.797101</td>\n",
              "      <td>60.521739</td>\n",
              "      <td>8.583035e+04</td>\n",
              "      <td>76.231884</td>\n",
              "    </tr>\n",
              "    <tr>\n",
              "      <th>std</th>\n",
              "      <td>4568.328674</td>\n",
              "      <td>113.547555</td>\n",
              "      <td>1.999578e+05</td>\n",
              "      <td>179.207499</td>\n",
              "    </tr>\n",
              "    <tr>\n",
              "      <th>min</th>\n",
              "      <td>0.000000</td>\n",
              "      <td>0.000000</td>\n",
              "      <td>0.000000e+00</td>\n",
              "      <td>0.000000</td>\n",
              "    </tr>\n",
              "    <tr>\n",
              "      <th>25%</th>\n",
              "      <td>63.000000</td>\n",
              "      <td>3.000000</td>\n",
              "      <td>2.985000e+03</td>\n",
              "      <td>6.000000</td>\n",
              "    </tr>\n",
              "    <tr>\n",
              "      <th>50%</th>\n",
              "      <td>177.000000</td>\n",
              "      <td>13.000000</td>\n",
              "      <td>1.628200e+04</td>\n",
              "      <td>23.000000</td>\n",
              "    </tr>\n",
              "    <tr>\n",
              "      <th>75%</th>\n",
              "      <td>488.000000</td>\n",
              "      <td>57.000000</td>\n",
              "      <td>5.218000e+04</td>\n",
              "      <td>62.000000</td>\n",
              "    </tr>\n",
              "    <tr>\n",
              "      <th>max</th>\n",
              "      <td>36292.000000</td>\n",
              "      <td>612.000000</td>\n",
              "      <td>1.124206e+06</td>\n",
              "      <td>1325.000000</td>\n",
              "    </tr>\n",
              "  </tbody>\n",
              "</table>\n",
              "</div>"
            ],
            "text/plain": [
              "              likes    dislikes         views      comment\n",
              "count     69.000000   69.000000  6.900000e+01    69.000000\n",
              "mean    1244.797101   60.521739  8.583035e+04    76.231884\n",
              "std     4568.328674  113.547555  1.999578e+05   179.207499\n",
              "min        0.000000    0.000000  0.000000e+00     0.000000\n",
              "25%       63.000000    3.000000  2.985000e+03     6.000000\n",
              "50%      177.000000   13.000000  1.628200e+04    23.000000\n",
              "75%      488.000000   57.000000  5.218000e+04    62.000000\n",
              "max    36292.000000  612.000000  1.124206e+06  1325.000000"
            ]
          },
          "metadata": {
            "tags": []
          },
          "execution_count": 18
        }
      ]
    },
    {
      "cell_type": "markdown",
      "metadata": {
        "id": "G2MVIRpHyS89"
      },
      "source": [
        "## Sort the videos on the basis of likes i.e. most liked video will appear at last"
      ]
    },
    {
      "cell_type": "code",
      "metadata": {
        "id": "g4y4wAyiwe8k"
      },
      "source": [
        "data_liked = data.sort_values(by = 'likes',axis = 0,ascending = True,ignore_index=True)"
      ],
      "execution_count": null,
      "outputs": []
    },
    {
      "cell_type": "code",
      "metadata": {
        "id": "wx4qp1J3yomc",
        "colab": {
          "base_uri": "https://localhost:8080/",
          "height": 204
        },
        "outputId": "d484075a-f48d-4854-8c26-b51b63839f85"
      },
      "source": [
        "data.head()"
      ],
      "execution_count": null,
      "outputs": [
        {
          "output_type": "execute_result",
          "data": {
            "text/html": [
              "<div>\n",
              "<style scoped>\n",
              "    .dataframe tbody tr th:only-of-type {\n",
              "        vertical-align: middle;\n",
              "    }\n",
              "\n",
              "    .dataframe tbody tr th {\n",
              "        vertical-align: top;\n",
              "    }\n",
              "\n",
              "    .dataframe thead th {\n",
              "        text-align: right;\n",
              "    }\n",
              "</style>\n",
              "<table border=\"1\" class=\"dataframe\">\n",
              "  <thead>\n",
              "    <tr style=\"text-align: right;\">\n",
              "      <th></th>\n",
              "      <th>title</th>\n",
              "      <th>videoIds</th>\n",
              "      <th>video_description</th>\n",
              "      <th>publishedDate</th>\n",
              "      <th>likes</th>\n",
              "      <th>dislikes</th>\n",
              "      <th>views</th>\n",
              "      <th>comment</th>\n",
              "    </tr>\n",
              "  </thead>\n",
              "  <tbody>\n",
              "    <tr>\n",
              "      <th>0</th>\n",
              "      <td>#28 Essential Tips for Starting a Balcony Vege...</td>\n",
              "      <td>YF2iQAGA5Bg</td>\n",
              "      <td>No winter lasts forever; no spring skips its t...</td>\n",
              "      <td>2021-01-07T13:00:22Z</td>\n",
              "      <td>36292</td>\n",
              "      <td>370</td>\n",
              "      <td>1124206</td>\n",
              "      <td>1325</td>\n",
              "    </tr>\n",
              "    <tr>\n",
              "      <th>1</th>\n",
              "      <td>Grow Your Own Food II Container Gardening Idea...</td>\n",
              "      <td>6C1a7Pn1CUQ</td>\n",
              "      <td>... terrace gardening classes in chennai terra...</td>\n",
              "      <td>2017-09-22T09:49:20Z</td>\n",
              "      <td>4594</td>\n",
              "      <td>446</td>\n",
              "      <td>979081</td>\n",
              "      <td>243</td>\n",
              "    </tr>\n",
              "    <tr>\n",
              "      <th>2</th>\n",
              "      <td>how  to make a grass bed/flower bed/bed to gro...</td>\n",
              "      <td>Ev6qg4Rvet4</td>\n",
              "      <td>A video on growing bermuda grass on my terrace...</td>\n",
              "      <td>2018-10-05T07:51:31Z</td>\n",
              "      <td>6520</td>\n",
              "      <td>612</td>\n",
              "      <td>529728</td>\n",
              "      <td>440</td>\n",
              "    </tr>\n",
              "    <tr>\n",
              "      <th>3</th>\n",
              "      <td>MAKING OF TERRACE GARDEN | Gardening Ideas for...</td>\n",
              "      <td>wnwRBFci70M</td>\n",
              "      <td>Today we will look into DIY Gardening Ideas fo...</td>\n",
              "      <td>2018-04-27T12:38:51Z</td>\n",
              "      <td>5337</td>\n",
              "      <td>211</td>\n",
              "      <td>433311</td>\n",
              "      <td>273</td>\n",
              "    </tr>\n",
              "    <tr>\n",
              "      <th>4</th>\n",
              "      <td>आइये छत पर खेत बनाते हैं | Elevated Bed on Ter...</td>\n",
              "      <td>IAINLO2nQgU</td>\n",
              "      <td>... of terrace gardening Trick for terrace far...</td>\n",
              "      <td>2019-09-13T15:14:42Z</td>\n",
              "      <td>9326</td>\n",
              "      <td>309</td>\n",
              "      <td>414280</td>\n",
              "      <td>372</td>\n",
              "    </tr>\n",
              "  </tbody>\n",
              "</table>\n",
              "</div>"
            ],
            "text/plain": [
              "                                               title  ... comment\n",
              "0  #28 Essential Tips for Starting a Balcony Vege...  ...    1325\n",
              "1  Grow Your Own Food II Container Gardening Idea...  ...     243\n",
              "2  how  to make a grass bed/flower bed/bed to gro...  ...     440\n",
              "3  MAKING OF TERRACE GARDEN | Gardening Ideas for...  ...     273\n",
              "4  आइये छत पर खेत बनाते हैं | Elevated Bed on Ter...  ...     372\n",
              "\n",
              "[5 rows x 8 columns]"
            ]
          },
          "metadata": {
            "tags": []
          },
          "execution_count": 21
        }
      ]
    },
    {
      "cell_type": "code",
      "metadata": {
        "id": "8PidTIC80PTF",
        "colab": {
          "base_uri": "https://localhost:8080/",
          "height": 204
        },
        "outputId": "c9bd5fe5-1a64-45bf-e970-7c4ad56494bd"
      },
      "source": [
        "data_liked.head()"
      ],
      "execution_count": null,
      "outputs": [
        {
          "output_type": "execute_result",
          "data": {
            "text/html": [
              "<div>\n",
              "<style scoped>\n",
              "    .dataframe tbody tr th:only-of-type {\n",
              "        vertical-align: middle;\n",
              "    }\n",
              "\n",
              "    .dataframe tbody tr th {\n",
              "        vertical-align: top;\n",
              "    }\n",
              "\n",
              "    .dataframe thead th {\n",
              "        text-align: right;\n",
              "    }\n",
              "</style>\n",
              "<table border=\"1\" class=\"dataframe\">\n",
              "  <thead>\n",
              "    <tr style=\"text-align: right;\">\n",
              "      <th></th>\n",
              "      <th>title</th>\n",
              "      <th>videoIds</th>\n",
              "      <th>video_description</th>\n",
              "      <th>publishedDate</th>\n",
              "      <th>likes</th>\n",
              "      <th>dislikes</th>\n",
              "      <th>views</th>\n",
              "      <th>comment</th>\n",
              "    </tr>\n",
              "  </thead>\n",
              "  <tbody>\n",
              "    <tr>\n",
              "      <th>0</th>\n",
              "      <td>0</td>\n",
              "      <td>0</td>\n",
              "      <td>0</td>\n",
              "      <td>0</td>\n",
              "      <td>0</td>\n",
              "      <td>0</td>\n",
              "      <td>0</td>\n",
              "      <td>0</td>\n",
              "    </tr>\n",
              "    <tr>\n",
              "      <th>1</th>\n",
              "      <td>Automatic poultry feeder and drinker #DIY for ...</td>\n",
              "      <td>dw6pXiL3LlY</td>\n",
              "      <td>Automatic poultry feeder and drinker #DIY for ...</td>\n",
              "      <td>2020-12-23T14:49:38Z</td>\n",
              "      <td>0</td>\n",
              "      <td>0</td>\n",
              "      <td>402</td>\n",
              "      <td>0</td>\n",
              "    </tr>\n",
              "    <tr>\n",
              "      <th>2</th>\n",
              "      <td>Hi-tech poultry cage construction and farming ...</td>\n",
              "      <td>GkOvh5LNvEM</td>\n",
              "      <td>Hi-tech poultry cage construction easily #DIY ...</td>\n",
              "      <td>2020-12-20T12:40:07Z</td>\n",
              "      <td>0</td>\n",
              "      <td>0</td>\n",
              "      <td>1398</td>\n",
              "      <td>6</td>\n",
              "    </tr>\n",
              "    <tr>\n",
              "      <th>3</th>\n",
              "      <td>Poultry farming tips for terrace poultry farmi...</td>\n",
              "      <td>C4IBd-fH09A</td>\n",
              "      <td>Poultry farming tips for terrace poultry farmi...</td>\n",
              "      <td>2020-12-22T10:56:55Z</td>\n",
              "      <td>0</td>\n",
              "      <td>0</td>\n",
              "      <td>1590</td>\n",
              "      <td>6</td>\n",
              "    </tr>\n",
              "    <tr>\n",
              "      <th>4</th>\n",
              "      <td>Plastic Bottles into Two Tier Flower Pot For T...</td>\n",
              "      <td>XG1a1J0PlME</td>\n",
              "      <td>diy, #terracefarming, #flowerpots, #plasticbot...</td>\n",
              "      <td>2021-01-08T18:33:52Z</td>\n",
              "      <td>2</td>\n",
              "      <td>0</td>\n",
              "      <td>23</td>\n",
              "      <td>0</td>\n",
              "    </tr>\n",
              "  </tbody>\n",
              "</table>\n",
              "</div>"
            ],
            "text/plain": [
              "                                               title  ... comment\n",
              "0                                                  0  ...       0\n",
              "1  Automatic poultry feeder and drinker #DIY for ...  ...       0\n",
              "2  Hi-tech poultry cage construction and farming ...  ...       6\n",
              "3  Poultry farming tips for terrace poultry farmi...  ...       6\n",
              "4  Plastic Bottles into Two Tier Flower Pot For T...  ...       0\n",
              "\n",
              "[5 rows x 8 columns]"
            ]
          },
          "metadata": {
            "tags": []
          },
          "execution_count": 22
        }
      ]
    },
    {
      "cell_type": "markdown",
      "metadata": {
        "id": "bIuTzKz91Rqi"
      },
      "source": [
        "we will now find out the count of unique values of videos i.e. count of likes,dislikes etc. using **value_counts**"
      ]
    },
    {
      "cell_type": "code",
      "metadata": {
        "id": "CM7ooTq10cTf",
        "colab": {
          "base_uri": "https://localhost:8080/"
        },
        "outputId": "d150887e-4a9b-4e03-e2c3-b03f3b4889c6"
      },
      "source": [
        "data['likes'].value_counts(ascending = True,bins = 10)"
      ],
      "execution_count": null,
      "outputs": [
        {
          "output_type": "execute_result",
          "data": {
            "text/plain": [
              "(10887.6, 14516.8]     0\n",
              "(14516.8, 18146.0]     0\n",
              "(18146.0, 21775.2]     0\n",
              "(21775.2, 25404.4]     0\n",
              "(25404.4, 29033.6]     0\n",
              "(29033.6, 32662.8]     0\n",
              "(7258.4, 10887.6]      1\n",
              "(32662.8, 36292.0]     1\n",
              "(3629.2, 7258.4]       3\n",
              "(-36.293, 3629.2]     64\n",
              "Name: likes, dtype: int64"
            ]
          },
          "metadata": {
            "tags": []
          },
          "execution_count": 23
        }
      ]
    },
    {
      "cell_type": "code",
      "metadata": {
        "id": "UJu46WLQz9gC",
        "colab": {
          "base_uri": "https://localhost:8080/"
        },
        "outputId": "34dde014-c9b0-488b-8da4-940e6060a36e"
      },
      "source": [
        "data['dislikes'].value_counts(ascending= True, bins = 10)"
      ],
      "execution_count": null,
      "outputs": [
        {
          "output_type": "execute_result",
          "data": {
            "text/plain": [
              "(489.6, 550.8]     0\n",
              "(244.8, 306.0]     1\n",
              "(306.0, 367.2]     1\n",
              "(367.2, 428.4]     1\n",
              "(428.4, 489.6]     1\n",
              "(550.8, 612.0]     1\n",
              "(183.6, 244.8]     2\n",
              "(122.4, 183.6]     4\n",
              "(61.2, 122.4]      6\n",
              "(-0.613, 61.2]    52\n",
              "Name: dislikes, dtype: int64"
            ]
          },
          "metadata": {
            "tags": []
          },
          "execution_count": 24
        }
      ]
    },
    {
      "cell_type": "markdown",
      "metadata": {
        "id": "OD9hUbMj10J2"
      },
      "source": [
        "<!-- as from the above cell, it is clear that most of the videos have likes between 0 to 1767 i.e. total 20022 <br> -->\n",
        "<!-- and the most liked videos are less.  -->\n",
        "<!-- Also if go more deeper then it will be clear that only one video have highest likes -->"
      ]
    },
    {
      "cell_type": "code",
      "metadata": {
        "id": "HuFYLitMypkg",
        "colab": {
          "base_uri": "https://localhost:8080/"
        },
        "outputId": "0d853636-d667-443f-e82a-e14b046f05c0"
      },
      "source": [
        "data_liked['dislikes'].value_counts()"
      ],
      "execution_count": null,
      "outputs": [
        {
          "output_type": "execute_result",
          "data": {
            "text/plain": [
              "0      11\n",
              "8       4\n",
              "1       3\n",
              "2       3\n",
              "4       3\n",
              "13      3\n",
              "11      2\n",
              "32      2\n",
              "18      2\n",
              "12      2\n",
              "22      2\n",
              "6       2\n",
              "93      2\n",
              "24      1\n",
              "5       1\n",
              "17      1\n",
              "19      1\n",
              "20      1\n",
              "21      1\n",
              "3       1\n",
              "10      1\n",
              "125     1\n",
              "29      1\n",
              "65      1\n",
              "370     1\n",
              "232     1\n",
              "612     1\n",
              "211     1\n",
              "78      1\n",
              "73      1\n",
              "66      1\n",
              "446     1\n",
              "250     1\n",
              "57      1\n",
              "183     1\n",
              "309     1\n",
              "49      1\n",
              "46      1\n",
              "173     1\n",
              "172     1\n",
              "31      1\n",
              "Name: dislikes, dtype: int64"
            ]
          },
          "metadata": {
            "tags": []
          },
          "execution_count": 25
        }
      ]
    },
    {
      "cell_type": "markdown",
      "metadata": {
        "id": "of8LFc2Z2yuJ"
      },
      "source": [
        "<!-- From the above, it is clear that only 3 videos are most disliked -->"
      ]
    },
    {
      "cell_type": "code",
      "metadata": {
        "id": "zKyWKWhozRzL",
        "colab": {
          "base_uri": "https://localhost:8080/"
        },
        "outputId": "2bebe81f-83a2-493f-92c0-a7310932e919"
      },
      "source": [
        "data['comment'].max()"
      ],
      "execution_count": null,
      "outputs": [
        {
          "output_type": "execute_result",
          "data": {
            "text/plain": [
              "1325"
            ]
          },
          "metadata": {
            "tags": []
          },
          "execution_count": 26
        }
      ]
    },
    {
      "cell_type": "code",
      "metadata": {
        "id": "7MzTd4aO3Er4",
        "colab": {
          "base_uri": "https://localhost:8080/"
        },
        "outputId": "6cb74a2b-e96f-417c-be69-ceaa4cd92020"
      },
      "source": [
        "data['comment'].value_counts(ascending = True)"
      ],
      "execution_count": null,
      "outputs": [
        {
          "output_type": "execute_result",
          "data": {
            "text/plain": [
              "1325    1\n",
              "48      1\n",
              "49      1\n",
              "51      1\n",
              "53      1\n",
              "182     1\n",
              "440     1\n",
              "60      1\n",
              "46      1\n",
              "62      1\n",
              "68      1\n",
              "76      1\n",
              "84      1\n",
              "105     1\n",
              "243     1\n",
              "372     1\n",
              "124     1\n",
              "64      1\n",
              "382     1\n",
              "127     1\n",
              "16      1\n",
              "3       1\n",
              "36      1\n",
              "12      1\n",
              "22      1\n",
              "5       1\n",
              "26      1\n",
              "23      1\n",
              "273     2\n",
              "13      2\n",
              "47      2\n",
              "31      2\n",
              "8       2\n",
              "69      2\n",
              "33      2\n",
              "41      2\n",
              "4       3\n",
              "2       3\n",
              "11      3\n",
              "7       3\n",
              "10      3\n",
              "6       4\n",
              "0       6\n",
              "Name: comment, dtype: int64"
            ]
          },
          "metadata": {
            "tags": []
          },
          "execution_count": 27
        }
      ]
    },
    {
      "cell_type": "markdown",
      "metadata": {
        "id": "hs66t1Cy3mv_"
      },
      "source": [
        "From the above cell it can be concluded that there is only one video with maxium comments i.e. 199 comments. <br>\n",
        "apart from this count of videos with no comments are maximum i.e. 8480 videos"
      ]
    },
    {
      "cell_type": "code",
      "metadata": {
        "id": "-L0sA1UJgNQE",
        "colab": {
          "base_uri": "https://localhost:8080/"
        },
        "outputId": "510111ad-0e8d-4bce-df3c-62b49d7cfff6"
      },
      "source": [
        "print(\"Maximum number of likes on videos are \",data['likes'].max())\n",
        "print(\"Maximum number of dislikes on videos are \",data['dislikes'].max())\n",
        "print(\"Maximum number of views on videos are \",data['views'].max())\n",
        "print(\"Maximum number of comments on videos are \",data['comment'].max())"
      ],
      "execution_count": null,
      "outputs": [
        {
          "output_type": "stream",
          "text": [
            "Maxium number of likes on videos are  36292\n",
            "Maxium number of dislikes on videos are  612\n",
            "Maxium number of view on videos are  1124206\n",
            "Maxium number of comments on videos are  1325\n"
          ],
          "name": "stdout"
        }
      ]
    },
    {
      "cell_type": "markdown",
      "metadata": {
        "id": "SbBLYIuJ4sXA"
      },
      "source": [
        "## Now we will extract the details of the most liked videos,most comment videos, videos with highest view"
      ]
    },
    {
      "cell_type": "code",
      "metadata": {
        "id": "9DyHLvs93aeU"
      },
      "source": [
        "most_likedID = data['likes'].idxmax()\n",
        "most_viewedID = data['views'].idxmax()\n",
        "most_commentedID = data['comment'].idxmax()\n",
        "most_dislikedID = data['dislikes'].idxmax()"
      ],
      "execution_count": null,
      "outputs": []
    },
    {
      "cell_type": "code",
      "metadata": {
        "id": "1OvXTefHz-Yg",
        "colab": {
          "base_uri": "https://localhost:8080/"
        },
        "outputId": "6e76e5e5-3f72-45d2-bd0d-72a9b2ec4781"
      },
      "source": [
        "data.iloc[most_dislikedID].head"
      ],
      "execution_count": null,
      "outputs": [
        {
          "output_type": "execute_result",
          "data": {
            "text/plain": [
              "<bound method NDFrame.head of title                how  to make a grass bed/flower bed/bed to gro...\n",
              "videoIds                                                   Ev6qg4Rvet4\n",
              "video_description    A video on growing bermuda grass on my terrace...\n",
              "publishedDate                                     2018-10-05T07:51:31Z\n",
              "likes                                                             6520\n",
              "dislikes                                                           612\n",
              "views                                                           529728\n",
              "comment                                                            440\n",
              "Name: 2, dtype: object>"
            ]
          },
          "metadata": {
            "tags": []
          },
          "execution_count": 38
        }
      ]
    },
    {
      "cell_type": "code",
      "metadata": {
        "id": "ePY3e-6u6ysf",
        "colab": {
          "base_uri": "https://localhost:8080/"
        },
        "outputId": "d2e50422-320d-4540-daf5-3c460c17e2f8"
      },
      "source": [
        "data.iloc[most_likedID].head"
      ],
      "execution_count": null,
      "outputs": [
        {
          "output_type": "execute_result",
          "data": {
            "text/plain": [
              "<bound method NDFrame.head of title                #28 Essential Tips for Starting a Balcony Vege...\n",
              "videoIds                                                   YF2iQAGA5Bg\n",
              "video_description    No winter lasts forever; no spring skips its t...\n",
              "publishedDate                                     2021-01-07T13:00:22Z\n",
              "likes                                                            36292\n",
              "dislikes                                                           370\n",
              "views                                                          1124206\n",
              "comment                                                           1325\n",
              "Name: 0, dtype: object>"
            ]
          },
          "metadata": {
            "tags": []
          },
          "execution_count": 34
        }
      ]
    },
    {
      "cell_type": "code",
      "metadata": {
        "id": "J29fJVjv7D0l",
        "colab": {
          "base_uri": "https://localhost:8080/"
        },
        "outputId": "28ce6805-96fc-4f17-ae1d-6cb2b91abcbf"
      },
      "source": [
        "data.iloc[most_viewedID]"
      ],
      "execution_count": null,
      "outputs": [
        {
          "output_type": "execute_result",
          "data": {
            "text/plain": [
              "title                #28 Essential Tips for Starting a Balcony Vege...\n",
              "videoIds                                                   YF2iQAGA5Bg\n",
              "video_description    No winter lasts forever; no spring skips its t...\n",
              "publishedDate                                     2021-01-07T13:00:22Z\n",
              "likes                                                            36292\n",
              "dislikes                                                           370\n",
              "views                                                          1124206\n",
              "comment                                                           1325\n",
              "Name: 0, dtype: object"
            ]
          },
          "metadata": {
            "tags": []
          },
          "execution_count": 35
        }
      ]
    },
    {
      "cell_type": "code",
      "metadata": {
        "id": "IGK2AJG68GFv",
        "colab": {
          "base_uri": "https://localhost:8080/"
        },
        "outputId": "b21703af-d3da-4dd1-e6da-afe815030b1e"
      },
      "source": [
        "data.iloc[most_commentedID]"
      ],
      "execution_count": null,
      "outputs": [
        {
          "output_type": "execute_result",
          "data": {
            "text/plain": [
              "title                #28 Essential Tips for Starting a Balcony Vege...\n",
              "videoIds                                                   YF2iQAGA5Bg\n",
              "video_description    No winter lasts forever; no spring skips its t...\n",
              "publishedDate                                     2021-01-07T13:00:22Z\n",
              "likes                                                            36292\n",
              "dislikes                                                           370\n",
              "views                                                          1124206\n",
              "comment                                                           1325\n",
              "Name: 0, dtype: object"
            ]
          },
          "metadata": {
            "tags": []
          },
          "execution_count": 36
        }
      ]
    },
    {
      "cell_type": "code",
      "metadata": {
        "id": "AKudsw4_ApS-"
      },
      "source": [
        ""
      ],
      "execution_count": null,
      "outputs": []
    },
    {
      "cell_type": "code",
      "metadata": {
        "id": "UXzQPTsxA7Yf"
      },
      "source": [
        ""
      ],
      "execution_count": null,
      "outputs": []
    }
  ]
}