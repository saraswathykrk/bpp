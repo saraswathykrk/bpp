{
  "nbformat": 4,
  "nbformat_minor": 0,
  "metadata": {
    "colab": {
      "name": "EDA_on.ipynb",
      "provenance": []
    },
    "kernelspec": {
      "name": "python3",
      "display_name": "Python 3"
    }
  },
  "cells": [
    {
      "cell_type": "code",
      "metadata": {
        "id": "ZmMmM3YBT5OL",
        "colab": {
          "resources": {
            "http://localhost:8080/nbextensions/google.colab/files.js": {
              "data": "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",
              "ok": true,
              "headers": [
                [
                  "content-type",
                  "application/javascript"
                ]
              ],
              "status": 200,
              "status_text": ""
            }
          },
          "base_uri": "https://localhost:8080/",
          "height": 126
        },
        "outputId": "5c494cdc-2a6f-43eb-84d3-04d4ae8d9547"
      },
      "source": [
        "from google.colab import files\n",
        "uploaded = files.upload()\n",
        "print(uploaded)\n",
        "filename = next(iter(uploaded))\n",
        "print(filename)"
      ],
      "execution_count": 1,
      "outputs": [
        {
          "output_type": "display_data",
          "data": {
            "text/html": [
              "\n",
              "     <input type=\"file\" id=\"files-2260cf85-3cd2-45dd-ab2b-21a580064b45\" name=\"files[]\" multiple disabled\n",
              "        style=\"border:none\" />\n",
              "     <output id=\"result-2260cf85-3cd2-45dd-ab2b-21a580064b45\">\n",
              "      Upload widget is only available when the cell has been executed in the\n",
              "      current browser session. Please rerun this cell to enable.\n",
              "      </output>\n",
              "      <script src=\"/nbextensions/google.colab/files.js\"></script> "
            ],
            "text/plain": [
              "<IPython.core.display.HTML object>"
            ]
          },
          "metadata": {
            "tags": []
          }
        },
        {
          "output_type": "stream",
          "text": [
            "Saving ExtractedData (1).csv to ExtractedData (1).csv\n",
            "{'ExtractedData (1).csv': b'title,videoIds,video_description,publishedDate,likes,dislikes,views,comment\\nRooftop Terrace Garden Transformation | Terrace Makeover | DIY Ideas | Small garden design.,X0QqhFn8HC8,\"Hello Everyone! After a long time, I\\'m back with DIY Idea for a rooftop garden makeover. I\\'m really happy with how it turned out. Please click subscribe for more ...\",2020-10-02T15:46:30Z,48261,1492,3188581,1255\\nGrow Your Own Food II Container Gardening Ideas || \\xe0\\xb0\\x95\\xe0\\xb0\\x82\\xe0\\xb0\\x9f\\xe0\\xb1\\x86\\xe0\\xb0\\xaf\\xe0\\xb0\\xbf\\xe0\\xb0\\xa8\\xe0\\xb0\\xb0\\xe0\\xb1\\x8d \\xe0\\xb0\\x97\\xe0\\xb0\\xbe\\xe0\\xb0\\xb0\\xe0\\xb1\\x8d\\xe0\\xb0\\xa1\\xe0\\xb1\\x86\\xe0\\xb0\\xa8\\xe0\\xb0\\xbf\\xe0\\xb0\\x82\\xe0\\xb0\\x97\\xe0\\xb1\\x8d \\xe0\\xb0\\x9a\\xe0\\xb1\\x87\\xe0\\xb0\\xaf\\xe0\\xb0\\xa1\\xe0\\xb0\\x82 \\xe0\\xb0\\x8e\\xe0\\xb0\\xb2\\xe0\\xb0\\xbe?,6C1a7Pn1CUQ,... terrace gardening classes in chennai terrace gardening containers terrace gardening courses terrace gardening design terrace gardening details diy terrace ...,2017-09-22T09:49:20Z,4594,446,979016,243\\nhow  to make a grass bed/flower bed/bed to grow vegetables on a  terrace without damaging it .,Ev6qg4Rvet4,A video on growing bermuda grass on my terrace on a grass bed and how to make a soil bed without damaging the terrace . Update on my grass bed ...,2018-10-05T07:51:31Z,6520,611,529447,440\\nMAKING OF TERRACE GARDEN | Gardening Ideas for Home | SHADE HOUSE DESIGN,wnwRBFci70M,\"Today we will look into DIY Gardening Ideas for designing Shade House or Green-Net house, Its benefits in teres gardening, Different colors of shadenets and ...\",2018-04-27T12:38:51Z,5335,211,433114,273\\n\\xe0\\xa4\\x86\\xe0\\xa4\\x87\\xe0\\xa4\\xaf\\xe0\\xa5\\x87 \\xe0\\xa4\\x9b\\xe0\\xa4\\xa4 \\xe0\\xa4\\xaa\\xe0\\xa4\\xb0 \\xe0\\xa4\\x96\\xe0\\xa5\\x87\\xe0\\xa4\\xa4 \\xe0\\xa4\\xac\\xe0\\xa4\\xa8\\xe0\\xa4\\xbe\\xe0\\xa4\\xa4\\xe0\\xa5\\x87 \\xe0\\xa4\\xb9\\xe0\\xa5\\x88\\xe0\\xa4\\x82 | Elevated Bed on Terrace for Vegetables | Waterproofing Not Required,IAINLO2nQgU,... of terrace gardening Trick for terrace farming My rooftop terrace garden Grow your own food Terrace farming ideas Diy terrace farming Vegetables on terrace ...,2019-09-13T15:14:42Z,9326,309,414244,372\\nGrow Your Own Food II Intensive Fish Farming on Terrace,O3s-Rkj9pO0,Balcony Gardening terrace gardening terrace gardening in bangalore terrace gardening in hyderabad terrace gardening in chennai terrace gardening ideas ...,2017-10-02T13:30:13Z,1798,172,299441,68\\nTerrace Gardening | How to prepare the coco peat base for plants to grow well,WIUUuDyjCC4,\"Hi All, This is my second planting video in my terrace gardening series. In this video, I have explained how to prepare a nutritious base for plants to grow well.\",2018-05-15T10:09:29Z,2579,232,283321,105\\nAgriculture and organic farming - high yielding organic terrace garden at chennai,MEYUeFkq5SQ,Agriculture and organic farming - high eyding organic terrace garden at chennai Subasri 9677101627 Subashree a simple house wife was created a green ...,2019-09-12T06:28:39Z,2455,183,273243,127\\nstep farming school project model for science exhibition,NFo-K3PbbfI,step farming school project model for science exhibition #stepfarmingmodel #scienceexhibition #howtofunda.,2019-02-21T14:49:17Z,1129,125,169894,36\\nBasic Requirements of Terrace Gardening - My Dream Garden,jL10sek0xzg,My Dream garden is a leading urban farming company in India. Which is exclusive in facilitating and guiding people to grow their own chemical free ...,2020-06-17T10:28:25Z,2174,248,153667,273\\nDIY : Make Your Own Balcony Garden,Qz6wHvV3lww,... chennai terrace gardening containers terrace gardening courses terrace gardening design terrace gardening details diy terrace gardening terrace gardening ...,2018-03-26T09:05:40Z,1115,73,112408,47\\nGrowYourOwnFood II Organic Terrace Gardening for Beginners-Step by Step,HW6woE21kVs,... terrace gardening classes in chennai terrace gardening containers terrace gardening courses terrace gardening design terrace gardening details diy terrace ...,2018-04-07T09:57:07Z,903,46,92961,60\\n10 Secret Tips and FAQs for Rooftop / Terrace Gardening Ideas  | Q &amp; A Part 3,dO1St6ypGoU,... Gardening Ideas and problems like \\xe2\\x80\\x93 Is terrace gardening bad for the building? Can I grow fruit trees on terrace? What Type of Soil to use for terrace farming?,2019-01-01T06:02:52Z,1321,78,87695,84\\nHow to start Terrace Garden? | Part II |Perfect Zero Budget gardening | complete Guide for beginners,DH9Y7X0NSgc,\"Hi, Here how to start a gardening with our kitchen seeds? This video is very easy for beginners understanding. how to start terrace garden part 1 video: ...\",2020-06-09T16:17:18Z,745,49,76664,69\\n&quot;Do it yourself&quot;  TamilNadu Government program for TERRACE GARDENING,IARPeZ1r3Gs,\"Tamil Nadu Government Organize the Agriculture activity in City by introducing \"\"TERRACE GARDENING: Do It Yourself\"\".Through this program tamil nadu ...\",2014-04-14T07:29:22Z,109,32,71116,69\\nTerrace gardening - 8 Tips for beginners,oB1GeuIg71w,Think how good it would be to produce our own food. Worried about chemical sprayed vegetables? Worried about the lack of space for gardening? It\\'s not at all ...,2018-01-24T07:29:55Z,265,31,69300,10\\nGrow your own tomatoes..in balcony / pot ..#tomatoes,jiaCF2UR1xE,Grow your own tomatoes..in balcony / pot .. Growing tomatoes is very easy..we all love tomatoes and use them almost in every dish we make.. it\\'s good for health ...,2018-03-16T05:24:21Z,350,173,62796,62\\nHow to make a terrace farming model,LlkYoeJd4xg,Learn step by step and very easy to make. use material:- 1. thermocol sheet thick and thin 2. cardboard 3. colour papers 4. fevicol 5. pop sticks 6. ARTIFICIAL ...,2019-05-15T11:43:06Z,548,93,52165,41\\nTerrace Farming - Step Farming &amp; Cultivation Explained - 3D Animation,6GyTyHnCX_E,\"Terrace farming, also known as the Step farming is an ancient way of farming on hills with steep slopes, mountains and other elevated regions of the world.\",2019-09-01T15:38:55Z,976,57,43669,51\\nHow to make your own easy rooftop garden |Terrace | Construction | Part - 01| Urdu/Hind | MY HOBBIES,db5GlVLWk-I,In this episode I am making a #rooftop #garden at my Tiny house. This is a diy raised flower bed filled with #bee friendly plants and lavender. I am using cement ...,2020-02-07T11:32:07Z,355,93,40329,33\\nDo-It-Yourself Terrace Gardening Kit by Govt.,1EWa7Gb7aN8,Tamil Nadu State Government distributes Do-It-Yourself terrace garden kits in Madurai.,2016-07-07T16:00:01Z,85,13,38920,0\\nTerrace Gardening | How to Grow Creeper Spinach | RaghothamaReddy-13,x0kSH47FMdg,... terrace gardening classes in chennai terrace gardening containers terrace gardening courses terrace gardening design terrace gardening details diy terrace ...,2016-11-11T11:40:01Z,241,20,38391,31\\nTerrace Gardening | Tamil Nadu Gov \\xe0\\xae\\xae\\xe0\\xae\\xbe\\xe0\\xae\\x9f\\xe0\\xae\\xbf \\xe0\\xae\\x95\\xe0\\xae\\xbe\\xe0\\xae\\xaf\\xe0\\xaf\\x8d\\xe0\\xae\\x95\\xe0\\xae\\xb1\\xe0\\xae\\xbf \\xe0\\xae\\xa4\\xe0\\xaf\\x8b\\xe0\\xae\\x9f\\xe0\\xaf\\x8d\\xe0\\xae\\x9f\\xe0\\xae\\xae\\xe0\\xaf\\x8d DIY Kit | Organic Farming | myGovSchemes,f3Aeak9TjtA,\"This Video is about the Terrace Gardening - \"\"Do it Yourself\"\" Scheme launched by Horticulture Department of Tamil Nadu Government. Link for contact details of ...\",2017-10-19T04:31:51Z,487,22,34116,48\\nTerrace Gardening | Best Tips to Grow Fruit Plants | RaghothamaReddy-10,RnmWYQaQ_Ps,... terrace gardening classes in chennai terrace gardening containers terrace gardening courses terrace gardening design terrace gardening details diy terrace ...,2016-10-20T16:36:37Z,163,21,33159,8\\nFruit Trees Lagane Ke Liye Chhath Mai Kyari Kaise Banaye | Bed with Bricks on Terrace to Grow Fruit,RX8QH5qgdDU,... of terrace gardening Trick for terrace farming My rooftop terrace garden Grow your own food Terrace farming ideas Diy terrace farming Vegetables on terrace ...,2019-09-27T10:50:28Z,477,65,32032,46\\nHow to make easy and cheap vertical  trellis 50rs,Y4mj3Taggg0,How to make easy and cheap vertical trellis 50rs.,2020-08-11T14:59:14Z,781,24,29492,41\\nHow to Make Terraced Raised Beds for Vegetable Gardening - E.1,Hf_qUQeu1hM,\"vegetablegarden #bushlife #homestead Raised beds are a good bet for vegetable gardening at your cottage, camp homestead or even your house in the city.\",2020-05-08T04:00:05Z,561,18,27241,124\\nTerrace Farming Model | Science Projects,I7hNEubPdGo,Terrace farming model is a cool science fair ideas for 8th grade . You can make this science project and learn about working model of Terrace farming.,2020-06-22T03:03:58Z,390,32,26432,23\\n\"Terrace Vegetable Garden Designs, Ideas and Planting Tips for Organic Farming \\xe0\\xb4\\x9f\\xe0\\xb5\\x86\\xe0\\xb4\\xb1\\xe0\\xb4\\xb8\\xe0\\xb5\\x8d\\xe0\\xb4\\xb8\\xe0\\xb5\\x8d \\xe0\\xb4\\xaa\\xe0\\xb4\\x9a\\xe0\\xb5\\x8d\\xe0\\xb4\\x9a\\xe0\\xb4\\x95\\xe0\\xb5\\x8d\\xe0\\xb4\\x95\\xe0\\xb4\\xb1\\xe0\\xb4\\xbf \\xe0\\xb4\\x95\\xe0\\xb5\\x83\\xe0\\xb4\\xb7\\xe0\\xb4\\xbf\",XxQQuBFu3IQ,\"Terrace Vegetable Garden Designs, Ideas and Planting Tips for Organic Farming are described in this video. A comprehensive terrace vegetable garden is a ...\",2020-05-02T08:16:00Z,314,19,21086,39\\nHow to make Vertical Farming at Home || Terrace Garden || SumanTV Tree,Sxl4kQ3y7nM,\"Have you ever imagined what the world would be like Without Trees? The benefits of trees extend beyond their beauty. Trees planted today will offer social, ...\",2019-05-14T13:27:11Z,258,13,20108,26\\nCheapest Raised Garden Planter Beds on a Slope Hill Terrace Farming - Low Cost Easy Instructions DIY,-fp0becLcC0,\"Questions, Comments, or Compliments? ~ Please Leave Them Below! ~ Top Soil Compost (organic matter) Peat Moss aka Hummus Perlite.\",2017-02-23T01:34:35Z,207,8,19702,11\\nTerrace Gardening- Container Designing Tips-Raghothamareddy 3,t2pnhMe91-Y,... terrace gardening classes in chennai terrace gardening containers terrace gardening courses terrace gardening design terrace gardening details diy terrace ...,2016-06-04T13:10:59Z,85,11,19465,4\\nTerrace Gardening | How to Create A Most Beautiful Garden-\\xe0\\xb0\\x85\\xe0\\xb0\\x82\\xe0\\xb0\\xa6\\xe0\\xb0\\xae\\xe0\\xb1\\x88\\xe0\\xb0\\xa8 \\xe0\\xb0\\xa4\\xe0\\xb1\\x8b\\xe0\\xb0\\x9f\\xe0\\xb0\\xa8\\xe0\\xb1\\x81 \\xe0\\xb0\\xa8\\xe0\\xb0\\xbf\\xe0\\xb0\\xb0\\xe0\\xb1\\x8d\\xe0\\xb0\\xae\\xe0\\xb0\\xbf\\xe0\\xb0\\x82\\xe0\\xb0\\x9a\\xe0\\xb0\\xa1\\xe0\\xb0\\x82 \\xe0\\xb0\\x8e\\xe0\\xb0\\xb2\\xe0\\xb0\\xbe?,upFtUxkj8ig,... terrace gardening classes in chennai terrace gardening containers terrace gardening courses terrace gardening design terrace gardening details diy terrace ...,2016-10-19T13:40:05Z,100,4,19004,6\\nDIY innovative terrace garden grow bag stand. unboxing and easy assembly. English version,Jc8ORWb-rqM,\"A grow bag stand has been designed for the terrace garden. This stand is made with abs coated iron pipe. Because of this stand the floor will not be affected, ...\",2020-06-10T02:38:54Z,273,18,19243,182\\nTerrace Gardening | How to Grow plants In Small Spaces | Raghothama Reddy-12,25a-hevMA_E,... terrace gardening classes in chennai terrace gardening containers terrace gardening courses terrace gardening design terrace gardening details diy terrace ...,2016-10-21T14:03:51Z,61,4,16282,3\\nTerrace Gardening-Raised Beds with Unused Cooler Parts-Raghothamareddy 4,-Yzx1ic7lTs,... terrace gardening classes in chennai terrace gardening containers terrace gardening courses terrace gardening design terrace gardening details diy terrace ...,2016-06-06T14:34:04Z,70,8,15820,2\\nGovernment vegetable garden Kit  | \\xe0\\xae\\xae\\xe0\\xae\\xbe\\xe0\\xae\\x9f\\xe0\\xae\\xbf\\xe0\\xae\\xa4\\xe0\\xaf\\x8d\\xe0\\xae\\xa4\\xe0\\xaf\\x8b\\xe0\\xae\\x9f\\xe0\\xaf\\x8d\\xe0\\xae\\x9f\\xe0\\xae\\xae\\xe0\\xaf\\x8d \\xe0\\xae\\x85\\xe0\\xae\\xae\\xe0\\xaf\\x88\\xe0\\xae\\x95\\xe0\\xaf\\x8d\\xe0\\xae\\x95 \\xe0\\xae\\x85\\xe0\\xae\\xb0\\xe0\\xae\\x9a\\xe0\\xaf\\x81 \\xe0\\xae\\xae\\xe0\\xae\\xbe\\xe0\\xae\\xa9\\xe0\\xae\\xbf\\xe0\\xae\\xaf\\xe0\\xae\\xa4\\xe0\\xaf\\x8d\\xe0\\xae\\xa4\\xe0\\xaf\\x81\\xe0\\xae\\x9f\\xe0\\xae\\xa9\\xe0\\xaf\\x8d do it yourself kit,_g_0dxmXLzw,\"In this video, I have shared about the rooftop/ vegetable garden kit / Kitchen garden kit distributed by the Department of Horticulture at subsidised cost. You can ...\",2021-02-05T07:30:03Z,0,0,15225,92\\nWhere to get the gardening DIY kit in chennai??What is in the DIY kit.? Beginner&#39;s kit,xm43B23h704,chennaicitygarden #horticulture #garden_kit #terrace_garden http://tnhorticulture.tn.gov.in/horti/do-it-yourself-kit ------------------------- Follow me on FB ...,2018-03-24T07:41:58Z,177,11,13758,31\\nTERRACE FARMING MODEL || SCHOOL PROJECTS || HOW TO MAKE TERRACE FARMING MODEL,ROUF35GxVa4,TERRACE FARMING MODEL || SCHOOL PROJECTS || HOW TO MAKE TERRACE FARMING MODEL #terracefarming #schoolprojects #howtomake ...,2019-07-13T09:44:27Z,74,13,10663,6\\n\"Terrace Farm, How to Make your Terrace Farm, \\xe0\\xa4\\x9f\\xe0\\xa5\\x87\\xe0\\xa4\\xb0\\xe0\\xa5\\x87\\xe0\\xa4\\xb8 \\xe0\\xa4\\xab\\xe0\\xa4\\xbe\\xe0\\xa4\\xb0\\xe0\\xa5\\x8d\\xe0\\xa4\\xae \\xe0\\xa4\\x95\\xe0\\xa5\\x88\\xe0\\xa4\\xb8\\xe0\\xa5\\x87 \\xe0\\xa4\\xac\\xe0\\xa4\\xa8\\xe0\\xa4\\xbe\\xe0\\xa4\\x8f, Terrace Garden, Urban farming\",uNTDFmSxO7k,\"Terrace Farm, How to Make your Terrace Farm, \\xe0\\xa4\\x9f\\xe0\\xa5\\x87\\xe0\\xa4\\xb0\\xe0\\xa5\\x87\\xe0\\xa4\\xb8 \\xe0\\xa4\\xab\\xe0\\xa4\\xbe\\xe0\\xa4\\xb0\\xe0\\xa5\\x8d\\xe0\\xa4\\xae \\xe0\\xa4\\x95\\xe0\\xa5\\x88\\xe0\\xa4\\xb8\\xe0\\xa5\\x87 \\xe0\\xa4\\xac\\xe0\\xa4\\xa8\\xe0\\xa4\\xbe\\xe0\\xa4\\x8f, \\xe0\\xa4\\x95\\xe0\\xa5\\x88\\xe0\\xa4\\xb8\\xe0\\xa5\\x87 \\xe0\\xa4\\xac\\xe0\\xa4\\xa8\\xe0\\xa4\\xbe\\xe0\\xa4\\xaf\\xe0\\xa4\\xbe \\xe0\\xa4\\xae\\xe0\\xa5\\x88\\xe0\\xa4\\x82\\xe0\\xa4\\xa8\\xe0\\xa5\\x87 \\xe0\\xa4\\xae\\xe0\\xa5\\x87\\xe0\\xa4\\xb0\\xe0\\xa4\\xbe \\xe0\\xa4\\x9f\\xe0\\xa5\\x87\\xe0\\xa4\\xb0\\xe0\\xa5\\x87\\xe0\\xa4\\xb8 \\xe0\\xa4\\xab\\xe0\\xa4\\xbe\\xe0\\xa4\\xb0\\xe0\\xa5\\x8d\\xe0\\xa4\\xae , \\xe0\\xa4\\x9f\\xe0\\xa5\\x87\\xe0\\xa4\\xb0\\xe0\\xa5\\x87\\xe0\\xa4\\xb8 \\xe0\\xa4\\xab\\xe0\\xa4\\xbe\\xe0\\xa4\\xb0\\xe0\\xa5\\x8d\\xe0\\xa4\\xae, Terrace Garden ...\",2020-07-26T04:50:40Z,377,8,10214,49\\n\\xe0\\xa4\\x9b\\xe0\\xa4\\xa4 \\xe0\\xa4\\xaa\\xe0\\xa5\\x87 \\xe0\\xa4\\x95\\xe0\\xa5\\x8d\\xe0\\xa4\\xaf\\xe0\\xa4\\xbe\\xe0\\xa4\\xb0\\xe0\\xa5\\x80 \\xe0\\xa4\\x95\\xe0\\xa5\\x88\\xe0\\xa4\\xb8\\xe0\\xa5\\x87 \\xe0\\xa4\\xac\\xe0\\xa4\\xa8\\xe0\\xa4\\xbe\\xe0\\xa4\\x8f / How to make Elevated bed on Terrace// Rooftop/Kitchen gardening\\xf0\\x9f\\x8c\\xb1\\xf0\\x9f\\x8c\\xbf\\xf0\\x9f\\xa7\\xb1\\xf0\\x9f\\x8c\\xbe,Vjs4BLOzdNQ,,2020-10-05T16:13:50Z,193,9,10143,51\\nHow to make your own easy rooftop garden |Terrace | Construction | Part#02|| Urdu/Hind  cement slab,GJnI-bGT0Qk,In this episode I am making a #rooftop #garden at my Tiny house. This is a diy raised flower bed filled with #bee friendly plants and lavender. I am using cement ...,2020-02-08T15:13:18Z,53,66,9853,16\\nWick Irrigation or Thiri Nana #DIY Information for self watering in Terrace Vegetable Gardens,LHlHpJqZCP4,Wick Irrigation #DIY #Gardening #OraganicVegetableGarden #Drip Irrigation Wick Irrigation or Thiri Nana related Information are described in this video to \\'do it ...,2020-05-26T07:38:25Z,218,12,8144,64\\nHow To Make Terrace Garden In Fiber Tubs || Terrace Gardening Ideas || SumanTV Tree,xcqVszAOgJc,Trees are the most important aspects which helps us to survive in this world. Growing Plants is a good idea but the idea of terrace garden is an awesome one !,2019-08-12T13:30:05Z,47,2,7426,4\\nTerrace farming model,9kxMBPaTRl4,\"eco friendly still model of terrace farming using plaster of paris, card board and fresh leaves...\",2019-11-07T21:07:16Z,82,17,7166,7\\n3D model Terrace Farming | Model from waste material | Science Project | step farming model,tAnPU3ubIWg,Few interesting videos Learning tricks 28 states of India: https://youtu.be/jb_xAIcLcdg Diy party popper: https://youtu.be/g38uXh1h2pY Hello kitty money bank ...,2020-11-05T13:40:21Z,210,29,7364,53\\nstep farming model for science exhibition project | diy at home | howtofunda,4PQnxEOLfSU,step farming model for science exhibition project | diy at home | howtofunda #stepfarmingmodel #scienceexhibition #howtofunda Amazon ...,2019-12-13T14:25:34Z,79,12,6828,5\\nHow to Make Elevated Bed on Terrace for Vegetables | Waterproofing Not Required,25o63W7-goM,Today\\'s video is about making an elevated bed on rooftop. The specialty of this elevated bed is that it will not cost you a single penny and even if you have not ...,2019-12-13T15:00:19Z,152,4,6694,11\\nDIY How to Prevent Water Seepage in your Terrace Garden,J26XzZ7rVuc,\"In this DIY project, I will show you how I prevent water damage/ seepage in my terrace garden. The materials used for this project are cheap and easily available.\",2019-09-09T12:18:27Z,84,24,6635,7\\nDIY How to Prevent Water Seepage in your Terrace Garden,J26XzZ7rVuc,\"In this DIY project, I will show you how I prevent water damage/ seepage in my terrace garden. The materials used for this project are cheap and easily available.\",2019-09-09T12:18:27Z,84,24,6635,7\\nHYDROPNIC FARMING IN INDIA | Soilless farming at Home | Vertical Farming | Terrace Farming / Garden,SHLSQm_6G2M,\"New technologies are coming up every day in the world. As the world population is growing, the agriculture industry is also developing new techniques to grow ...\",2020-11-24T04:50:52Z,135,3,5541,10\\n200 Holes NFT Hydroponics System | DIY Hydroponics Setup At Home | Urban Farming | CItyKisan,8bMpS1gAt30,hydroponics #diyhydroponics #urbanfarming Here is the video of the DIY Hydroponics Setup at home. We prepare a 200 potholes hydroponics setup for the ...,2020-11-03T06:22:01Z,63,6,5341,13\\nTerrace farming model,eIK0nT5WQcU,video for Kids.,2019-02-27T06:13:31Z,37,5,5232,0\\nHow to make soilless media for terrace Gardening...,OgUVMSAesHw,Soilless media recipe metrial Mustard cake Powder coco peat - 50% Neem cake Powder seaweed extract Dust-20% Compost- 30% other fertilizer in very small ...,2020-09-10T06:52:44Z,176,5,4770,382\\n\"Terrace Garden Ideas DIY for Homes To Lift Heavy Weights, Soil, Bricks and Fertilizers to Upstairs\",LrQmWE0yDN4,\"TerraceGardenIdeas #DIY Terrace Garden Ideas DIY for Homes To Lift Heavy Weights like Soil, Bricks and Fertilizers to Upstairs are described in this video.\",2020-05-13T08:16:37Z,95,10,2982,33\\nMake terraces out of trees ~ North slope gardening ~ Hugelkultur,j5kMSmBI7gY,Today we are preparing a new 75 square foot terrace for our north sloping garden. The best terraces are made with logs because in spring and fall they will be ...,2020-02-25T21:58:12Z,91,0,2718,12\\nModel on Terrace farming,VfRBQREwUZ0,\"Model on Terrace farming with the help of Real clay, wooden sheet(ply), Fevicryl colours.cont- 9711335475 for order.\",2019-06-20T14:07:43Z,20,8,2341,2\\nPoultry farming tips for terrace poultry farming in terrace vegetable garden hi-tech cage farming,C4IBd-fH09A,Poultry farming tips for terrace poultry farming in terrace vegetable garden hi-tech cage farming. The poultry farming in terrace garden is an easy activity if you ...,2020-12-22T10:56:55Z,0,0,1580,6\\nTerrace farming and cultivation of vegetable-DIY pure and natural,H3fv4I6oDmI,Terrace Garden after summer shower. My terrace garden in to the harvest stage. More awareness videos about all vegetable farming and harvest videos on the ...,2020-05-01T17:26:27Z,226,1,1347,47\\nHi-tech poultry cage construction and farming easily #DIY in Terrace vegetable garden,GkOvh5LNvEM,Hi-tech poultry cage construction easily #DIY in Terrace vegetable garden. Poultry farming can be done easily in the terrace vegetable garden and the hi-tech ...,2020-12-20T12:40:07Z,0,0,1397,6\\nDIY Terrace Farming Model | Terrace Farming Model At Home | 3D Model on Terrace farming,lfgYr9mhhqk,DIY #TerraceFarming #ScienceProject.,2021-01-20T09:01:43Z,35,1,947,4\\nSTEP FARMING SCHOOL PROJECT I TERRACE FARMING MODEL I FUN LEARNING WITH JIYA KOENA,b73-7_K5Lgc,\"Jiya prepared a step farming school project and she describes her journey through this project, which helped her to plan, design & colour the model. I hope you ...\",2020-08-28T05:30:02Z,34,2,859,0\\n100% Organic Farming | DIY Project | Waste Decomposer | Terrace Gardening | Part 1 | Setup,KnYZqROG0gM,,2018-06-02T09:25:15Z,7,2,698,7\\nHow to make potting / soil mix for pots for growing vegetables|  terrace gardening,kTu8_HjJkl8,The videos discusses about making potting mix for growing vegetables in containers. A light weight potting mix is being discussed using the following ...,2020-08-25T16:58:32Z,29,1,682,10\\nTerrace farming || how to set up terrace for vegetable gardening. [IMPORTANT],C89Cw5K76DQ,How to set up your terrace for vegetable gardening. 7 things to be considered while starting a vegetable garden in your terrace 1.divide terrace for climber and ...,2020-06-20T10:17:31Z,67,0,660,22\\nBalcony Garden decorations with waste marterials | Gardening in Balcony @ Bahrain,CnYrMpYflJI,Bestoutofwaste #Diy #Reduce #Reuse #Recycling #Withme #Tshirt #Craft #Gardening #Balconygarden #krishi #Balconydecorations #Dhanyas gardenart ...,2019-12-17T12:47:36Z,20,0,568,8\\nHow to make terrace farming model.,2soreUu6M-o,,2019-06-07T05:40:58Z,11,1,401,1\\nTERRACE FARMING|SCIENCE PROJECT|SCHOOL MODEL|KIDS|DIY PROJECT|#Anmolartcreations,h8SBo7L5ufQ,Hello Dosto / friends ajj Iss Vedio me Aplogo ko Dekhaunga TERRACE FARMING|SCIENCE PROJECT|SCHOOL MODEL|KIDS|DIY ...,2020-03-10T08:19:24Z,6,0,104,2\\nFarming Tips Without Land | Terrace Farming | Punjabi Farms | DIY Plants and Crops | Food Farming,fGnvEHMN26M,Farming Tips Without Land | Terrace Farming | Punjabi Farms | DIY Plants and Crops | Food Farming \\xe0\\xa8\\x86\\xe0\\xa8\\xb9 \\xe0\\xa8\\xb5\\xe0\\xa9\\x87\\xe0\\xa8\\x96\\xe0\\xa9\\x8b \\xe0\\xa8\\xae\\xe0\\xa8\\xbf\\xe0\\xa9\\xb1\\xe0\\xa8\\x9f\\xe0\\xa9\\x80 \\xe0\\xa8\\xa4\\xe0\\xa9\\x8b\\xe0\\xa8\\x82 \\xe0\\xa8\\xac\\xe0\\xa8\\x97\\xe0\\xa9\\x88\\xe0\\xa8\\xb0 \\xe0\\xa8\\x95\\xe0\\xa8\\xbf\\xe0\\xa8\\xb5\\xe0\\xa9\\x87\\xe0\\xa8\\x82 \\xe0\\xa8\\xb9\\xe0\\xa9\\x81\\xe0\\xa9\\xb0\\xe0\\xa8\\xa6\\xe0\\xa9\\x80 \\xe0\\xa8\\xb9\\xe0\\xa9\\x88 \\xe0\\xa8\\x96\\xe0\\xa9\\x87\\xe0\\xa8\\xa4\\xe0\\xa9\\x80 !,2021-03-06T01:30:19Z,7,0,38,0\\nPlastic Bottles into Two Tier Flower Pot For Terrace Garden  | Terrace Farming | VC Terrace Garden,XG1a1J0PlME,\"diy, #terracefarming, #flowerpots, #plasticbottles Plastic Bottles into Two Tier Flower Pots For Terrace Garden | DIY Terrace Garden | Terrace Farming | VC ...\",2021-01-08T18:33:52Z,2,0,23,0\\n0,0,0,0,0,0,0,0\\n'}\n",
            "ExtractedData (1).csv\n"
          ],
          "name": "stdout"
        }
      ]
    },
    {
      "cell_type": "code",
      "metadata": {
        "id": "aU-jl4XWH1jw",
        "colab": {
          "base_uri": "https://localhost:8080/",
          "height": 34
        },
        "outputId": "ed4cb516-ffef-42a2-bda0-79a01d410a37"
      },
      "source": [
        " # Google Colab Setup\n",
        "from google.colab import drive\n",
        "\n",
        "# This will prompt for authorization.\n",
        "drive.mount('/content/drive')"
      ],
      "execution_count": null,
      "outputs": [
        {
          "output_type": "stream",
          "text": [
            "Drive already mounted at /content/drive; to attempt to forcibly remount, call drive.mount(\"/content/drive\", force_remount=True).\n"
          ],
          "name": "stdout"
        }
      ]
    },
    {
      "cell_type": "code",
      "metadata": {
        "id": "ERMhezy7JWca"
      },
      "source": [
        "import os"
      ],
      "execution_count": null,
      "outputs": []
    },
    {
      "cell_type": "code",
      "metadata": {
        "id": "VMStYkmaJt27"
      },
      "source": [
        "os.chdir('/content/drive/My Drive/Analytic-Steps-blogs/YouTube/')"
      ],
      "execution_count": null,
      "outputs": []
    },
    {
      "cell_type": "code",
      "metadata": {
        "id": "3eOOtsx9csqv"
      },
      "source": [
        "import pandas as pd\n",
        "import numpy as np"
      ],
      "execution_count": 2,
      "outputs": []
    },
    {
      "cell_type": "code",
      "metadata": {
        "id": "BL_FelwRcxia",
        "colab": {
          "base_uri": "https://localhost:8080/",
          "height": 204
        },
        "outputId": "fcf71743-d26c-49a0-8d0a-2d29eb60bb8a"
      },
      "source": [
        "data = pd.read_csv(filename) #\"ExtractedData.csv\")\n",
        "data.head()"
      ],
      "execution_count": 3,
      "outputs": [
        {
          "output_type": "execute_result",
          "data": {
            "text/html": [
              "<div>\n",
              "<style scoped>\n",
              "    .dataframe tbody tr th:only-of-type {\n",
              "        vertical-align: middle;\n",
              "    }\n",
              "\n",
              "    .dataframe tbody tr th {\n",
              "        vertical-align: top;\n",
              "    }\n",
              "\n",
              "    .dataframe thead th {\n",
              "        text-align: right;\n",
              "    }\n",
              "</style>\n",
              "<table border=\"1\" class=\"dataframe\">\n",
              "  <thead>\n",
              "    <tr style=\"text-align: right;\">\n",
              "      <th></th>\n",
              "      <th>title</th>\n",
              "      <th>videoIds</th>\n",
              "      <th>video_description</th>\n",
              "      <th>publishedDate</th>\n",
              "      <th>likes</th>\n",
              "      <th>dislikes</th>\n",
              "      <th>views</th>\n",
              "      <th>comment</th>\n",
              "    </tr>\n",
              "  </thead>\n",
              "  <tbody>\n",
              "    <tr>\n",
              "      <th>0</th>\n",
              "      <td>Rooftop Terrace Garden Transformation | Terrac...</td>\n",
              "      <td>X0QqhFn8HC8</td>\n",
              "      <td>Hello Everyone! After a long time, I'm back wi...</td>\n",
              "      <td>2020-10-02T15:46:30Z</td>\n",
              "      <td>48261</td>\n",
              "      <td>1492</td>\n",
              "      <td>3188581</td>\n",
              "      <td>1255</td>\n",
              "    </tr>\n",
              "    <tr>\n",
              "      <th>1</th>\n",
              "      <td>Grow Your Own Food II Container Gardening Idea...</td>\n",
              "      <td>6C1a7Pn1CUQ</td>\n",
              "      <td>... terrace gardening classes in chennai terra...</td>\n",
              "      <td>2017-09-22T09:49:20Z</td>\n",
              "      <td>4594</td>\n",
              "      <td>446</td>\n",
              "      <td>979016</td>\n",
              "      <td>243</td>\n",
              "    </tr>\n",
              "    <tr>\n",
              "      <th>2</th>\n",
              "      <td>how  to make a grass bed/flower bed/bed to gro...</td>\n",
              "      <td>Ev6qg4Rvet4</td>\n",
              "      <td>A video on growing bermuda grass on my terrace...</td>\n",
              "      <td>2018-10-05T07:51:31Z</td>\n",
              "      <td>6520</td>\n",
              "      <td>611</td>\n",
              "      <td>529447</td>\n",
              "      <td>440</td>\n",
              "    </tr>\n",
              "    <tr>\n",
              "      <th>3</th>\n",
              "      <td>MAKING OF TERRACE GARDEN | Gardening Ideas for...</td>\n",
              "      <td>wnwRBFci70M</td>\n",
              "      <td>Today we will look into DIY Gardening Ideas fo...</td>\n",
              "      <td>2018-04-27T12:38:51Z</td>\n",
              "      <td>5335</td>\n",
              "      <td>211</td>\n",
              "      <td>433114</td>\n",
              "      <td>273</td>\n",
              "    </tr>\n",
              "    <tr>\n",
              "      <th>4</th>\n",
              "      <td>आइये छत पर खेत बनाते हैं | Elevated Bed on Ter...</td>\n",
              "      <td>IAINLO2nQgU</td>\n",
              "      <td>... of terrace gardening Trick for terrace far...</td>\n",
              "      <td>2019-09-13T15:14:42Z</td>\n",
              "      <td>9326</td>\n",
              "      <td>309</td>\n",
              "      <td>414244</td>\n",
              "      <td>372</td>\n",
              "    </tr>\n",
              "  </tbody>\n",
              "</table>\n",
              "</div>"
            ],
            "text/plain": [
              "                                               title  ... comment\n",
              "0  Rooftop Terrace Garden Transformation | Terrac...  ...    1255\n",
              "1  Grow Your Own Food II Container Gardening Idea...  ...     243\n",
              "2  how  to make a grass bed/flower bed/bed to gro...  ...     440\n",
              "3  MAKING OF TERRACE GARDEN | Gardening Ideas for...  ...     273\n",
              "4  आइये छत पर खेत बनाते हैं | Elevated Bed on Ter...  ...     372\n",
              "\n",
              "[5 rows x 8 columns]"
            ]
          },
          "metadata": {
            "tags": []
          },
          "execution_count": 3
        }
      ]
    },
    {
      "cell_type": "code",
      "metadata": {
        "id": "XX9qAipEc2ei",
        "colab": {
          "base_uri": "https://localhost:8080/"
        },
        "outputId": "7e7cc689-406b-4342-b277-38184f8e41d7"
      },
      "source": [
        "print(\"total number of videos uploaded on the channel: \"+str(data.shape[0]))"
      ],
      "execution_count": 4,
      "outputs": [
        {
          "output_type": "stream",
          "text": [
            "total number of videos uploaded on the channel: 71\n"
          ],
          "name": "stdout"
        }
      ]
    },
    {
      "cell_type": "code",
      "metadata": {
        "id": "eDXCfVbHwYAb",
        "colab": {
          "base_uri": "https://localhost:8080/"
        },
        "outputId": "91a228e9-5841-4862-cd25-09a83b08917a"
      },
      "source": [
        "data['views'].value_counts()"
      ],
      "execution_count": 5,
      "outputs": [
        {
          "output_type": "execute_result",
          "data": {
            "text/plain": [
              "6635     2\n",
              "7166     1\n",
              "2718     1\n",
              "32032    1\n",
              "92961    1\n",
              "        ..\n",
              "26432    1\n",
              "13758    1\n",
              "19004    1\n",
              "698      1\n",
              "0        1\n",
              "Name: views, Length: 70, dtype: int64"
            ]
          },
          "metadata": {
            "tags": []
          },
          "execution_count": 5
        }
      ]
    },
    {
      "cell_type": "code",
      "metadata": {
        "id": "35NKCbr-wL9Q",
        "colab": {
          "base_uri": "https://localhost:8080/"
        },
        "outputId": "b7fee80f-72bd-4f39-de13-a58904f35d74"
      },
      "source": [
        "data['likes'].value_counts()"
      ],
      "execution_count": 6,
      "outputs": [
        {
          "output_type": "execute_result",
          "data": {
            "text/plain": [
              "0      4\n",
              "7      2\n",
              "20     2\n",
              "85     2\n",
              "84     2\n",
              "      ..\n",
              "176    1\n",
              "70     1\n",
              "67     1\n",
              "193    1\n",
              "63     1\n",
              "Name: likes, Length: 64, dtype: int64"
            ]
          },
          "metadata": {
            "tags": []
          },
          "execution_count": 6
        }
      ]
    },
    {
      "cell_type": "code",
      "metadata": {
        "id": "aIgSGoC0wPpL",
        "colab": {
          "base_uri": "https://localhost:8080/"
        },
        "outputId": "e820e686-d6cf-4986-9c5d-69d3542deaaa"
      },
      "source": [
        "data['comment'].value_counts()\n",
        "data['dislikes'].value_counts()"
      ],
      "execution_count": 7,
      "outputs": [
        {
          "output_type": "execute_result",
          "data": {
            "text/plain": [
              "0       10\n",
              "1        4\n",
              "8        4\n",
              "2        3\n",
              "4        3\n",
              "24       3\n",
              "13       3\n",
              "18       2\n",
              "93       2\n",
              "5        2\n",
              "32       2\n",
              "11       2\n",
              "12       2\n",
              "21       1\n",
              "20       1\n",
              "19       1\n",
              "10       1\n",
              "17       1\n",
              "9        1\n",
              "6        1\n",
              "3        1\n",
              "22       1\n",
              "125      1\n",
              "248      1\n",
              "65       1\n",
              "232      1\n",
              "611      1\n",
              "1492     1\n",
              "211      1\n",
              "78       1\n",
              "73       1\n",
              "66       1\n",
              "446      1\n",
              "31       1\n",
              "57       1\n",
              "183      1\n",
              "309      1\n",
              "49       1\n",
              "46       1\n",
              "173      1\n",
              "172      1\n",
              "29       1\n",
              "Name: dislikes, dtype: int64"
            ]
          },
          "metadata": {
            "tags": []
          },
          "execution_count": 7
        }
      ]
    },
    {
      "cell_type": "code",
      "metadata": {
        "id": "pTaWWOToc3wi",
        "colab": {
          "base_uri": "https://localhost:8080/"
        },
        "outputId": "ad3842cf-2261-4381-c497-ca59eb5bd667"
      },
      "source": [
        "data['dislikes'].value_counts()"
      ],
      "execution_count": 8,
      "outputs": [
        {
          "output_type": "execute_result",
          "data": {
            "text/plain": [
              "0       10\n",
              "1        4\n",
              "8        4\n",
              "2        3\n",
              "4        3\n",
              "24       3\n",
              "13       3\n",
              "18       2\n",
              "93       2\n",
              "5        2\n",
              "32       2\n",
              "11       2\n",
              "12       2\n",
              "21       1\n",
              "20       1\n",
              "19       1\n",
              "10       1\n",
              "17       1\n",
              "9        1\n",
              "6        1\n",
              "3        1\n",
              "22       1\n",
              "125      1\n",
              "248      1\n",
              "65       1\n",
              "232      1\n",
              "611      1\n",
              "1492     1\n",
              "211      1\n",
              "78       1\n",
              "73       1\n",
              "66       1\n",
              "446      1\n",
              "31       1\n",
              "57       1\n",
              "183      1\n",
              "309      1\n",
              "49       1\n",
              "46       1\n",
              "173      1\n",
              "172      1\n",
              "29       1\n",
              "Name: dislikes, dtype: int64"
            ]
          },
          "metadata": {
            "tags": []
          },
          "execution_count": 8
        }
      ]
    },
    {
      "cell_type": "code",
      "metadata": {
        "id": "yzGEW_2cfGkT",
        "colab": {
          "base_uri": "https://localhost:8080/"
        },
        "outputId": "d5e1b900-0e45-44cf-bec5-d6b5f9ad0705"
      },
      "source": [
        "data['likes'].isnull().value_counts()"
      ],
      "execution_count": 9,
      "outputs": [
        {
          "output_type": "execute_result",
          "data": {
            "text/plain": [
              "False    71\n",
              "Name: likes, dtype: int64"
            ]
          },
          "metadata": {
            "tags": []
          },
          "execution_count": 9
        }
      ]
    },
    {
      "cell_type": "code",
      "metadata": {
        "id": "C8hs76dxfqyM",
        "colab": {
          "base_uri": "https://localhost:8080/"
        },
        "outputId": "1e15403a-3c2c-48cd-ecbc-eff9acf34898"
      },
      "source": [
        "data.videoIds.isnull().value_counts()"
      ],
      "execution_count": 11,
      "outputs": [
        {
          "output_type": "execute_result",
          "data": {
            "text/plain": [
              "False    71\n",
              "Name: videoIds, dtype: int64"
            ]
          },
          "metadata": {
            "tags": []
          },
          "execution_count": 11
        }
      ]
    },
    {
      "cell_type": "code",
      "metadata": {
        "id": "QfM4nHpHf1T1",
        "colab": {
          "base_uri": "https://localhost:8080/"
        },
        "outputId": "a4fb9524-97d2-47b9-ef6b-d6a81a11b58a"
      },
      "source": [
        "data.info()"
      ],
      "execution_count": 12,
      "outputs": [
        {
          "output_type": "stream",
          "text": [
            "<class 'pandas.core.frame.DataFrame'>\n",
            "RangeIndex: 71 entries, 0 to 70\n",
            "Data columns (total 8 columns):\n",
            " #   Column             Non-Null Count  Dtype \n",
            "---  ------             --------------  ----- \n",
            " 0   title              71 non-null     object\n",
            " 1   videoIds           71 non-null     object\n",
            " 2   video_description  68 non-null     object\n",
            " 3   publishedDate      71 non-null     object\n",
            " 4   likes              71 non-null     int64 \n",
            " 5   dislikes           71 non-null     int64 \n",
            " 6   views              71 non-null     int64 \n",
            " 7   comment            71 non-null     int64 \n",
            "dtypes: int64(4), object(4)\n",
            "memory usage: 4.6+ KB\n"
          ],
          "name": "stdout"
        }
      ]
    },
    {
      "cell_type": "code",
      "metadata": {
        "id": "MBVftszBgI5o",
        "colab": {
          "base_uri": "https://localhost:8080/",
          "height": 297
        },
        "outputId": "65186852-368c-4f5e-bc8d-41a9011e20be"
      },
      "source": [
        "data.describe()"
      ],
      "execution_count": 13,
      "outputs": [
        {
          "output_type": "execute_result",
          "data": {
            "text/html": [
              "<div>\n",
              "<style scoped>\n",
              "    .dataframe tbody tr th:only-of-type {\n",
              "        vertical-align: middle;\n",
              "    }\n",
              "\n",
              "    .dataframe tbody tr th {\n",
              "        vertical-align: top;\n",
              "    }\n",
              "\n",
              "    .dataframe thead th {\n",
              "        text-align: right;\n",
              "    }\n",
              "</style>\n",
              "<table border=\"1\" class=\"dataframe\">\n",
              "  <thead>\n",
              "    <tr style=\"text-align: right;\">\n",
              "      <th></th>\n",
              "      <th>likes</th>\n",
              "      <th>dislikes</th>\n",
              "      <th>views</th>\n",
              "      <th>comment</th>\n",
              "    </tr>\n",
              "  </thead>\n",
              "  <tbody>\n",
              "    <tr>\n",
              "      <th>count</th>\n",
              "      <td>71.000000</td>\n",
              "      <td>71.000000</td>\n",
              "      <td>7.100000e+01</td>\n",
              "      <td>71.000000</td>\n",
              "    </tr>\n",
              "    <tr>\n",
              "      <th>mean</th>\n",
              "      <td>1384.535211</td>\n",
              "      <td>75.070423</td>\n",
              "      <td>1.127964e+05</td>\n",
              "      <td>74.366197</td>\n",
              "    </tr>\n",
              "    <tr>\n",
              "      <th>std</th>\n",
              "      <td>5858.283405</td>\n",
              "      <td>200.607102</td>\n",
              "      <td>4.004730e+05</td>\n",
              "      <td>169.795612</td>\n",
              "    </tr>\n",
              "    <tr>\n",
              "      <th>min</th>\n",
              "      <td>0.000000</td>\n",
              "      <td>0.000000</td>\n",
              "      <td>0.000000e+00</td>\n",
              "      <td>0.000000</td>\n",
              "    </tr>\n",
              "    <tr>\n",
              "      <th>25%</th>\n",
              "      <td>62.000000</td>\n",
              "      <td>3.500000</td>\n",
              "      <td>5.001000e+03</td>\n",
              "      <td>6.000000</td>\n",
              "    </tr>\n",
              "    <tr>\n",
              "      <th>50%</th>\n",
              "      <td>176.000000</td>\n",
              "      <td>13.000000</td>\n",
              "      <td>1.582000e+04</td>\n",
              "      <td>26.000000</td>\n",
              "    </tr>\n",
              "    <tr>\n",
              "      <th>75%</th>\n",
              "      <td>517.500000</td>\n",
              "      <td>53.000000</td>\n",
              "      <td>4.791700e+04</td>\n",
              "      <td>61.000000</td>\n",
              "    </tr>\n",
              "    <tr>\n",
              "      <th>max</th>\n",
              "      <td>48261.000000</td>\n",
              "      <td>1492.000000</td>\n",
              "      <td>3.188581e+06</td>\n",
              "      <td>1255.000000</td>\n",
              "    </tr>\n",
              "  </tbody>\n",
              "</table>\n",
              "</div>"
            ],
            "text/plain": [
              "              likes     dislikes         views      comment\n",
              "count     71.000000    71.000000  7.100000e+01    71.000000\n",
              "mean    1384.535211    75.070423  1.127964e+05    74.366197\n",
              "std     5858.283405   200.607102  4.004730e+05   169.795612\n",
              "min        0.000000     0.000000  0.000000e+00     0.000000\n",
              "25%       62.000000     3.500000  5.001000e+03     6.000000\n",
              "50%      176.000000    13.000000  1.582000e+04    26.000000\n",
              "75%      517.500000    53.000000  4.791700e+04    61.000000\n",
              "max    48261.000000  1492.000000  3.188581e+06  1255.000000"
            ]
          },
          "metadata": {
            "tags": []
          },
          "execution_count": 13
        }
      ]
    },
    {
      "cell_type": "code",
      "metadata": {
        "id": "-L0sA1UJgNQE",
        "colab": {
          "base_uri": "https://localhost:8080/"
        },
        "outputId": "1b93571b-055c-464e-b612-bdf67d68131d"
      },
      "source": [
        "print(\"Maxium number of likes on videos are \",data['likes'].max())\n",
        "print(\"Maxium number of dislikes on videos are \",data['dislikes'].max())\n",
        "print(\"Maxium number of view on videos are \",data['views'].max())\n",
        "print(\"Maxium number of comments on videos are \",data['comment'].max())"
      ],
      "execution_count": 14,
      "outputs": [
        {
          "output_type": "stream",
          "text": [
            "Maxium number of likes on videos are  48261\n",
            "Maxium number of dislikes on videos are  1492\n",
            "Maxium number of view on videos are  3188581\n",
            "Maxium number of comments on videos are  1255\n"
          ],
          "name": "stdout"
        }
      ]
    },
    {
      "cell_type": "markdown",
      "metadata": {
        "id": "G2MVIRpHyS89"
      },
      "source": [
        "## Sort the videos on the basis of likes i.e. most liked video will appear at last"
      ]
    },
    {
      "cell_type": "code",
      "metadata": {
        "id": "g4y4wAyiwe8k"
      },
      "source": [
        "data_liked = data.sort_values(by = 'likes',axis = 0,ascending = True,ignore_index=True)"
      ],
      "execution_count": 15,
      "outputs": []
    },
    {
      "cell_type": "code",
      "metadata": {
        "id": "wx4qp1J3yomc",
        "colab": {
          "base_uri": "https://localhost:8080/",
          "height": 204
        },
        "outputId": "e97a7388-0968-4975-bfae-a59a7f028c15"
      },
      "source": [
        "data.head()"
      ],
      "execution_count": 16,
      "outputs": [
        {
          "output_type": "execute_result",
          "data": {
            "text/html": [
              "<div>\n",
              "<style scoped>\n",
              "    .dataframe tbody tr th:only-of-type {\n",
              "        vertical-align: middle;\n",
              "    }\n",
              "\n",
              "    .dataframe tbody tr th {\n",
              "        vertical-align: top;\n",
              "    }\n",
              "\n",
              "    .dataframe thead th {\n",
              "        text-align: right;\n",
              "    }\n",
              "</style>\n",
              "<table border=\"1\" class=\"dataframe\">\n",
              "  <thead>\n",
              "    <tr style=\"text-align: right;\">\n",
              "      <th></th>\n",
              "      <th>title</th>\n",
              "      <th>videoIds</th>\n",
              "      <th>video_description</th>\n",
              "      <th>publishedDate</th>\n",
              "      <th>likes</th>\n",
              "      <th>dislikes</th>\n",
              "      <th>views</th>\n",
              "      <th>comment</th>\n",
              "    </tr>\n",
              "  </thead>\n",
              "  <tbody>\n",
              "    <tr>\n",
              "      <th>0</th>\n",
              "      <td>Rooftop Terrace Garden Transformation | Terrac...</td>\n",
              "      <td>X0QqhFn8HC8</td>\n",
              "      <td>Hello Everyone! After a long time, I'm back wi...</td>\n",
              "      <td>2020-10-02T15:46:30Z</td>\n",
              "      <td>48261</td>\n",
              "      <td>1492</td>\n",
              "      <td>3188581</td>\n",
              "      <td>1255</td>\n",
              "    </tr>\n",
              "    <tr>\n",
              "      <th>1</th>\n",
              "      <td>Grow Your Own Food II Container Gardening Idea...</td>\n",
              "      <td>6C1a7Pn1CUQ</td>\n",
              "      <td>... terrace gardening classes in chennai terra...</td>\n",
              "      <td>2017-09-22T09:49:20Z</td>\n",
              "      <td>4594</td>\n",
              "      <td>446</td>\n",
              "      <td>979016</td>\n",
              "      <td>243</td>\n",
              "    </tr>\n",
              "    <tr>\n",
              "      <th>2</th>\n",
              "      <td>how  to make a grass bed/flower bed/bed to gro...</td>\n",
              "      <td>Ev6qg4Rvet4</td>\n",
              "      <td>A video on growing bermuda grass on my terrace...</td>\n",
              "      <td>2018-10-05T07:51:31Z</td>\n",
              "      <td>6520</td>\n",
              "      <td>611</td>\n",
              "      <td>529447</td>\n",
              "      <td>440</td>\n",
              "    </tr>\n",
              "    <tr>\n",
              "      <th>3</th>\n",
              "      <td>MAKING OF TERRACE GARDEN | Gardening Ideas for...</td>\n",
              "      <td>wnwRBFci70M</td>\n",
              "      <td>Today we will look into DIY Gardening Ideas fo...</td>\n",
              "      <td>2018-04-27T12:38:51Z</td>\n",
              "      <td>5335</td>\n",
              "      <td>211</td>\n",
              "      <td>433114</td>\n",
              "      <td>273</td>\n",
              "    </tr>\n",
              "    <tr>\n",
              "      <th>4</th>\n",
              "      <td>आइये छत पर खेत बनाते हैं | Elevated Bed on Ter...</td>\n",
              "      <td>IAINLO2nQgU</td>\n",
              "      <td>... of terrace gardening Trick for terrace far...</td>\n",
              "      <td>2019-09-13T15:14:42Z</td>\n",
              "      <td>9326</td>\n",
              "      <td>309</td>\n",
              "      <td>414244</td>\n",
              "      <td>372</td>\n",
              "    </tr>\n",
              "  </tbody>\n",
              "</table>\n",
              "</div>"
            ],
            "text/plain": [
              "                                               title  ... comment\n",
              "0  Rooftop Terrace Garden Transformation | Terrac...  ...    1255\n",
              "1  Grow Your Own Food II Container Gardening Idea...  ...     243\n",
              "2  how  to make a grass bed/flower bed/bed to gro...  ...     440\n",
              "3  MAKING OF TERRACE GARDEN | Gardening Ideas for...  ...     273\n",
              "4  आइये छत पर खेत बनाते हैं | Elevated Bed on Ter...  ...     372\n",
              "\n",
              "[5 rows x 8 columns]"
            ]
          },
          "metadata": {
            "tags": []
          },
          "execution_count": 16
        }
      ]
    },
    {
      "cell_type": "code",
      "metadata": {
        "id": "8PidTIC80PTF",
        "colab": {
          "base_uri": "https://localhost:8080/",
          "height": 204
        },
        "outputId": "311b33b3-8318-47be-a7f5-be2d28335bd9"
      },
      "source": [
        "data_liked.head()"
      ],
      "execution_count": 17,
      "outputs": [
        {
          "output_type": "execute_result",
          "data": {
            "text/html": [
              "<div>\n",
              "<style scoped>\n",
              "    .dataframe tbody tr th:only-of-type {\n",
              "        vertical-align: middle;\n",
              "    }\n",
              "\n",
              "    .dataframe tbody tr th {\n",
              "        vertical-align: top;\n",
              "    }\n",
              "\n",
              "    .dataframe thead th {\n",
              "        text-align: right;\n",
              "    }\n",
              "</style>\n",
              "<table border=\"1\" class=\"dataframe\">\n",
              "  <thead>\n",
              "    <tr style=\"text-align: right;\">\n",
              "      <th></th>\n",
              "      <th>title</th>\n",
              "      <th>videoIds</th>\n",
              "      <th>video_description</th>\n",
              "      <th>publishedDate</th>\n",
              "      <th>likes</th>\n",
              "      <th>dislikes</th>\n",
              "      <th>views</th>\n",
              "      <th>comment</th>\n",
              "    </tr>\n",
              "  </thead>\n",
              "  <tbody>\n",
              "    <tr>\n",
              "      <th>0</th>\n",
              "      <td>0</td>\n",
              "      <td>0</td>\n",
              "      <td>0</td>\n",
              "      <td>0</td>\n",
              "      <td>0</td>\n",
              "      <td>0</td>\n",
              "      <td>0</td>\n",
              "      <td>0</td>\n",
              "    </tr>\n",
              "    <tr>\n",
              "      <th>1</th>\n",
              "      <td>Government vegetable garden Kit  | மாடித்தோட்ட...</td>\n",
              "      <td>_g_0dxmXLzw</td>\n",
              "      <td>In this video, I have shared about the rooftop...</td>\n",
              "      <td>2021-02-05T07:30:03Z</td>\n",
              "      <td>0</td>\n",
              "      <td>0</td>\n",
              "      <td>15225</td>\n",
              "      <td>92</td>\n",
              "    </tr>\n",
              "    <tr>\n",
              "      <th>2</th>\n",
              "      <td>Hi-tech poultry cage construction and farming ...</td>\n",
              "      <td>GkOvh5LNvEM</td>\n",
              "      <td>Hi-tech poultry cage construction easily #DIY ...</td>\n",
              "      <td>2020-12-20T12:40:07Z</td>\n",
              "      <td>0</td>\n",
              "      <td>0</td>\n",
              "      <td>1397</td>\n",
              "      <td>6</td>\n",
              "    </tr>\n",
              "    <tr>\n",
              "      <th>3</th>\n",
              "      <td>Poultry farming tips for terrace poultry farmi...</td>\n",
              "      <td>C4IBd-fH09A</td>\n",
              "      <td>Poultry farming tips for terrace poultry farmi...</td>\n",
              "      <td>2020-12-22T10:56:55Z</td>\n",
              "      <td>0</td>\n",
              "      <td>0</td>\n",
              "      <td>1580</td>\n",
              "      <td>6</td>\n",
              "    </tr>\n",
              "    <tr>\n",
              "      <th>4</th>\n",
              "      <td>Plastic Bottles into Two Tier Flower Pot For T...</td>\n",
              "      <td>XG1a1J0PlME</td>\n",
              "      <td>diy, #terracefarming, #flowerpots, #plasticbot...</td>\n",
              "      <td>2021-01-08T18:33:52Z</td>\n",
              "      <td>2</td>\n",
              "      <td>0</td>\n",
              "      <td>23</td>\n",
              "      <td>0</td>\n",
              "    </tr>\n",
              "  </tbody>\n",
              "</table>\n",
              "</div>"
            ],
            "text/plain": [
              "                                               title  ... comment\n",
              "0                                                  0  ...       0\n",
              "1  Government vegetable garden Kit  | மாடித்தோட்ட...  ...      92\n",
              "2  Hi-tech poultry cage construction and farming ...  ...       6\n",
              "3  Poultry farming tips for terrace poultry farmi...  ...       6\n",
              "4  Plastic Bottles into Two Tier Flower Pot For T...  ...       0\n",
              "\n",
              "[5 rows x 8 columns]"
            ]
          },
          "metadata": {
            "tags": []
          },
          "execution_count": 17
        }
      ]
    },
    {
      "cell_type": "markdown",
      "metadata": {
        "id": "bIuTzKz91Rqi"
      },
      "source": [
        "we will now find out the count of unique values of videos i.e. count of likes,dislikes etc. using **value_counts**"
      ]
    },
    {
      "cell_type": "code",
      "metadata": {
        "id": "CM7ooTq10cTf",
        "colab": {
          "base_uri": "https://localhost:8080/"
        },
        "outputId": "9e3babbc-595a-4810-c2bf-ba69cda9f5f0"
      },
      "source": [
        "data['likes'].value_counts(ascending = True,bins = 10)"
      ],
      "execution_count": 18,
      "outputs": [
        {
          "output_type": "execute_result",
          "data": {
            "text/plain": [
              "(9652.2, 14478.3]      0\n",
              "(14478.3, 19304.4]     0\n",
              "(19304.4, 24130.5]     0\n",
              "(24130.5, 28956.6]     0\n",
              "(28956.6, 33782.7]     0\n",
              "(33782.7, 38608.8]     0\n",
              "(38608.8, 43434.9]     0\n",
              "(43434.9, 48261.0]     1\n",
              "(4826.1, 9652.2]       3\n",
              "(-48.262, 4826.1]     67\n",
              "Name: likes, dtype: int64"
            ]
          },
          "metadata": {
            "tags": []
          },
          "execution_count": 18
        }
      ]
    },
    {
      "cell_type": "code",
      "metadata": {
        "id": "UJu46WLQz9gC",
        "colab": {
          "base_uri": "https://localhost:8080/"
        },
        "outputId": "24b3ac3b-0596-4a04-b4af-c85128d2f2ac"
      },
      "source": [
        "data['dislikes'].value_counts(ascending= True, bins = 10)"
      ],
      "execution_count": 19,
      "outputs": [
        {
          "output_type": "execute_result",
          "data": {
            "text/plain": [
              "(447.6, 596.8]                   0\n",
              "(746.0, 895.2]                   0\n",
              "(895.2, 1044.4]                  0\n",
              "(1044.4, 1193.6]                 0\n",
              "(1193.6, 1342.8]                 0\n",
              "(596.8, 746.0]                   1\n",
              "(1342.8, 1492.0]                 1\n",
              "(298.4, 447.6]                   2\n",
              "(149.2, 298.4]                   6\n",
              "(-1.4929999999999999, 149.2]    61\n",
              "Name: dislikes, dtype: int64"
            ]
          },
          "metadata": {
            "tags": []
          },
          "execution_count": 19
        }
      ]
    },
    {
      "cell_type": "markdown",
      "metadata": {
        "id": "OD9hUbMj10J2"
      },
      "source": [
        "as from the above cell, it is clear that most of the videos have likes between 0 to 1767 i.e. total 20022 <br>\n",
        "and the most liked videos are less. Also if go more deeper then it will be clear that only one video have highest likes"
      ]
    },
    {
      "cell_type": "code",
      "metadata": {
        "id": "HuFYLitMypkg",
        "colab": {
          "base_uri": "https://localhost:8080/"
        },
        "outputId": "9370acdb-6247-4039-b0ef-d97848704210"
      },
      "source": [
        "data_liked['dislikes'].value_counts()"
      ],
      "execution_count": 20,
      "outputs": [
        {
          "output_type": "execute_result",
          "data": {
            "text/plain": [
              "0       10\n",
              "1        4\n",
              "8        4\n",
              "2        3\n",
              "4        3\n",
              "24       3\n",
              "13       3\n",
              "18       2\n",
              "93       2\n",
              "5        2\n",
              "32       2\n",
              "11       2\n",
              "12       2\n",
              "21       1\n",
              "20       1\n",
              "19       1\n",
              "10       1\n",
              "17       1\n",
              "9        1\n",
              "6        1\n",
              "3        1\n",
              "22       1\n",
              "125      1\n",
              "248      1\n",
              "65       1\n",
              "232      1\n",
              "611      1\n",
              "1492     1\n",
              "211      1\n",
              "78       1\n",
              "73       1\n",
              "66       1\n",
              "446      1\n",
              "31       1\n",
              "57       1\n",
              "183      1\n",
              "309      1\n",
              "49       1\n",
              "46       1\n",
              "173      1\n",
              "172      1\n",
              "29       1\n",
              "Name: dislikes, dtype: int64"
            ]
          },
          "metadata": {
            "tags": []
          },
          "execution_count": 20
        }
      ]
    },
    {
      "cell_type": "markdown",
      "metadata": {
        "id": "of8LFc2Z2yuJ"
      },
      "source": [
        "From the above, it is clear that only 3 videos are most disliked"
      ]
    },
    {
      "cell_type": "code",
      "metadata": {
        "id": "zKyWKWhozRzL",
        "colab": {
          "base_uri": "https://localhost:8080/"
        },
        "outputId": "db956ab3-ec2d-4a21-8b9b-409baf0c6330"
      },
      "source": [
        "data['comment'].max()"
      ],
      "execution_count": 22,
      "outputs": [
        {
          "output_type": "execute_result",
          "data": {
            "text/plain": [
              "1255"
            ]
          },
          "metadata": {
            "tags": []
          },
          "execution_count": 22
        }
      ]
    },
    {
      "cell_type": "code",
      "metadata": {
        "id": "7MzTd4aO3Er4",
        "colab": {
          "base_uri": "https://localhost:8080/"
        },
        "outputId": "9deb51ca-0037-4a5a-87e3-63db6a4035bd"
      },
      "source": [
        "data['comment'].value_counts(ascending = True)"
      ],
      "execution_count": 23,
      "outputs": [
        {
          "output_type": "execute_result",
          "data": {
            "text/plain": [
              "127     1\n",
              "53      1\n",
              "60      1\n",
              "49      1\n",
              "48      1\n",
              "62      1\n",
              "46      1\n",
              "382     1\n",
              "39      1\n",
              "36      1\n",
              "64      1\n",
              "68      1\n",
              "26      1\n",
              "23      1\n",
              "182     1\n",
              "22      1\n",
              "16      1\n",
              "13      1\n",
              "12      1\n",
              "84      1\n",
              "92      1\n",
              "1255    1\n",
              "105     1\n",
              "243     1\n",
              "5       1\n",
              "372     1\n",
              "3       1\n",
              "124     1\n",
              "1       1\n",
              "440     1\n",
              "69      2\n",
              "41      2\n",
              "47      2\n",
              "33      2\n",
              "31      2\n",
              "273     2\n",
              "11      2\n",
              "8       2\n",
              "51      2\n",
              "10      3\n",
              "4       3\n",
              "2       3\n",
              "7       4\n",
              "6       4\n",
              "0       6\n",
              "Name: comment, dtype: int64"
            ]
          },
          "metadata": {
            "tags": []
          },
          "execution_count": 23
        }
      ]
    },
    {
      "cell_type": "markdown",
      "metadata": {
        "id": "hs66t1Cy3mv_"
      },
      "source": [
        "From the above cell it can be concluded that there is only one video with maxium comments i.e. 199 comments. <br>\n",
        "apart from this count of videos with no comments are maximum i.e. 8480 videos"
      ]
    },
    {
      "cell_type": "markdown",
      "metadata": {
        "id": "SbBLYIuJ4sXA"
      },
      "source": [
        "## Now we will extract the details of the most liked videos,most comment videos, videos with highest view"
      ]
    },
    {
      "cell_type": "code",
      "metadata": {
        "id": "9DyHLvs93aeU"
      },
      "source": [
        "most_likedID = data['likes'].idxmax()\n",
        "most_viewdID = data['views'].idxmax()\n",
        "most_commentID = data['comment'].idxmax()"
      ],
      "execution_count": 24,
      "outputs": []
    },
    {
      "cell_type": "code",
      "metadata": {
        "id": "ePY3e-6u6ysf",
        "colab": {
          "base_uri": "https://localhost:8080/"
        },
        "outputId": "2d75e561-ee84-4b2c-dcf8-875f310347a5"
      },
      "source": [
        "data.iloc[most_likedID].head"
      ],
      "execution_count": 25,
      "outputs": [
        {
          "output_type": "execute_result",
          "data": {
            "text/plain": [
              "<bound method NDFrame.head of title                Rooftop Terrace Garden Transformation | Terrac...\n",
              "videoIds                                                   X0QqhFn8HC8\n",
              "video_description    Hello Everyone! After a long time, I'm back wi...\n",
              "publishedDate                                     2020-10-02T15:46:30Z\n",
              "likes                                                            48261\n",
              "dislikes                                                          1492\n",
              "views                                                          3188581\n",
              "comment                                                           1255\n",
              "Name: 0, dtype: object>"
            ]
          },
          "metadata": {
            "tags": []
          },
          "execution_count": 25
        }
      ]
    },
    {
      "cell_type": "code",
      "metadata": {
        "id": "J29fJVjv7D0l",
        "colab": {
          "base_uri": "https://localhost:8080/"
        },
        "outputId": "d6aa8c27-de61-46cf-dd37-de47ea5282a0"
      },
      "source": [
        "data.iloc[most_viewdID]"
      ],
      "execution_count": 26,
      "outputs": [
        {
          "output_type": "execute_result",
          "data": {
            "text/plain": [
              "title                Rooftop Terrace Garden Transformation | Terrac...\n",
              "videoIds                                                   X0QqhFn8HC8\n",
              "video_description    Hello Everyone! After a long time, I'm back wi...\n",
              "publishedDate                                     2020-10-02T15:46:30Z\n",
              "likes                                                            48261\n",
              "dislikes                                                          1492\n",
              "views                                                          3188581\n",
              "comment                                                           1255\n",
              "Name: 0, dtype: object"
            ]
          },
          "metadata": {
            "tags": []
          },
          "execution_count": 26
        }
      ]
    },
    {
      "cell_type": "code",
      "metadata": {
        "id": "IGK2AJG68GFv",
        "colab": {
          "base_uri": "https://localhost:8080/"
        },
        "outputId": "ddf209e9-302b-45f5-9a75-c914647bbeec"
      },
      "source": [
        "data.iloc[most_commentID]"
      ],
      "execution_count": 27,
      "outputs": [
        {
          "output_type": "execute_result",
          "data": {
            "text/plain": [
              "title                Rooftop Terrace Garden Transformation | Terrac...\n",
              "videoIds                                                   X0QqhFn8HC8\n",
              "video_description    Hello Everyone! After a long time, I'm back wi...\n",
              "publishedDate                                     2020-10-02T15:46:30Z\n",
              "likes                                                            48261\n",
              "dislikes                                                          1492\n",
              "views                                                          3188581\n",
              "comment                                                           1255\n",
              "Name: 0, dtype: object"
            ]
          },
          "metadata": {
            "tags": []
          },
          "execution_count": 27
        }
      ]
    },
    {
      "cell_type": "code",
      "metadata": {
        "id": "AKudsw4_ApS-"
      },
      "source": [
        ""
      ],
      "execution_count": null,
      "outputs": []
    },
    {
      "cell_type": "code",
      "metadata": {
        "id": "UXzQPTsxA7Yf"
      },
      "source": [
        ""
      ],
      "execution_count": null,
      "outputs": []
    }
  ]
}