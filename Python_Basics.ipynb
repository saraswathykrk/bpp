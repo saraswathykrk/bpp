{
  "nbformat": 4,
  "nbformat_minor": 0,
  "metadata": {
    "kernelspec": {
      "display_name": "Python 3",
      "language": "python",
      "name": "python3"
    },
    "language_info": {
      "codemirror_mode": {
        "name": "ipython",
        "version": 3
      },
      "file_extension": ".py",
      "mimetype": "text/x-python",
      "name": "python",
      "nbconvert_exporter": "python",
      "pygments_lexer": "ipython3",
      "version": "3.6.5"
    },
    "colab": {
      "name": "Python_Basics",
      "provenance": [],
      "collapsed_sections": [
        "2nWmPA_k2p_9",
        "LvQSJ_Bj2p_-",
        "z_B8apoM2p_-",
        "MAKu1_jk2p__",
        "K1urPmT72p__",
        "5dZOaqme2qAA",
        "djoP0p2o2qAA",
        "vH8eyMJ12qAB",
        "YOZI4AuE2qAB",
        "I-QTjS972qAC",
        "pv8iD7h-2qAC",
        "cap-IHDu2qAD",
        "UYRBdFOo2qAD",
        "fmGzK0ov2qAD",
        "TiUeTtoD2qAE",
        "_UX_EYe22qAE",
        "7H7qJqRi2qAF",
        "c9hYiL7i2qAF"
      ],
      "include_colab_link": true
    }
  },
  "cells": [
    {
      "cell_type": "markdown",
      "metadata": {
        "id": "view-in-github",
        "colab_type": "text"
      },
      "source": [
        "<a href=\"https://colab.research.google.com/github/saraswathykrk/ml_work/blob/main/Python_Basics.ipynb\" target=\"_parent\"><img src=\"https://colab.research.google.com/assets/colab-badge.svg\" alt=\"Open In Colab\"/></a>"
      ]
    },
    {
      "cell_type": "markdown",
      "metadata": {
        "id": "9ErTlyp82p_l"
      },
      "source": [
        "<img src='https://www.insaid.co/wp-content/uploads/2018/04/INSAID_Logo-1.png' height=\"240\" width=\"360\"/>\n",
        "<br/>\n",
        "# Python basics"
      ]
    },
    {
      "cell_type": "markdown",
      "metadata": {
        "collapsed": true,
        "id": "XzRyBjMz2p_u"
      },
      "source": [
        "### 1.Write a Python program to print the following string\n",
        "\n",
        "Sample String: \"Welcome to INSAID- International School of AI and Data Science\"\n",
        "\n"
      ]
    },
    {
      "cell_type": "code",
      "metadata": {
        "colab": {
          "base_uri": "https://localhost:8080/"
        },
        "id": "utEfGUNv2p_v",
        "outputId": "ec88151d-8db9-4a63-f76c-34e3d0c8310a"
      },
      "source": [
        "print(\"Welcome to INSAID- International School of AI and Data Science\")"
      ],
      "execution_count": null,
      "outputs": [
        {
          "output_type": "stream",
          "text": [
            "Welcome to INSAID- International School of AI and Data Science\n"
          ],
          "name": "stdout"
        }
      ]
    },
    {
      "cell_type": "markdown",
      "metadata": {
        "id": "qukbIWGx2p_w"
      },
      "source": [
        "### 1.1 In a “Hello, World!” program, a comment may look like this:"
      ]
    },
    {
      "cell_type": "code",
      "metadata": {
        "colab": {
          "base_uri": "https://localhost:8080/"
        },
        "id": "GXUOVuH32p_w",
        "outputId": "d53903a4-f078-438d-ed52-5dad1e68adb0"
      },
      "source": [
        "# Print “Hello, World!” to console\n",
        "print(\"Hello, World!\")"
      ],
      "execution_count": null,
      "outputs": [
        {
          "output_type": "stream",
          "text": [
            "Hello, World!\n"
          ],
          "name": "stdout"
        }
      ]
    },
    {
      "cell_type": "code",
      "metadata": {
        "colab": {
          "base_uri": "https://localhost:8080/"
        },
        "id": "GnCdfX8j2p_x",
        "outputId": "15749373-192c-4974-d0af-ab97536e3995"
      },
      "source": [
        "# Define sharks variable as a list of strings ('hammer', 'white', 'fish', 'frilled', 'bullhead', 'requiem')\n",
        "sharks = ['hammer', 'white', 'fish', 'frilled', 'bullhead', 'requiem']\n",
        "\n",
        "# For loop that iterates over sharks list and prints each string item\n",
        "for i in sharks:\n",
        "  print(i)"
      ],
      "execution_count": null,
      "outputs": [
        {
          "output_type": "stream",
          "text": [
            "hammer\n",
            "white\n",
            "fish\n",
            "frilled\n",
            "bullhead\n",
            "requiem\n"
          ],
          "name": "stdout"
        }
      ]
    },
    {
      "cell_type": "markdown",
      "metadata": {
        "id": "NMaw2enF2p_x"
      },
      "source": [
        "### 2.Write a Python Program to Add Two Numbers"
      ]
    },
    {
      "cell_type": "code",
      "metadata": {
        "colab": {
          "base_uri": "https://localhost:8080/"
        },
        "id": "PLshVI272p_x",
        "outputId": "e53d06a4-f1de-45c4-ae91-861739875fd8"
      },
      "source": [
        "# initialise two varaibles\n",
        "a = 5\n",
        "b = 6\n",
        "\n",
        "# Add two numbers\n",
        "sum = a + b\n",
        "\n",
        "# Display the sum\n",
        "print(\"The sum of a and b is: {}\" .format(sum))"
      ],
      "execution_count": null,
      "outputs": [
        {
          "output_type": "stream",
          "text": [
            "The sum of a and b is: 11\n"
          ],
          "name": "stdout"
        }
      ]
    },
    {
      "cell_type": "markdown",
      "metadata": {
        "id": "M9ar0X1_2p_y"
      },
      "source": [
        "### 3.Write a Python Program to Find the product of two numbers"
      ]
    },
    {
      "cell_type": "code",
      "metadata": {
        "colab": {
          "base_uri": "https://localhost:8080/"
        },
        "id": "P3XLsy922p_y",
        "outputId": "16eefcd2-fb66-441d-dca7-97bd48ea96bc"
      },
      "source": [
        "# initialise two varaibles\n",
        "a = 4\n",
        "b = 5\n",
        "\n",
        "# multiply two numbers\n",
        "product = a * b\n",
        "\n",
        "# Display the product\n",
        "print(\"The product of 2 numbers, a and b is: {}\" .format(product))"
      ],
      "execution_count": null,
      "outputs": [
        {
          "output_type": "stream",
          "text": [
            "The product of 2 numbers, a and b is: 20\n"
          ],
          "name": "stdout"
        }
      ]
    },
    {
      "cell_type": "markdown",
      "metadata": {
        "id": "Kvetw4yN2p_y"
      },
      "source": [
        "### 4.Write a python program to find the area of triangle given height and base of the triangle as 3 and 10."
      ]
    },
    {
      "cell_type": "code",
      "metadata": {
        "colab": {
          "base_uri": "https://localhost:8080/"
        },
        "id": "rJUFbN_22p_z",
        "outputId": "f91898aa-c44b-46e4-ca79-143b6729a719"
      },
      "source": [
        "# Area of the triangle A= 1/2(base * height)\n",
        "h = 3\n",
        "b = 10\n",
        "\n",
        "#given height=3 and base =10\n",
        "area = 1/2 * b * h\n",
        "\n",
        "print(\"Area of the triangle is: {}\" .format(area))\n"
      ],
      "execution_count": null,
      "outputs": [
        {
          "output_type": "stream",
          "text": [
            "Area of the triangle is: 15.0\n"
          ],
          "name": "stdout"
        }
      ]
    },
    {
      "cell_type": "markdown",
      "metadata": {
        "id": "vzgNixC62p_z"
      },
      "source": [
        "### 5.Python Program to Swap Two Variables"
      ]
    },
    {
      "cell_type": "code",
      "metadata": {
        "colab": {
          "base_uri": "https://localhost:8080/"
        },
        "id": "_O0SSEon2p_z",
        "outputId": "186de564-94cd-4847-8cfd-e58468299a61"
      },
      "source": [
        "# initialise two variables\n",
        "a = 9\n",
        "b = 12\n",
        "print(\"Old a = {} and b = {}\" .format(a,b))\n",
        "\n",
        "# create a temporary variable and swap the values\n",
        "temp = a\n",
        "a = b\n",
        "b = temp\n",
        "\n",
        "print(\"After swapping, a = {}, b = {}\" .format(a,b))"
      ],
      "execution_count": null,
      "outputs": [
        {
          "output_type": "stream",
          "text": [
            "Old a = 9 and b = 12\n",
            "After swapping, a = 12, b = 9\n"
          ],
          "name": "stdout"
        }
      ]
    },
    {
      "cell_type": "markdown",
      "metadata": {
        "id": "MChqdnMZ2p_0"
      },
      "source": [
        "## Section"
      ]
    },
    {
      "cell_type": "markdown",
      "metadata": {
        "collapsed": true,
        "id": "d9vsLRou2p_0"
      },
      "source": [
        "### 1.Write a python program to print datatype of a varaible"
      ]
    },
    {
      "cell_type": "code",
      "metadata": {
        "colab": {
          "base_uri": "https://localhost:8080/"
        },
        "id": "Nb-XdM1s2p_0",
        "outputId": "a64c88ce-3b97-45df-9ac5-efff10c035d9"
      },
      "source": [
        "a = 1\n",
        "print(type(a))\n",
        "\n",
        "b = 2.0\n",
        "print(type(b))\n",
        "\n",
        "c = 1+2j\n",
        "print(type(c))"
      ],
      "execution_count": null,
      "outputs": [
        {
          "output_type": "stream",
          "text": [
            "<class 'int'>\n",
            "<class 'float'>\n",
            "<class 'complex'>\n"
          ],
          "name": "stdout"
        }
      ]
    },
    {
      "cell_type": "markdown",
      "metadata": {
        "id": "q674aoSS2p_1"
      },
      "source": [
        "### 2.Write a python program to extract an item or a range of items from a list.\n",
        "\n"
      ]
    },
    {
      "cell_type": "code",
      "metadata": {
        "colab": {
          "base_uri": "https://localhost:8080/"
        },
        "id": "Or2x17yC2p_1",
        "outputId": "ace72f5c-dcc8-45cb-a5b8-61dac6cfab12"
      },
      "source": [
        "a = [15,20,35,40,45,30,35,60]\n",
        "\n",
        "# Print the item at index 2\n",
        "print(a[2])\n",
        "\n",
        "# Print the first 3 items\n",
        "print(a[0:3])\n",
        "\n",
        "# Print the last 3 items\n",
        "print(a[-3:])\n",
        "\n",
        "# Start to third last item\n",
        "print(a[0:-2])"
      ],
      "execution_count": null,
      "outputs": [
        {
          "output_type": "stream",
          "text": [
            "35\n",
            "[15, 20, 35]\n",
            "[30, 35, 60]\n",
            "[15, 20, 35, 40, 45, 30]\n"
          ],
          "name": "stdout"
        }
      ]
    },
    {
      "cell_type": "markdown",
      "metadata": {
        "id": "12jB_8me2p_1"
      },
      "source": [
        "### 3.Converting Floats to Integers\n"
      ]
    },
    {
      "cell_type": "code",
      "metadata": {
        "colab": {
          "base_uri": "https://localhost:8080/"
        },
        "id": "IjUWfoGZ2p_1",
        "outputId": "b4775d09-fe24-4a32-bc34-9ac49f54e7d3"
      },
      "source": [
        "b = 125.0\n",
        "c = 390.8\n",
        "\n",
        "# Print the Integer values\n",
        "print(b, c)\n",
        "print(int(b), int(c))"
      ],
      "execution_count": null,
      "outputs": [
        {
          "output_type": "stream",
          "text": [
            "125.0 390.8\n",
            "125 390\n"
          ],
          "name": "stdout"
        }
      ]
    },
    {
      "cell_type": "markdown",
      "metadata": {
        "id": "V_ufqda62p_2"
      },
      "source": [
        "### 4.Converting Numbers to Strings"
      ]
    },
    {
      "cell_type": "code",
      "metadata": {
        "colab": {
          "base_uri": "https://localhost:8080/"
        },
        "id": "6BMPHd842p_2",
        "outputId": "c50868ad-b18f-4e97-9109-7ace44c06412"
      },
      "source": [
        "a = 10\n",
        "\n",
        "print(a, \"is of type\", type(a))\n",
        "\n",
        "# Convert the value in a to a string and then print\n",
        "print(str(a), \"is of type:\", type(str(a)))"
      ],
      "execution_count": null,
      "outputs": [
        {
          "output_type": "stream",
          "text": [
            "10 is of type <class 'int'>\n",
            "10 is of type: <class 'str'>\n"
          ],
          "name": "stdout"
        }
      ]
    },
    {
      "cell_type": "markdown",
      "metadata": {
        "id": "_VN3djf12p_2"
      },
      "source": [
        "### 5.Converting Strings to Numbers"
      ]
    },
    {
      "cell_type": "code",
      "metadata": {
        "colab": {
          "base_uri": "https://localhost:8080/"
        },
        "id": "ZSMiyDye2p_2",
        "outputId": "d056b460-708c-4122-af0b-6d5d69fef418"
      },
      "source": [
        "a = \"50\"\n",
        "b = \"108\"\n",
        "\n",
        "# Find the difference between a and b\n",
        "c = int(a) - int(b)\n",
        "print(c)"
      ],
      "execution_count": null,
      "outputs": [
        {
          "output_type": "stream",
          "text": [
            "-58\n"
          ],
          "name": "stdout"
        }
      ]
    },
    {
      "cell_type": "markdown",
      "metadata": {
        "id": "yHZzRRHV2p_3"
      },
      "source": [
        "### 6.Converting list to Tuples"
      ]
    },
    {
      "cell_type": "code",
      "metadata": {
        "colab": {
          "base_uri": "https://localhost:8080/"
        },
        "id": "_LvSJ1Og2p_3",
        "outputId": "a5489cd5-cdb0-471d-e261-f649a8c9f6c8"
      },
      "source": [
        "myList = ['request', 'source', 'repository', 'branch']\n",
        "\n",
        "# Print myList to a Tuple\n",
        "print(myList)\n",
        "myTuple = tuple(myList)\n",
        "print(myTuple)"
      ],
      "execution_count": null,
      "outputs": [
        {
          "output_type": "stream",
          "text": [
            "['request', 'source', 'repository', 'branch']\n",
            "('request', 'source', 'repository', 'branch')\n"
          ],
          "name": "stdout"
        }
      ]
    },
    {
      "cell_type": "markdown",
      "metadata": {
        "id": "ajE_WkwJ2p_3"
      },
      "source": [
        "### 7.Converting tuple to Lists"
      ]
    },
    {
      "cell_type": "code",
      "metadata": {
        "colab": {
          "base_uri": "https://localhost:8080/"
        },
        "id": "QimXoBHR2p_3",
        "outputId": "d5edb023-9a77-47bd-d21e-b312df35d642"
      },
      "source": [
        "myTuple = ('blue', 'red', 'white')\n",
        "\n",
        "# Print myTuple to a List\n",
        "print(myTuple)\n",
        "myList = list(myTuple)\n",
        "print(myList)"
      ],
      "execution_count": null,
      "outputs": [
        {
          "output_type": "stream",
          "text": [
            "('blue', 'red', 'white')\n",
            "['blue', 'red', 'white']\n"
          ],
          "name": "stdout"
        }
      ]
    },
    {
      "cell_type": "markdown",
      "metadata": {
        "collapsed": true,
        "id": "G-Uachkl2p_3"
      },
      "source": [
        "### 8.converting strings to lists:"
      ]
    },
    {
      "cell_type": "code",
      "metadata": {
        "colab": {
          "base_uri": "https://localhost:8080/"
        },
        "id": "iC37vbp92p_4",
        "outputId": "c83ab44a-880c-4fcf-8b4d-253c610bfa53"
      },
      "source": [
        "myString = 'INSAID'\n",
        "\n",
        "# Convert myString to List\n",
        "print(myString)\n",
        "myList = list(myString)\n",
        "print(myList)"
      ],
      "execution_count": null,
      "outputs": [
        {
          "output_type": "stream",
          "text": [
            "INSAID\n",
            "['I', 'N', 'S', 'A', 'I', 'D']\n"
          ],
          "name": "stdout"
        }
      ]
    },
    {
      "cell_type": "markdown",
      "metadata": {
        "id": "6bB9mrzX2p_4"
      },
      "source": [
        "### 9.Assign different data types to a varibles"
      ]
    },
    {
      "cell_type": "code",
      "metadata": {
        "colab": {
          "base_uri": "https://localhost:8080/"
        },
        "id": "w2zLpMHD2p_4",
        "outputId": "fab4cdd0-7edc-4410-cb88-8798c592180f"
      },
      "source": [
        "# Try string, float, boolean, list, tuple, dictionary\n",
        "a = \"Hello, python!\"\n",
        "print(a, type(a))\n",
        "a = 10\n",
        "print(a, type(a))\n",
        "a = 189.45\n",
        "print(a, type(a))\n",
        "a = None\n",
        "print(a, type(a))\n",
        "a = [10, 289.4, \"new class\", (18,39,50), \"abc\",['g','f','d'],9,{5:\"abc\", 8:\"def\"}]\n",
        "print(a, type(a))\n",
        "a = (10, 289.4, \"new class\", (18,39,50), \"abc\",['g','f','d'],9,{5:\"abc\", 8:\"def\"})\n",
        "print(a, type(a))\n",
        "a = {10:289.4, \"new class\":(18,39,50), \"abc\":['g','f','d'],9:{5:\"abc\", 8:\"def\"}}\n",
        "print(a, type(a))"
      ],
      "execution_count": null,
      "outputs": [
        {
          "output_type": "stream",
          "text": [
            "Hello, python! <class 'str'>\n",
            "10 <class 'int'>\n",
            "189.45 <class 'float'>\n",
            "None <class 'NoneType'>\n",
            "[10, 289.4, 'new class', (18, 39, 50), 'abc', ['g', 'f', 'd'], 9, {5: 'abc', 8: 'def'}] <class 'list'>\n",
            "(10, 289.4, 'new class', (18, 39, 50), 'abc', ['g', 'f', 'd'], 9, {5: 'abc', 8: 'def'}) <class 'tuple'>\n",
            "{10: 289.4, 'new class': (18, 39, 50), 'abc': ['g', 'f', 'd'], 9: {5: 'abc', 8: 'def'}} <class 'dict'>\n"
          ],
          "name": "stdout"
        }
      ]
    },
    {
      "cell_type": "markdown",
      "metadata": {
        "id": "fN2gG61M2p_4"
      },
      "source": [
        "## Section"
      ]
    },
    {
      "cell_type": "markdown",
      "metadata": {
        "collapsed": true,
        "id": "boB0KtPQ2p_5"
      },
      "source": [
        "### Print out a string that uses a formatter"
      ]
    },
    {
      "cell_type": "code",
      "metadata": {
        "colab": {
          "base_uri": "https://localhost:8080/"
        },
        "id": "yQh1YuNK2p_5",
        "outputId": "19425b0c-801d-482f-8171-f381fe7000e6"
      },
      "source": [
        "# Print \"john has 5 cars.\" using formatter\n",
        "print(\"John has {} cars.\" .format(5))"
      ],
      "execution_count": null,
      "outputs": [
        {
          "output_type": "stream",
          "text": [
            "John has 5 cars.\n"
          ],
          "name": "stdout"
        }
      ]
    },
    {
      "cell_type": "markdown",
      "metadata": {
        "id": "kiWcSDSh2p_5"
      },
      "source": [
        "### We can also assign a variable to be equal to the value of a string that has formatter placeholders:"
      ]
    },
    {
      "cell_type": "code",
      "metadata": {
        "colab": {
          "base_uri": "https://localhost:8080/"
        },
        "id": "o1LN0vg42p_5",
        "outputId": "8dc82254-a5fe-4f90-9bce-f6d483812b6e"
      },
      "source": [
        "open_string = \"john likes {}.\"\n",
        "\n",
        "# Use format method to print the following output \"john likes open source.\"\n",
        "print(open_string.format(\"open source\"))"
      ],
      "execution_count": null,
      "outputs": [
        {
          "output_type": "stream",
          "text": [
            "john likes open source.\n"
          ],
          "name": "stdout"
        }
      ]
    },
    {
      "cell_type": "markdown",
      "metadata": {
        "id": "cM-vD6UH2p_6"
      },
      "source": [
        "### Using Formatters with Multiple Placeholders"
      ]
    },
    {
      "cell_type": "code",
      "metadata": {
        "colab": {
          "base_uri": "https://localhost:8080/"
        },
        "id": "nZK_MQ9B2p_6",
        "outputId": "27a2fcbb-d534-4936-8c9f-5dab53a37a0b"
      },
      "source": [
        "new_open_string = \"john likes {} {}.\"                      #2 {} placeholders\n",
        "# Pass 2 strings into format method, separated by a comma to get output \"john likes open-source software.\"\n",
        "print(new_open_string.format(\"open-source\", \"software\"))"
      ],
      "execution_count": null,
      "outputs": [
        {
          "output_type": "stream",
          "text": [
            "john likes open-source software.\n"
          ],
          "name": "stdout"
        }
      ]
    },
    {
      "cell_type": "code",
      "metadata": {
        "colab": {
          "base_uri": "https://localhost:8080/"
        },
        "id": "y2i2L_S22p_6",
        "outputId": "e3ef4578-8833-46c2-cb75-ef3f4217851e"
      },
      "source": [
        "sammy_string = \"john loves {} {}, and has {} {}.\"                      #4 {} placeholders\n",
        "# Pass 4 strings into method to get output \"john loves open-source software, and has 5 balloons.\"\n",
        "print(sammy_string.format(\"open-source\",\"software\",5,\"balloons\"))"
      ],
      "execution_count": null,
      "outputs": [
        {
          "output_type": "stream",
          "text": [
            "john loves open-source software, and has 5 balloons.\n"
          ],
          "name": "stdout"
        }
      ]
    },
    {
      "cell_type": "markdown",
      "metadata": {
        "id": "1A-u7Edc2p_6"
      },
      "source": [
        "### Reordering Formatters with Positional and Keyword Arguments\n"
      ]
    },
    {
      "cell_type": "code",
      "metadata": {
        "colab": {
          "base_uri": "https://localhost:8080/"
        },
        "id": "FuS7AO0D2p_6",
        "outputId": "7703fb4c-9168-4040-c60f-ac5a56c70d6e"
      },
      "source": [
        "# Reference sample\n",
        "print(\"john the {} has a pet {}!\".format(\"shark\", \"pilot fish\"))\n",
        "print(\"john the {1} has a pet {0}!\".format(\"pilot fish\", \"shark\"))"
      ],
      "execution_count": null,
      "outputs": [
        {
          "output_type": "stream",
          "text": [
            "john the shark has a pet pilot fish!\n",
            "john the shark has a pet pilot fish!\n"
          ],
          "name": "stdout"
        }
      ]
    },
    {
      "cell_type": "markdown",
      "metadata": {
        "id": "zcwjYd8d2p_7"
      },
      "source": [
        "### We can pass these index numbers into the curly braces that serve as the placeholders in the original string:"
      ]
    },
    {
      "cell_type": "code",
      "metadata": {
        "colab": {
          "base_uri": "https://localhost:8080/"
        },
        "id": "wX7wmVhO2p_7",
        "outputId": "e4c4401b-88b6-474d-f4c1-3fcc57506cef"
      },
      "source": [
        "# Reference Sample\n",
        "print(\"john the {0} has a pet {1}!\".format(\"shark\", \"pilot fish\"))\n",
        "\n",
        "print(\"john is a {}, {}, and {} {}!\".format(\"happy\", \"smiling\", \"blue\", \"shark\"))\n",
        "print(\"john is a {3}, {0}, and {2} {1}!\" .format(\"smiling\",\"shark\",\"blue\",\"happy\"))"
      ],
      "execution_count": null,
      "outputs": [
        {
          "output_type": "stream",
          "text": [
            "john the shark has a pet pilot fish!\n",
            "john is a happy, smiling, and blue shark!\n",
            "john is a happy, smiling, and blue shark!\n"
          ],
          "name": "stdout"
        }
      ]
    },
    {
      "cell_type": "markdown",
      "metadata": {
        "id": "cJVxarHi2p_7"
      },
      "source": [
        "### Python Program to Get String Input from User\n"
      ]
    },
    {
      "cell_type": "code",
      "metadata": {
        "colab": {
          "base_uri": "https://localhost:8080/"
        },
        "id": "P_2H9mP32p_7",
        "outputId": "a84c45bf-a941-46e4-c5e3-1c9ea438138b"
      },
      "source": [
        "#Enter any string and print it\n",
        "user_input = input(\"Enter a string:\")\n",
        "print(user_input)"
      ],
      "execution_count": null,
      "outputs": [
        {
          "output_type": "stream",
          "text": [
            "Enter a string:Hello, how are you?\n",
            "Hello, how are you?\n"
          ],
          "name": "stdout"
        }
      ]
    },
    {
      "cell_type": "markdown",
      "metadata": {
        "collapsed": true,
        "id": "RrMPMwhH2p_8"
      },
      "source": [
        "### Python program for conditional statements\n",
        "\n",
        "### 1)If the student receives over 65% on her test, report that her grade passes; if not, report that her grade fails"
      ]
    },
    {
      "cell_type": "code",
      "metadata": {
        "colab": {
          "base_uri": "https://localhost:8080/"
        },
        "id": "HQ_v8lrZ2p_8",
        "outputId": "a23e538f-b723-432e-abff-d3a063cae078"
      },
      "source": [
        "# Use only if\n",
        "grade = 70\n",
        "\n",
        "if grade >= 65:\n",
        "  print(\"Passed\")\n",
        "else:\n",
        "  print(\"Failed\")"
      ],
      "execution_count": null,
      "outputs": [
        {
          "output_type": "stream",
          "text": [
            "Passed\n"
          ],
          "name": "stdout"
        }
      ]
    },
    {
      "cell_type": "code",
      "metadata": {
        "colab": {
          "base_uri": "https://localhost:8080/"
        },
        "id": "eCAweu1j2p_8",
        "outputId": "6abc5999-e685-4338-a17b-aa3a428e86b0"
      },
      "source": [
        "\n",
        "grade = 60\n",
        "\n",
        "if grade >= 65:\n",
        "  print(\"Passed\")\n",
        "else:\n",
        "  print(\"Failed\")"
      ],
      "execution_count": null,
      "outputs": [
        {
          "output_type": "stream",
          "text": [
            "Failed\n"
          ],
          "name": "stdout"
        }
      ]
    },
    {
      "cell_type": "markdown",
      "metadata": {
        "id": "vCNj1MQr2p_8"
      },
      "source": [
        "### Write a python program calculate whether a bank account balance is below 0 and print appropriate message."
      ]
    },
    {
      "cell_type": "code",
      "metadata": {
        "colab": {
          "base_uri": "https://localhost:8080/"
        },
        "id": "-l9jRiSU2p_8",
        "outputId": "48634d95-6e78-4af0-aa31-a3c2e1bd8daf"
      },
      "source": [
        "# Use if else\n",
        "balance = 522\n",
        "\n",
        "if balance < 0:\n",
        "  print(\"Less balance\")\n",
        "else:\n",
        "  print(\"Enough balance\")"
      ],
      "execution_count": null,
      "outputs": [
        {
          "output_type": "stream",
          "text": [
            "Enough balance\n"
          ],
          "name": "stdout"
        }
      ]
    },
    {
      "cell_type": "markdown",
      "metadata": {
        "id": "OPqDBcB62p_9"
      },
      "source": [
        "### Using Else if statement"
      ]
    },
    {
      "cell_type": "code",
      "metadata": {
        "colab": {
          "base_uri": "https://localhost:8080/"
        },
        "id": "rSbqkqDZ2p_9",
        "outputId": "418069a0-b7a2-4bc6-9a66-d208544da657"
      },
      "source": [
        "balance = 522\n",
        "\n",
        "if balance < 0:\n",
        "  print(\"Less balance\")\n",
        "elif balance == 0:\n",
        "  print(\"Zero balance\")\n",
        "else:\n",
        "  print(\"Enough balance\")"
      ],
      "execution_count": null,
      "outputs": [
        {
          "output_type": "stream",
          "text": [
            "Enough balance\n"
          ],
          "name": "stdout"
        }
      ]
    },
    {
      "cell_type": "markdown",
      "metadata": {
        "id": "2ccdisG02p_9"
      },
      "source": [
        "### Python program to print  Fibonacci series between 0 to 50."
      ]
    },
    {
      "cell_type": "code",
      "metadata": {
        "colab": {
          "base_uri": "https://localhost:8080/"
        },
        "id": "qFsugydR2p_9",
        "outputId": "a8d0b0ad-9fb0-4551-9d80-d2de013d9e60"
      },
      "source": [
        "a = 1\n",
        "b = 1\n",
        "print(a, end=' ')\n",
        "print(b, end=' ')\n",
        "\n",
        "for i in range(0, 50):\n",
        "  c = a + b\n",
        "  if c <= i:\n",
        "    print(c, end=' ')\n",
        "    a = b\n",
        "    b = c\n",
        "\n",
        "\n",
        "a = 0\n",
        "b = 1\n",
        "print(\"\\n********\\n\")\n",
        "print(a, end=' ')\n",
        "print(b, end=' ')\n",
        "count = 2\n",
        "\n",
        "for i in range(0, 50):\n",
        "  count+=1\n",
        "  if count<=50:\n",
        "    c = a + b\n",
        "    print(c, end=' ')\n",
        "    a = b\n",
        "    b = c"
      ],
      "execution_count": null,
      "outputs": [
        {
          "output_type": "stream",
          "text": [
            "1 1 2 3 5 8 13 21 34 \n",
            "********\n",
            "\n",
            "0 1 1 2 3 5 8 13 21 34 55 89 144 233 377 610 987 1597 2584 4181 6765 10946 17711 28657 46368 75025 121393 196418 317811 514229 832040 1346269 2178309 3524578 5702887 9227465 14930352 24157817 39088169 63245986 102334155 165580141 267914296 433494437 701408733 1134903170 1836311903 2971215073 4807526976 7778742049 "
          ],
          "name": "stdout"
        }
      ]
    },
    {
      "cell_type": "markdown",
      "metadata": {
        "id": "2nWmPA_k2p_9"
      },
      "source": [
        "### Python program to find numbers which are divisible by 7 and multiple of 5 between a range 150 to 270"
      ]
    },
    {
      "cell_type": "code",
      "metadata": {
        "id": "ABu3urxD2p_-",
        "colab": {
          "base_uri": "https://localhost:8080/"
        },
        "outputId": "6305ecc9-41d6-4529-c5a3-b405ffcb4be1"
      },
      "source": [
        "for i in range(150,271):\n",
        "  if (i%7) == 0:\n",
        "    if (i%5) == 0:\n",
        "      print(i, end=' ')"
      ],
      "execution_count": null,
      "outputs": [
        {
          "output_type": "stream",
          "text": [
            "175 210 245 "
          ],
          "name": "stdout"
        }
      ]
    },
    {
      "cell_type": "markdown",
      "metadata": {
        "id": "LvQSJ_Bj2p_-"
      },
      "source": [
        "### Python program to Sum all the items in a list"
      ]
    },
    {
      "cell_type": "code",
      "metadata": {
        "id": "pXQR_gza2p_-",
        "colab": {
          "base_uri": "https://localhost:8080/"
        },
        "outputId": "82d0fe33-eb50-4648-ac32-4c62e188d445"
      },
      "source": [
        "def sum_list(items):\n",
        "  sum=0\n",
        "  for i in items:\n",
        "    sum+=i\n",
        "    # Your code here\n",
        "  return sum # Your variable\n",
        "print(sum_list([20,12,20,22]))"
      ],
      "execution_count": null,
      "outputs": [
        {
          "output_type": "stream",
          "text": [
            "74\n"
          ],
          "name": "stdout"
        }
      ]
    },
    {
      "cell_type": "markdown",
      "metadata": {
        "id": "z_B8apoM2p_-"
      },
      "source": [
        "### Python program to Remove duplicates from a list."
      ]
    },
    {
      "cell_type": "code",
      "metadata": {
        "id": "rbLTcmVH2p_-",
        "colab": {
          "base_uri": "https://localhost:8080/"
        },
        "outputId": "a9f3d17a-82fc-4810-ea59-9917b22b3013"
      },
      "source": [
        "a = [10,20,30,40,50,60,70,40,80,50,40]\n",
        "\n",
        "dup_items = set(a)\n",
        "print(dup_items)\n",
        "uniq_list = list(dup_items)\n",
        "print(uniq_list)\n"
      ],
      "execution_count": null,
      "outputs": [
        {
          "output_type": "stream",
          "text": [
            "{70, 40, 10, 80, 50, 20, 60, 30}\n",
            "[70, 40, 10, 80, 50, 20, 60, 30]\n"
          ],
          "name": "stdout"
        }
      ]
    },
    {
      "cell_type": "markdown",
      "metadata": {
        "id": "MAKu1_jk2p__"
      },
      "source": [
        "### Python program to Get the largest number from a list."
      ]
    },
    {
      "cell_type": "code",
      "metadata": {
        "id": "OIdmWwX_2p__",
        "colab": {
          "base_uri": "https://localhost:8080/"
        },
        "outputId": "2a4a0248-421c-40c0-da37-c32a4cd15720"
      },
      "source": [
        "def max_num_in_list( list1 ):\n",
        "    # Your code\n",
        "    max = list1[0]\n",
        "    for i in list1:\n",
        "      if i > max:\n",
        "        max = i\n",
        "    return max\n",
        "    #return max(list1)# Maximum value\n",
        "print(max_num_in_list([1, 92, 12, 28, 90, 0]))"
      ],
      "execution_count": 4,
      "outputs": [
        {
          "output_type": "stream",
          "text": [
            "92\n"
          ],
          "name": "stdout"
        }
      ]
    },
    {
      "cell_type": "markdown",
      "metadata": {
        "id": "K1urPmT72p__"
      },
      "source": [
        "### Concatenation of Tuples."
      ]
    },
    {
      "cell_type": "code",
      "metadata": {
        "id": "5p0rsrGr2qAA",
        "colab": {
          "base_uri": "https://localhost:8080/"
        },
        "outputId": "a9ad40d3-4604-47e8-8880-d649bc0698d1"
      },
      "source": [
        "# Code for concatenating 2 tuples\n",
        " \n",
        "tuple1 = (0, 1, 2, 3)\n",
        "tuple2 = ('python', 'code')\n",
        " \n",
        "# Concatenating above two\n",
        "print(tuple1 + tuple2)"
      ],
      "execution_count": 6,
      "outputs": [
        {
          "output_type": "stream",
          "text": [
            "(0, 1, 2, 3, 'python', 'code')\n"
          ],
          "name": "stdout"
        }
      ]
    },
    {
      "cell_type": "markdown",
      "metadata": {
        "id": "5dZOaqme2qAA"
      },
      "source": [
        "### Nesting of Tuples."
      ]
    },
    {
      "cell_type": "code",
      "metadata": {
        "id": "Q8GZGGBa2qAA",
        "colab": {
          "base_uri": "https://localhost:8080/"
        },
        "outputId": "1228f030-7349-4ca0-85a8-3e1c6cd7572a"
      },
      "source": [
        "# Code for creating nested tuples\n",
        " \n",
        "tuple1 = (0, 1, 2, 3)\n",
        "tuple2 = ('python', 'code')\n",
        "tuple3 = (tuple1,tuple2) # Your code goes here\n",
        "print(tuple3, type(tuple3))\n"
      ],
      "execution_count": 12,
      "outputs": [
        {
          "output_type": "stream",
          "text": [
            "((0, 1, 2, 3), ('python', 'code')) <class 'tuple'>\n"
          ],
          "name": "stdout"
        }
      ]
    },
    {
      "cell_type": "markdown",
      "metadata": {
        "id": "djoP0p2o2qAA"
      },
      "source": [
        "### Write a Python program to add an item in a tuple."
      ]
    },
    {
      "cell_type": "code",
      "metadata": {
        "id": "OUaipfEm2qAB",
        "colab": {
          "base_uri": "https://localhost:8080/"
        },
        "outputId": "7efc0800-fac1-4bde-ae89-9eb4588bebbf"
      },
      "source": [
        "# Create a tuple & print\n",
        "tuple1 = (10, 25.5, \"text\", \"hello world!\")\n",
        "print(tuple1)\n",
        "\n",
        "#tuples are immutable, so you can not add new elements\n",
        "#using merge of tuples with the + operator you can add an element and it will create a new tuple\n",
        "tuple2 = (45, )\n",
        "new_tup = tuple1 + tuple2\n",
        "print(new_tup)\n",
        "\n",
        "# Adding items in a specific index\n",
        "tuple3 = tuple1[0:2] + tuple2 + tuple1[2:]\n",
        "print(tuple3)\n"
      ],
      "execution_count": 22,
      "outputs": [
        {
          "output_type": "stream",
          "text": [
            "(10, 25.5, 'text', 'hello world!')\n",
            "(10, 25.5, 'text', 'hello world!', 45)\n",
            "(10, 25.5, 45, 'text', 'hello world!')\n"
          ],
          "name": "stdout"
        }
      ]
    },
    {
      "cell_type": "markdown",
      "metadata": {
        "id": "vH8eyMJ12qAB"
      },
      "source": [
        "### Write a Python program to remove an item from a tuple."
      ]
    },
    {
      "cell_type": "code",
      "metadata": {
        "id": "CA6JH-Sw2qAB"
      },
      "source": [
        "# Create a tuple and print it\n",
        "\n",
        "# Find a way to remove an item of the tuple (Hint: Use other data types)\n"
      ],
      "execution_count": null,
      "outputs": []
    },
    {
      "cell_type": "markdown",
      "metadata": {
        "id": "YOZI4AuE2qAB"
      },
      "source": [
        "### Python Program to Check if a given key already exists in a dictionary."
      ]
    },
    {
      "cell_type": "code",
      "metadata": {
        "id": "wQ7xovgs2qAC"
      },
      "source": [
        "d = {1: 10, 2: 20, 3: 30, 4: 40, 5: 50, 6: 60}\n",
        "def is_key_present(x):\n",
        "  # Your code goes here\n",
        "  return # Your observation\n",
        "is_key_present(5)\n",
        "is_key_present(9)"
      ],
      "execution_count": null,
      "outputs": []
    },
    {
      "cell_type": "markdown",
      "metadata": {
        "id": "I-QTjS972qAC"
      },
      "source": [
        "### Write a Python script to merge two Python dictionaries."
      ]
    },
    {
      "cell_type": "code",
      "metadata": {
        "id": "g6Ks-bmN2qAC"
      },
      "source": [
        "d1 = {'a': 100, 'b': 200}\n",
        "d2 = {'x': 300, 'y': 200}\n",
        "\n",
        "# Your code"
      ],
      "execution_count": null,
      "outputs": []
    },
    {
      "cell_type": "markdown",
      "metadata": {
        "id": "pv8iD7h-2qAC"
      },
      "source": [
        "### Write a Python function to find the Max of three numbers."
      ]
    },
    {
      "cell_type": "code",
      "metadata": {
        "id": "KR5UGkKA2qAC"
      },
      "source": [
        "def max_of_two( x, y ):\n",
        "    # Your code here\n",
        "    return # Your answer\n",
        "def max_of_three( x, y, z ):\n",
        "    # Your code here use max_of_two\n",
        "    return # Your answer\n",
        "print(max_of_three(13, 26, -5))"
      ],
      "execution_count": null,
      "outputs": []
    },
    {
      "cell_type": "markdown",
      "metadata": {
        "collapsed": true,
        "id": "cap-IHDu2qAD"
      },
      "source": [
        "### Write a Python program to reverse a string."
      ]
    },
    {
      "cell_type": "code",
      "metadata": {
        "id": "SLzjSddi2qAD"
      },
      "source": [
        "def string_reverse(str1):\n",
        "    # Your code goes here\n",
        "    return # Your answer\n",
        "print(string_reverse('INSAID'))"
      ],
      "execution_count": null,
      "outputs": []
    },
    {
      "cell_type": "markdown",
      "metadata": {
        "collapsed": true,
        "id": "UYRBdFOo2qAD"
      },
      "source": [
        "### Write a Python function to calculate the factorial of a number "
      ]
    },
    {
      "cell_type": "code",
      "metadata": {
        "id": "uTq9F0_02qAD"
      },
      "source": [
        "def factorial(n):\n",
        "    # Your code here\n",
        "    return # The answer\n",
        "n=int(input(\"Input a number to compute the factiorial : \"))\n",
        "print(factorial(n))"
      ],
      "execution_count": null,
      "outputs": []
    },
    {
      "cell_type": "markdown",
      "metadata": {
        "id": "fmGzK0ov2qAD"
      },
      "source": [
        "### Write a Python function to sum all the numbers in a list."
      ]
    },
    {
      "cell_type": "code",
      "metadata": {
        "id": "DPrZqjbV2qAE"
      },
      "source": [
        "def sum(numbers):\n",
        "    # Your code goes here\n",
        "    return # Your Answer\n",
        "print(sum((8, 2, 3, 0, 7)))"
      ],
      "execution_count": null,
      "outputs": []
    },
    {
      "cell_type": "markdown",
      "metadata": {
        "collapsed": true,
        "id": "TiUeTtoD2qAE"
      },
      "source": [
        "### Write a Python function to check whether a number is in a given range."
      ]
    },
    {
      "cell_type": "code",
      "metadata": {
        "id": "-yciGxO_2qAE"
      },
      "source": [
        "def test_range(n):\n",
        "    # Your code\n",
        "    return # Your answer \n",
        "test_range(5)"
      ],
      "execution_count": null,
      "outputs": []
    },
    {
      "cell_type": "markdown",
      "metadata": {
        "id": "_UX_EYe22qAE"
      },
      "source": [
        "### Find the value of pi using math module."
      ]
    },
    {
      "cell_type": "code",
      "metadata": {
        "id": "A8AyRzLz2qAE"
      },
      "source": [
        "# import statement example\n",
        "# to import standard module math\n",
        "\n",
        "import math\n"
      ],
      "execution_count": null,
      "outputs": []
    },
    {
      "cell_type": "markdown",
      "metadata": {
        "id": "_rSwKM742qAE"
      },
      "source": [
        "### Write a Python program to read an entire text file.\n",
        "\n",
        "### Content of text.txt.\n",
        "\n",
        "### What is Python language?      \n",
        "\n",
        "#### Python is a widely used high-level, general-purpose, interpreted, dynamic programming language."
      ]
    },
    {
      "cell_type": "code",
      "metadata": {
        "id": "IOkBTOD92qAF"
      },
      "source": [
        "def file_read(fname):\n",
        "    # Your code goes in here\n",
        "    return\n",
        "\n",
        "file_read('test.txt')"
      ],
      "execution_count": null,
      "outputs": []
    },
    {
      "cell_type": "markdown",
      "metadata": {
        "collapsed": true,
        "id": "7H7qJqRi2qAF"
      },
      "source": [
        "### Write a Python program to read a file line by line and store it into a list."
      ]
    },
    {
      "cell_type": "code",
      "metadata": {
        "id": "HXREElEf2qAF"
      },
      "source": [
        "def file_read(fname):\n",
        "        # Your code goes in here\n",
        "        return\n",
        "\n",
        "file_read('test.txt')"
      ],
      "execution_count": null,
      "outputs": []
    },
    {
      "cell_type": "markdown",
      "metadata": {
        "id": "c9hYiL7i2qAF"
      },
      "source": [
        "### A python program to create user-defined exception."
      ]
    },
    {
      "cell_type": "code",
      "metadata": {
        "id": "_KRsCMDF2qAF",
        "outputId": "e76794e7-3536-4ff8-b0a8-d0659bcd9674"
      },
      "source": [
        "class MyError(Exception):\n",
        " \n",
        "    # Constructor or Initializer\n",
        "    def __init__(self, value):\n",
        "        self.value = value\n",
        " \n",
        "    # __str__ is to print() the value\n",
        "    def __str__(self):\n",
        "        return # Your code goes here to get -> 'A New Exception occured: 0.42857142857142855'\n",
        " \n",
        "try:\n",
        "    raise(MyError(3/7))\n",
        " \n",
        "except MyError as error:\n",
        "    print(error)\n"
      ],
      "execution_count": null,
      "outputs": [
        {
          "output_type": "stream",
          "text": [
            "A New Exception occured: 0.42857142857142855\n"
          ],
          "name": "stdout"
        }
      ]
    },
    {
      "cell_type": "markdown",
      "metadata": {
        "id": "bynJwljq2qAH"
      },
      "source": [
        "### Write a Python program to calculate the discriminant value. (b <sup>2</sup> - 4ac)"
      ]
    },
    {
      "cell_type": "code",
      "metadata": {
        "id": "lcUQOYKh2qAH",
        "outputId": "08c4a142-9132-4681-f91b-95cd414e741f"
      },
      "source": [
        "def discriminant():\n",
        "    a_value = float(input('The a value: '))\n",
        "    b_value = float(input('The b value: '))\n",
        "    c_value = float(input('The c value: '))\n",
        "    \n",
        "    # Calculate the discriminant here\n",
        "    \n",
        "    return # The value\n",
        "\n",
        "\n",
        "discriminant()\n"
      ],
      "execution_count": null,
      "outputs": [
        {
          "output_type": "stream",
          "text": [
            "The a value: 11\n",
            "The b value: 111\n",
            "The c value: 111\n"
          ],
          "name": "stdout"
        }
      ]
    },
    {
      "cell_type": "code",
      "metadata": {
        "id": "vSKz-FBU2qAH",
        "outputId": "6d424edc-23ed-4a45-ec92-b3958768cdc6"
      },
      "source": [
        "print('Hello World')"
      ],
      "execution_count": null,
      "outputs": [
        {
          "output_type": "stream",
          "text": [
            "Hello World\n"
          ],
          "name": "stdout"
        }
      ]
    },
    {
      "cell_type": "code",
      "metadata": {
        "id": "PzDAXvOV2qAI"
      },
      "source": [
        "print('What am I typing are you able to see?')"
      ],
      "execution_count": null,
      "outputs": []
    }
  ]
}