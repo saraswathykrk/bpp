{
  "nbformat": 4,
  "nbformat_minor": 0,
  "metadata": {
    "kernelspec": {
      "display_name": "Python 3",
      "language": "python",
      "name": "python3"
    },
    "language_info": {
      "codemirror_mode": {
        "name": "ipython",
        "version": 3
      },
      "file_extension": ".py",
      "mimetype": "text/x-python",
      "name": "python",
      "nbconvert_exporter": "python",
      "pygments_lexer": "ipython3",
      "version": "3.6.5"
    },
    "colab": {
      "name": "Python_Basics",
      "provenance": [],
      "include_colab_link": true
    }
  },
  "cells": [
    {
      "cell_type": "markdown",
      "metadata": {
        "id": "view-in-github",
        "colab_type": "text"
      },
      "source": [
        "<a href=\"https://colab.research.google.com/github/saraswathykrk/ml_work/blob/main/Python_Basics.ipynb\" target=\"_parent\"><img src=\"https://colab.research.google.com/assets/colab-badge.svg\" alt=\"Open In Colab\"/></a>"
      ]
    },
    {
      "cell_type": "markdown",
      "metadata": {
        "id": "9ErTlyp82p_l"
      },
      "source": [
        "<img src='https://www.insaid.co/wp-content/uploads/2018/04/INSAID_Logo-1.png' height=\"240\" width=\"360\"/>\n",
        "<br/>\n",
        "# Python basics"
      ]
    },
    {
      "cell_type": "markdown",
      "metadata": {
        "collapsed": true,
        "id": "XzRyBjMz2p_u"
      },
      "source": [
        "### 1.Write a Python program to print the following string\n",
        "\n",
        "Sample String: \"Welcome to INSAID- International School of AI and Data Science\"\n",
        "\n"
      ]
    },
    {
      "cell_type": "code",
      "metadata": {
        "id": "utEfGUNv2p_v"
      },
      "source": [
        ""
      ],
      "execution_count": null,
      "outputs": []
    },
    {
      "cell_type": "markdown",
      "metadata": {
        "id": "qukbIWGx2p_w"
      },
      "source": [
        "### 1.1 In a “Hello, World!” program, a comment may look like this:"
      ]
    },
    {
      "cell_type": "code",
      "metadata": {
        "id": "GXUOVuH32p_w"
      },
      "source": [
        "# Print “Hello, World!” to console\n"
      ],
      "execution_count": null,
      "outputs": []
    },
    {
      "cell_type": "code",
      "metadata": {
        "id": "GnCdfX8j2p_x"
      },
      "source": [
        "# Define sharks variable as a list of strings ('hammer', 'white', 'fish', 'frilled', 'bullhead', 'requiem')\n",
        "\n",
        "\n",
        "# For loop that iterates over sharks list and prints each string item\n"
      ],
      "execution_count": null,
      "outputs": []
    },
    {
      "cell_type": "markdown",
      "metadata": {
        "id": "NMaw2enF2p_x"
      },
      "source": [
        "### 2.Write a Python Program to Add Two Numbers"
      ]
    },
    {
      "cell_type": "code",
      "metadata": {
        "id": "PLshVI272p_x"
      },
      "source": [
        "# initialise two varaibles\n",
        "\n",
        "\n",
        "# Add two numbers\n",
        "\n",
        "\n",
        "# Display the sum\n"
      ],
      "execution_count": null,
      "outputs": []
    },
    {
      "cell_type": "markdown",
      "metadata": {
        "id": "M9ar0X1_2p_y"
      },
      "source": [
        "### 3.Write a Python Program to Find the product of two numbers"
      ]
    },
    {
      "cell_type": "code",
      "metadata": {
        "id": "P3XLsy922p_y"
      },
      "source": [
        "# initialise two varaibles\n",
        "\n",
        "\n",
        "# multiply two numbers\n",
        "\n",
        "\n",
        "# Display the sum\n"
      ],
      "execution_count": null,
      "outputs": []
    },
    {
      "cell_type": "markdown",
      "metadata": {
        "id": "Kvetw4yN2p_y"
      },
      "source": [
        "### 4.Write a python program to find the area of triangle given height and base of the triangle as 3 and 10."
      ]
    },
    {
      "cell_type": "code",
      "metadata": {
        "id": "rJUFbN_22p_z"
      },
      "source": [
        "# Area of the triangle A= 1/2(base * height)\n",
        "\n",
        "#given height=3 and base =10\n",
        "\n"
      ],
      "execution_count": null,
      "outputs": []
    },
    {
      "cell_type": "markdown",
      "metadata": {
        "id": "vzgNixC62p_z"
      },
      "source": [
        "### 5.Python Program to Swap Two Variables"
      ]
    },
    {
      "cell_type": "code",
      "metadata": {
        "id": "_O0SSEon2p_z"
      },
      "source": [
        "# initialise two varaibles\n",
        "\n",
        "\n",
        "\n",
        "# create a temporary variable and swap the values\n",
        "\n",
        "\n"
      ],
      "execution_count": null,
      "outputs": []
    },
    {
      "cell_type": "markdown",
      "metadata": {
        "id": "MChqdnMZ2p_0"
      },
      "source": [
        "## Section"
      ]
    },
    {
      "cell_type": "markdown",
      "metadata": {
        "collapsed": true,
        "id": "d9vsLRou2p_0"
      },
      "source": [
        "### 1.Write a python program to print datatype of a varaible"
      ]
    },
    {
      "cell_type": "code",
      "metadata": {
        "id": "Nb-XdM1s2p_0"
      },
      "source": [
        "a = 1\n",
        "\n",
        "\n",
        "b = 2.0\n",
        "\n",
        "\n",
        "c = 1+2j\n"
      ],
      "execution_count": null,
      "outputs": []
    },
    {
      "cell_type": "markdown",
      "metadata": {
        "id": "q674aoSS2p_1"
      },
      "source": [
        "### 2.Write a python program to extract an item or a range of items from a list.\n",
        "\n"
      ]
    },
    {
      "cell_type": "code",
      "metadata": {
        "id": "Or2x17yC2p_1"
      },
      "source": [
        "a = [15,20,35,40,45,30,35,60]\n",
        "\n",
        "# Print the item at index 2\n",
        "\n",
        "# Print the first 3 items\n",
        "\n",
        "# Print the last 3 items\n",
        "\n",
        "# Start to third last item"
      ],
      "execution_count": null,
      "outputs": []
    },
    {
      "cell_type": "markdown",
      "metadata": {
        "id": "12jB_8me2p_1"
      },
      "source": [
        "### 3.Converting Floats to Integers\n"
      ]
    },
    {
      "cell_type": "code",
      "metadata": {
        "id": "IjUWfoGZ2p_1"
      },
      "source": [
        "b = 125.0\n",
        "c = 390.8\n",
        "\n",
        "# Print the Integer values"
      ],
      "execution_count": null,
      "outputs": []
    },
    {
      "cell_type": "markdown",
      "metadata": {
        "id": "V_ufqda62p_2"
      },
      "source": [
        "### 4.Converting Numbers to Strings"
      ]
    },
    {
      "cell_type": "code",
      "metadata": {
        "id": "6BMPHd842p_2"
      },
      "source": [
        "a = 10\n",
        "\n",
        "print(a, \"is of type\", type(a))\n",
        "\n",
        "# Convert the value in a to a string and then print"
      ],
      "execution_count": null,
      "outputs": []
    },
    {
      "cell_type": "markdown",
      "metadata": {
        "id": "_VN3djf12p_2"
      },
      "source": [
        "### 5.Converting Strings to Numbers"
      ]
    },
    {
      "cell_type": "code",
      "metadata": {
        "id": "ZSMiyDye2p_2"
      },
      "source": [
        "a = \"50\"\n",
        "b = \"108\"\n",
        "\n",
        "# Find the difference between a and b"
      ],
      "execution_count": null,
      "outputs": []
    },
    {
      "cell_type": "markdown",
      "metadata": {
        "id": "yHZzRRHV2p_3"
      },
      "source": [
        "### 6.Converting list to Tuples"
      ]
    },
    {
      "cell_type": "code",
      "metadata": {
        "id": "_LvSJ1Og2p_3"
      },
      "source": [
        "myList = ['request', 'source', 'repository', 'branch']\n",
        "\n",
        "# Print myList to a Tuple"
      ],
      "execution_count": null,
      "outputs": []
    },
    {
      "cell_type": "markdown",
      "metadata": {
        "id": "ajE_WkwJ2p_3"
      },
      "source": [
        "### 7.Converting tuple to Lists"
      ]
    },
    {
      "cell_type": "code",
      "metadata": {
        "id": "QimXoBHR2p_3"
      },
      "source": [
        "myTuple = ('blue', 'red', 'white')\n",
        "\n",
        "# Print myTuple to a List"
      ],
      "execution_count": null,
      "outputs": []
    },
    {
      "cell_type": "markdown",
      "metadata": {
        "collapsed": true,
        "id": "G-Uachkl2p_3"
      },
      "source": [
        "### 8.converting strings to lists:"
      ]
    },
    {
      "cell_type": "code",
      "metadata": {
        "id": "iC37vbp92p_4"
      },
      "source": [
        "myString = 'INSAID'\n",
        "\n",
        "# Convert myString to List\n"
      ],
      "execution_count": null,
      "outputs": []
    },
    {
      "cell_type": "markdown",
      "metadata": {
        "id": "6bB9mrzX2p_4"
      },
      "source": [
        "### 9.Assign different data types to a varibles"
      ]
    },
    {
      "cell_type": "code",
      "metadata": {
        "id": "w2zLpMHD2p_4"
      },
      "source": [
        "# Try string, float, boolean, list, tuple, dictionary"
      ],
      "execution_count": null,
      "outputs": []
    },
    {
      "cell_type": "markdown",
      "metadata": {
        "id": "fN2gG61M2p_4"
      },
      "source": [
        "## Section"
      ]
    },
    {
      "cell_type": "markdown",
      "metadata": {
        "collapsed": true,
        "id": "boB0KtPQ2p_5"
      },
      "source": [
        "### Print out a string that uses a formatter"
      ]
    },
    {
      "cell_type": "code",
      "metadata": {
        "id": "yQh1YuNK2p_5"
      },
      "source": [
        "# Print \"john has 5 cars.\" using formatter"
      ],
      "execution_count": null,
      "outputs": []
    },
    {
      "cell_type": "markdown",
      "metadata": {
        "id": "kiWcSDSh2p_5"
      },
      "source": [
        "### We can also assign a variable to be equal to the value of a string that has formatter placeholders:"
      ]
    },
    {
      "cell_type": "code",
      "metadata": {
        "id": "o1LN0vg42p_5"
      },
      "source": [
        "open_string = \"john likes {}.\"\n",
        "\n",
        "# Use format method to print the following output \"john likes open source.\"\n"
      ],
      "execution_count": null,
      "outputs": []
    },
    {
      "cell_type": "markdown",
      "metadata": {
        "id": "cM-vD6UH2p_6"
      },
      "source": [
        "### Using Formatters with Multiple Placeholders"
      ]
    },
    {
      "cell_type": "code",
      "metadata": {
        "id": "nZK_MQ9B2p_6"
      },
      "source": [
        "new_open_string = \"john likes {} {}.\"                      #2 {} placeholders\n",
        "# Pass 2 strings into format method, separated by a comma to get output \"john likes open-source software.\""
      ],
      "execution_count": null,
      "outputs": []
    },
    {
      "cell_type": "code",
      "metadata": {
        "id": "y2i2L_S22p_6"
      },
      "source": [
        "sammy_string = \"john loves {} {}, and has {} {}.\"                      #4 {} placeholders\n",
        "# Pass 4 strings into method to get output \"john loves open-source software, and has 5 balloons.\""
      ],
      "execution_count": null,
      "outputs": []
    },
    {
      "cell_type": "markdown",
      "metadata": {
        "id": "1A-u7Edc2p_6"
      },
      "source": [
        "### Reordering Formatters with Positional and Keyword Arguments\n"
      ]
    },
    {
      "cell_type": "code",
      "metadata": {
        "id": "FuS7AO0D2p_6"
      },
      "source": [
        "# Reference sample\n",
        "print(\"john the {} has a pet {}!\".format(\"shark\", \"pilot fish\"))"
      ],
      "execution_count": null,
      "outputs": []
    },
    {
      "cell_type": "markdown",
      "metadata": {
        "id": "zcwjYd8d2p_7"
      },
      "source": [
        "### We can pass these index numbers into the curly braces that serve as the placeholders in the original string:"
      ]
    },
    {
      "cell_type": "code",
      "metadata": {
        "id": "wX7wmVhO2p_7"
      },
      "source": [
        "# Reference Sample\n",
        "print(\"john the {0} has a pet {1}!\".format(\"shark\", \"pilot fish\"))\n",
        "\n",
        "print(\"john is a {}, {}, and {} {}!\".format(\"happy\", \"smiling\", \"blue\", \"shark\"))\n"
      ],
      "execution_count": null,
      "outputs": []
    },
    {
      "cell_type": "markdown",
      "metadata": {
        "id": "cJVxarHi2p_7"
      },
      "source": [
        "### Python Program to Get String Input from User\n"
      ]
    },
    {
      "cell_type": "code",
      "metadata": {
        "id": "P_2H9mP32p_7"
      },
      "source": [
        "#Enter any string and print it\n"
      ],
      "execution_count": null,
      "outputs": []
    },
    {
      "cell_type": "markdown",
      "metadata": {
        "collapsed": true,
        "id": "RrMPMwhH2p_8"
      },
      "source": [
        "### Python program for conditional statements\n",
        "\n",
        "### 1)If the student receives over 65% on her test, report that her grade passes; if not, report that her grade fails"
      ]
    },
    {
      "cell_type": "code",
      "metadata": {
        "id": "HQ_v8lrZ2p_8"
      },
      "source": [
        "grade = 70\n",
        "\n"
      ],
      "execution_count": null,
      "outputs": []
    },
    {
      "cell_type": "code",
      "metadata": {
        "id": "eCAweu1j2p_8"
      },
      "source": [
        "# Use only if\n",
        "grade = 60\n",
        "\n"
      ],
      "execution_count": null,
      "outputs": []
    },
    {
      "cell_type": "markdown",
      "metadata": {
        "id": "vCNj1MQr2p_8"
      },
      "source": [
        "### Write a python program calculate whether a bank account balance is below 0 and print appropriate message."
      ]
    },
    {
      "cell_type": "code",
      "metadata": {
        "id": "-l9jRiSU2p_8"
      },
      "source": [
        "# Use if else\n",
        "balance = 522\n",
        "\n"
      ],
      "execution_count": null,
      "outputs": []
    },
    {
      "cell_type": "markdown",
      "metadata": {
        "id": "OPqDBcB62p_9"
      },
      "source": [
        "### Using Else if statement"
      ]
    },
    {
      "cell_type": "code",
      "metadata": {
        "id": "rSbqkqDZ2p_9"
      },
      "source": [
        "balance = 522\n",
        "\n"
      ],
      "execution_count": null,
      "outputs": []
    },
    {
      "cell_type": "markdown",
      "metadata": {
        "id": "2ccdisG02p_9"
      },
      "source": [
        "### Python program to print  Fibonacci series between 0 to 50."
      ]
    },
    {
      "cell_type": "code",
      "metadata": {
        "id": "qFsugydR2p_9"
      },
      "source": [
        ""
      ],
      "execution_count": null,
      "outputs": []
    },
    {
      "cell_type": "markdown",
      "metadata": {
        "id": "2nWmPA_k2p_9"
      },
      "source": [
        "### Python program to find numbers which are divisible by 7 and multiple of 5 between a range 150 to 270"
      ]
    },
    {
      "cell_type": "code",
      "metadata": {
        "id": "ABu3urxD2p_-"
      },
      "source": [
        ""
      ],
      "execution_count": null,
      "outputs": []
    },
    {
      "cell_type": "markdown",
      "metadata": {
        "id": "LvQSJ_Bj2p_-"
      },
      "source": [
        "### Python program to Sum all the items in a list"
      ]
    },
    {
      "cell_type": "code",
      "metadata": {
        "id": "pXQR_gza2p_-"
      },
      "source": [
        "def sum_list(items):\n",
        "    # Your code here\n",
        "    return # Your variable\n",
        "print(sum_list([20,12,20,22]))"
      ],
      "execution_count": null,
      "outputs": []
    },
    {
      "cell_type": "markdown",
      "metadata": {
        "id": "z_B8apoM2p_-"
      },
      "source": [
        "### Python program to Remove duplicates from a list."
      ]
    },
    {
      "cell_type": "code",
      "metadata": {
        "id": "rbLTcmVH2p_-"
      },
      "source": [
        "a = [10,20,30,40,50,60,70,40,80,50,40]\n",
        "\n"
      ],
      "execution_count": null,
      "outputs": []
    },
    {
      "cell_type": "markdown",
      "metadata": {
        "id": "MAKu1_jk2p__"
      },
      "source": [
        "### Python program to Get the largest number from a list."
      ]
    },
    {
      "cell_type": "code",
      "metadata": {
        "id": "OIdmWwX_2p__"
      },
      "source": [
        "def max_num_in_list( list ):\n",
        "    # Your code\n",
        "    return # Maximum value\n",
        "print(max_num_in_list([1, 12, 28, 0]))"
      ],
      "execution_count": null,
      "outputs": []
    },
    {
      "cell_type": "markdown",
      "metadata": {
        "id": "K1urPmT72p__"
      },
      "source": [
        "### Concatenation of Tuples."
      ]
    },
    {
      "cell_type": "code",
      "metadata": {
        "id": "5p0rsrGr2qAA"
      },
      "source": [
        "# Code for concatenating 2 tuples\n",
        " \n",
        "tuple1 = (0, 1, 2, 3)\n",
        "tuple2 = ('python', 'code')\n",
        " \n",
        "# Concatenating above two\n",
        "print('''Your code here''')"
      ],
      "execution_count": null,
      "outputs": []
    },
    {
      "cell_type": "markdown",
      "metadata": {
        "id": "5dZOaqme2qAA"
      },
      "source": [
        "### Nesting of Tuples."
      ]
    },
    {
      "cell_type": "code",
      "metadata": {
        "id": "Q8GZGGBa2qAA"
      },
      "source": [
        "# Code for creating nested tuples\n",
        " \n",
        "tuple1 = (0, 1, 2, 3)\n",
        "tuple2 = ('python', 'code')\n",
        "tuple3  # Your code goes here\n",
        "print(tuple3)\n"
      ],
      "execution_count": null,
      "outputs": []
    },
    {
      "cell_type": "markdown",
      "metadata": {
        "id": "djoP0p2o2qAA"
      },
      "source": [
        "### Write a Python program to add an item in a tuple."
      ]
    },
    {
      "cell_type": "code",
      "metadata": {
        "id": "OUaipfEm2qAB"
      },
      "source": [
        "# Create a tuple & print\n",
        "\n",
        "\n",
        "#tuples are immutable, so you can not add new elements\n",
        "#using merge of tuples with the + operator you can add an element and it will create a new tuple\n",
        "\n",
        "# Adding items in a specific index\n",
        "\n"
      ],
      "execution_count": null,
      "outputs": []
    },
    {
      "cell_type": "markdown",
      "metadata": {
        "id": "vH8eyMJ12qAB"
      },
      "source": [
        "### Write a Python program to remove an item from a tuple."
      ]
    },
    {
      "cell_type": "code",
      "metadata": {
        "id": "CA6JH-Sw2qAB"
      },
      "source": [
        "# Create a tuple and print it\n",
        "\n",
        "# Find a way to remove an item of the tuple (Hint: Use other data types)\n"
      ],
      "execution_count": null,
      "outputs": []
    },
    {
      "cell_type": "markdown",
      "metadata": {
        "id": "YOZI4AuE2qAB"
      },
      "source": [
        "### Python Program to Check if a given key already exists in a dictionary."
      ]
    },
    {
      "cell_type": "code",
      "metadata": {
        "id": "wQ7xovgs2qAC"
      },
      "source": [
        "d = {1: 10, 2: 20, 3: 30, 4: 40, 5: 50, 6: 60}\n",
        "def is_key_present(x):\n",
        "  # Your code goes here\n",
        "  return # Your observation\n",
        "is_key_present(5)\n",
        "is_key_present(9)"
      ],
      "execution_count": null,
      "outputs": []
    },
    {
      "cell_type": "markdown",
      "metadata": {
        "id": "I-QTjS972qAC"
      },
      "source": [
        "### Write a Python script to merge two Python dictionaries."
      ]
    },
    {
      "cell_type": "code",
      "metadata": {
        "id": "g6Ks-bmN2qAC"
      },
      "source": [
        "d1 = {'a': 100, 'b': 200}\n",
        "d2 = {'x': 300, 'y': 200}\n",
        "\n",
        "# Your code"
      ],
      "execution_count": null,
      "outputs": []
    },
    {
      "cell_type": "markdown",
      "metadata": {
        "id": "pv8iD7h-2qAC"
      },
      "source": [
        "### Write a Python function to find the Max of three numbers."
      ]
    },
    {
      "cell_type": "code",
      "metadata": {
        "id": "KR5UGkKA2qAC"
      },
      "source": [
        "def max_of_two( x, y ):\n",
        "    # Your code here\n",
        "    return # Your answer\n",
        "def max_of_three( x, y, z ):\n",
        "    # Your code here use max_of_two\n",
        "    return # Your answer\n",
        "print(max_of_three(13, 26, -5))"
      ],
      "execution_count": null,
      "outputs": []
    },
    {
      "cell_type": "markdown",
      "metadata": {
        "collapsed": true,
        "id": "cap-IHDu2qAD"
      },
      "source": [
        "### Write a Python program to reverse a string."
      ]
    },
    {
      "cell_type": "code",
      "metadata": {
        "id": "SLzjSddi2qAD"
      },
      "source": [
        "def string_reverse(str1):\n",
        "    # Your code goes here\n",
        "    return # Your answer\n",
        "print(string_reverse('INSAID'))"
      ],
      "execution_count": null,
      "outputs": []
    },
    {
      "cell_type": "markdown",
      "metadata": {
        "collapsed": true,
        "id": "UYRBdFOo2qAD"
      },
      "source": [
        "### Write a Python function to calculate the factorial of a number "
      ]
    },
    {
      "cell_type": "code",
      "metadata": {
        "id": "uTq9F0_02qAD"
      },
      "source": [
        "def factorial(n):\n",
        "    # Your code here\n",
        "    return # The answer\n",
        "n=int(input(\"Input a number to compute the factiorial : \"))\n",
        "print(factorial(n))"
      ],
      "execution_count": null,
      "outputs": []
    },
    {
      "cell_type": "markdown",
      "metadata": {
        "id": "fmGzK0ov2qAD"
      },
      "source": [
        "### Write a Python function to sum all the numbers in a list."
      ]
    },
    {
      "cell_type": "code",
      "metadata": {
        "id": "DPrZqjbV2qAE"
      },
      "source": [
        "def sum(numbers):\n",
        "    # Your code goes here\n",
        "    return # Your Answer\n",
        "print(sum((8, 2, 3, 0, 7)))"
      ],
      "execution_count": null,
      "outputs": []
    },
    {
      "cell_type": "markdown",
      "metadata": {
        "collapsed": true,
        "id": "TiUeTtoD2qAE"
      },
      "source": [
        "### Write a Python function to check whether a number is in a given range."
      ]
    },
    {
      "cell_type": "code",
      "metadata": {
        "id": "-yciGxO_2qAE"
      },
      "source": [
        "def test_range(n):\n",
        "    # Your code\n",
        "    return # Your answer \n",
        "test_range(5)"
      ],
      "execution_count": null,
      "outputs": []
    },
    {
      "cell_type": "markdown",
      "metadata": {
        "id": "_UX_EYe22qAE"
      },
      "source": [
        "### Find the value of pi using math module."
      ]
    },
    {
      "cell_type": "code",
      "metadata": {
        "id": "A8AyRzLz2qAE"
      },
      "source": [
        "# import statement example\n",
        "# to import standard module math\n",
        "\n",
        "import math\n"
      ],
      "execution_count": null,
      "outputs": []
    },
    {
      "cell_type": "markdown",
      "metadata": {
        "id": "_rSwKM742qAE"
      },
      "source": [
        "### Write a Python program to read an entire text file.\n",
        "\n",
        "### Content of text.txt.\n",
        "\n",
        "### What is Python language?      \n",
        "\n",
        "#### Python is a widely used high-level, general-purpose, interpreted, dynamic programming language."
      ]
    },
    {
      "cell_type": "code",
      "metadata": {
        "id": "IOkBTOD92qAF"
      },
      "source": [
        "def file_read(fname):\n",
        "    # Your code goes in here\n",
        "    return\n",
        "\n",
        "file_read('test.txt')"
      ],
      "execution_count": null,
      "outputs": []
    },
    {
      "cell_type": "markdown",
      "metadata": {
        "collapsed": true,
        "id": "7H7qJqRi2qAF"
      },
      "source": [
        "### Write a Python program to read a file line by line and store it into a list."
      ]
    },
    {
      "cell_type": "code",
      "metadata": {
        "id": "HXREElEf2qAF"
      },
      "source": [
        "def file_read(fname):\n",
        "        # Your code goes in here\n",
        "        return\n",
        "\n",
        "file_read('test.txt')"
      ],
      "execution_count": null,
      "outputs": []
    },
    {
      "cell_type": "markdown",
      "metadata": {
        "id": "c9hYiL7i2qAF"
      },
      "source": [
        "### A python program to create user-defined exception."
      ]
    },
    {
      "cell_type": "code",
      "metadata": {
        "id": "_KRsCMDF2qAF",
        "outputId": "e76794e7-3536-4ff8-b0a8-d0659bcd9674"
      },
      "source": [
        "class MyError(Exception):\n",
        " \n",
        "    # Constructor or Initializer\n",
        "    def __init__(self, value):\n",
        "        self.value = value\n",
        " \n",
        "    # __str__ is to print() the value\n",
        "    def __str__(self):\n",
        "        return # Your code goes here to get -> 'A New Exception occured: 0.42857142857142855'\n",
        " \n",
        "try:\n",
        "    raise(MyError(3/7))\n",
        " \n",
        "except MyError as error:\n",
        "    print(error)\n"
      ],
      "execution_count": null,
      "outputs": [
        {
          "output_type": "stream",
          "text": [
            "A New Exception occured: 0.42857142857142855\n"
          ],
          "name": "stdout"
        }
      ]
    },
    {
      "cell_type": "markdown",
      "metadata": {
        "id": "bynJwljq2qAH"
      },
      "source": [
        "### Write a Python program to calculate the discriminant value. (b <sup>2</sup> - 4ac)"
      ]
    },
    {
      "cell_type": "code",
      "metadata": {
        "id": "lcUQOYKh2qAH",
        "outputId": "08c4a142-9132-4681-f91b-95cd414e741f"
      },
      "source": [
        "def discriminant():\n",
        "    a_value = float(input('The a value: '))\n",
        "    b_value = float(input('The b value: '))\n",
        "    c_value = float(input('The c value: '))\n",
        "    \n",
        "    # Calculate the discriminant here\n",
        "    \n",
        "    return # The value\n",
        "\n",
        "\n",
        "discriminant()\n"
      ],
      "execution_count": null,
      "outputs": [
        {
          "output_type": "stream",
          "text": [
            "The a value: 11\n",
            "The b value: 111\n",
            "The c value: 111\n"
          ],
          "name": "stdout"
        }
      ]
    },
    {
      "cell_type": "code",
      "metadata": {
        "id": "vSKz-FBU2qAH",
        "outputId": "6d424edc-23ed-4a45-ec92-b3958768cdc6"
      },
      "source": [
        "print('Hello World')"
      ],
      "execution_count": null,
      "outputs": [
        {
          "output_type": "stream",
          "text": [
            "Hello World\n"
          ],
          "name": "stdout"
        }
      ]
    },
    {
      "cell_type": "code",
      "metadata": {
        "id": "PzDAXvOV2qAI"
      },
      "source": [
        "print('What am I typing are you able to see?')"
      ],
      "execution_count": null,
      "outputs": []
    }
  ]
}