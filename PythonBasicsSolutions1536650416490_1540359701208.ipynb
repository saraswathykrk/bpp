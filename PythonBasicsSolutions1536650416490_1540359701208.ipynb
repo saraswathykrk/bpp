{
  "nbformat": 4,
  "nbformat_minor": 0,
  "metadata": {
    "kernelspec": {
      "display_name": "Python 3",
      "language": "python",
      "name": "python3"
    },
    "language_info": {
      "codemirror_mode": {
        "name": "ipython",
        "version": 3
      },
      "file_extension": ".py",
      "mimetype": "text/x-python",
      "name": "python",
      "nbconvert_exporter": "python",
      "pygments_lexer": "ipython3",
      "version": "3.6.5"
    },
    "colab": {
      "name": "PythonBasicsSolutions1536650416490-1540359701208.ipynb",
      "provenance": [],
      "include_colab_link": true
    }
  },
  "cells": [
    {
      "cell_type": "markdown",
      "metadata": {
        "id": "view-in-github",
        "colab_type": "text"
      },
      "source": [
        "<a href=\"https://colab.research.google.com/github/saraswathykrk/ml_work/blob/main/PythonBasicsSolutions1536650416490_1540359701208.ipynb\" target=\"_parent\"><img src=\"https://colab.research.google.com/assets/colab-badge.svg\" alt=\"Open In Colab\"/></a>"
      ]
    },
    {
      "cell_type": "markdown",
      "metadata": {
        "id": "dn4FiLQT2nI1"
      },
      "source": [
        "<img src='https://www.insaid.co/wp-content/uploads/2018/04/INSAID_Logo-1.png' height=\"240\" width=\"360\"/>\n",
        "<br/>\n",
        "# Python basics"
      ]
    },
    {
      "cell_type": "markdown",
      "metadata": {
        "collapsed": true,
        "id": "A7R2XJe92nJK"
      },
      "source": [
        "### 1.Write a Python program to print the following string\n",
        "\n",
        "Sample String: \"Welcome to INSAID- International School of AI and Data Science\"\n",
        "\n"
      ]
    },
    {
      "cell_type": "code",
      "metadata": {
        "id": "zVnpAxPF2nJL"
      },
      "source": [
        "print(\"Welcome to INSAID- International School of AI and Data Science\")"
      ],
      "execution_count": null,
      "outputs": []
    },
    {
      "cell_type": "markdown",
      "metadata": {
        "id": "adUpNpHB2nJM"
      },
      "source": [
        "### 1.1 In a “Hello, World!” program, a comment may look like this:"
      ]
    },
    {
      "cell_type": "code",
      "metadata": {
        "id": "YJW2vO-x2nJN"
      },
      "source": [
        "# Print “Hello, World!” to console\n",
        "print(\"Hello, World!\")"
      ],
      "execution_count": null,
      "outputs": []
    },
    {
      "cell_type": "code",
      "metadata": {
        "id": "fxpUA6L_2nJO"
      },
      "source": [
        "# Define sharks variable as a list of strings\n",
        "list_sample = ['hammer', 'white', 'fish', 'frilled', 'bullhead', 'requiem']\n",
        "\n",
        "# For loop that iterates over sharks list and prints each string item\n",
        "for sample in list_sample:\n",
        "   print(sample)"
      ],
      "execution_count": null,
      "outputs": []
    },
    {
      "cell_type": "markdown",
      "metadata": {
        "id": "QFwEDo0d2nJO"
      },
      "source": [
        "### 2.Write a Python Program to Add Two Numbers"
      ]
    },
    {
      "cell_type": "code",
      "metadata": {
        "id": "sCy4MNBU2nJU"
      },
      "source": [
        "# initialise two varaibles\n",
        "a = 5\n",
        "b = 3\n",
        "# Add two numbers\n",
        "sum = a + b\n",
        "\n",
        "# Display the sum\n",
        "print(\"the sum of a and b is {}\" .format(sum))"
      ],
      "execution_count": null,
      "outputs": []
    },
    {
      "cell_type": "markdown",
      "metadata": {
        "id": "RcKwNV9L2nJZ"
      },
      "source": [
        "### 3.Write a Python Program to Find the product of two numbers"
      ]
    },
    {
      "cell_type": "code",
      "metadata": {
        "id": "rZji9oJk2nJZ"
      },
      "source": [
        "# initialise two varaibles\n",
        "a = 5\n",
        "b = 3\n",
        "# multiply two numbers\n",
        "c = a * b\n",
        "\n",
        "# Display the sum\n",
        "print(\"the product of a and b is {}\" .format(c))"
      ],
      "execution_count": null,
      "outputs": []
    },
    {
      "cell_type": "markdown",
      "metadata": {
        "id": "NBLoFh_N2nJa"
      },
      "source": [
        "### 4.Write a python program to find the area of triangle given height and base of the triangle as 3 and 10."
      ]
    },
    {
      "cell_type": "code",
      "metadata": {
        "id": "OZY3r5wP2nJa"
      },
      "source": [
        "# Area of the triangle A= 1/2(base * height)\n",
        "\n",
        "#given height=3 and base =10\n",
        "\n",
        "h=3;\n",
        "\n",
        "b=10;\n",
        "\n",
        "area_of_triangle = 1/2 * (h* b);\n",
        "\n",
        "print(\"the product of a and b is {}\" .format(area_of_triangle))\n"
      ],
      "execution_count": null,
      "outputs": []
    },
    {
      "cell_type": "markdown",
      "metadata": {
        "id": "MSKfC5nE2nJa"
      },
      "source": [
        "### 5.Python Program to Swap Two Variables"
      ]
    },
    {
      "cell_type": "code",
      "metadata": {
        "id": "M4Vbp5m62nJb"
      },
      "source": [
        "# initialise two varaibles\n",
        "a = 5\n",
        "b = 3\n",
        "\n",
        "# create a temporary variable and swap the values\n",
        "\n",
        "temp = a\n",
        "a = b\n",
        "b = temp\n",
        "\n",
        "print('The value of x after swapping: {}'.format(a))\n",
        "print('The value of y after swapping: {}'.format(b))"
      ],
      "execution_count": null,
      "outputs": []
    },
    {
      "cell_type": "markdown",
      "metadata": {
        "id": "zSm9W3Ww2nJb"
      },
      "source": [
        "## Section -"
      ]
    },
    {
      "cell_type": "markdown",
      "metadata": {
        "collapsed": true,
        "id": "VrtRuZhF2nJb"
      },
      "source": [
        "### 1.Write a python program to print datatype of a varaible"
      ]
    },
    {
      "cell_type": "code",
      "metadata": {
        "id": "Hle8ndCL2nJc"
      },
      "source": [
        "a = 1\n",
        "print(a, \"is of type\", type(a))\n",
        "\n",
        "b = 2.0\n",
        "print(a, \"is of type\", type(a))\n",
        "\n",
        "c = 1+2j\n",
        "print(a, \"is complex number?\", isinstance(1+2j,complex))"
      ],
      "execution_count": null,
      "outputs": []
    },
    {
      "cell_type": "markdown",
      "metadata": {
        "id": "B_wIeicg2nJc"
      },
      "source": [
        "### 2.Write a python program to extract an item or a range of items from a list.\n",
        "\n"
      ]
    },
    {
      "cell_type": "code",
      "metadata": {
        "colab": {
          "base_uri": "https://localhost:8080/"
        },
        "id": "ytMkSyo02nJd",
        "outputId": "2186f081-bcb5-4872-cfb9-58bc0c0b4069"
      },
      "source": [
        "a = [15,20,35,40,45,30,35,60]\n",
        "\n",
        "print(a[2])\n",
        "\n",
        "print(a[0:3])\n",
        "\n",
        "print(a[5:])\n",
        "\n",
        "print(a[:6])"
      ],
      "execution_count": null,
      "outputs": [
        {
          "output_type": "stream",
          "text": [
            "35\n",
            "[15, 20, 35]\n",
            "[30, 35, 60]\n",
            "[15, 20, 35, 40, 45, 30]\n"
          ],
          "name": "stdout"
        }
      ]
    },
    {
      "cell_type": "markdown",
      "metadata": {
        "id": "ykAgqfKv2nJj"
      },
      "source": [
        "### 3.Converting Floats to Integers\n"
      ]
    },
    {
      "cell_type": "code",
      "metadata": {
        "id": "NIrnhM1N2nJj"
      },
      "source": [
        "b = 125.0\n",
        "c = 390.8\n",
        "\n",
        "print(int(b))\n",
        "print(int(c))"
      ],
      "execution_count": null,
      "outputs": []
    },
    {
      "cell_type": "markdown",
      "metadata": {
        "id": "-x0sajPR2nJj"
      },
      "source": [
        "### 4.Converting Numbers to Strings"
      ]
    },
    {
      "cell_type": "code",
      "metadata": {
        "colab": {
          "base_uri": "https://localhost:8080/"
        },
        "id": "7vmusEBc2nJk",
        "outputId": "c30064a1-4ee1-421c-9533-a95522f42112"
      },
      "source": [
        "a = 10\n",
        "\n",
        "print(a, \"is of type\", type(a))\n",
        "\n",
        "b = str(a)\n",
        "\n",
        "print(b, \"is of type\", type(b))\n"
      ],
      "execution_count": null,
      "outputs": [
        {
          "output_type": "stream",
          "text": [
            "10 is of type <class 'int'>\n",
            "10 is of type <class 'str'>\n"
          ],
          "name": "stdout"
        }
      ]
    },
    {
      "cell_type": "markdown",
      "metadata": {
        "id": "7P026Yrt2nJk"
      },
      "source": [
        "### 5.Converting Strings to Numbers"
      ]
    },
    {
      "cell_type": "code",
      "metadata": {
        "id": "2DWLeLEf2nJl"
      },
      "source": [
        "a = \"50\"\n",
        "b = \"108\"\n",
        "\n",
        "lines_more = int(a) - int(b)\n",
        "\n",
        "print(lines_more)"
      ],
      "execution_count": null,
      "outputs": []
    },
    {
      "cell_type": "markdown",
      "metadata": {
        "id": "a6HwjcOH2nJl"
      },
      "source": [
        "### 6.Converting list to Tuples"
      ]
    },
    {
      "cell_type": "code",
      "metadata": {
        "id": "DjCBuwYE2nJm"
      },
      "source": [
        "print(tuple(['request', 'source', 'repository', 'branch']))\n"
      ],
      "execution_count": null,
      "outputs": []
    },
    {
      "cell_type": "markdown",
      "metadata": {
        "id": "FFYnzHAT2nJm"
      },
      "source": [
        "### 7.Converting tuple to Lists"
      ]
    },
    {
      "cell_type": "code",
      "metadata": {
        "id": "GZ2KJAfs2nJm"
      },
      "source": [
        "print(list(('blue', 'red', 'white')))"
      ],
      "execution_count": null,
      "outputs": []
    },
    {
      "cell_type": "markdown",
      "metadata": {
        "collapsed": true,
        "id": "tTu9kiq22nJm"
      },
      "source": [
        "### 8.converting strings to lists:"
      ]
    },
    {
      "cell_type": "code",
      "metadata": {
        "id": "Ilu3ccAJ2nJn"
      },
      "source": [
        "print(list('INSAID'))"
      ],
      "execution_count": null,
      "outputs": []
    },
    {
      "cell_type": "markdown",
      "metadata": {
        "id": "YPCVmL6R2nJn"
      },
      "source": [
        "### 9.Assign different data types to a varibles"
      ]
    },
    {
      "cell_type": "code",
      "metadata": {
        "id": "ZcOCa1rP2nJn"
      },
      "source": [
        "my_string = 'Hello, World!'\n",
        "my_flt = 45.06\n",
        "my_bool = 5 > 9 #A Boolean value will return either True or False\n",
        "my_list = ['item_1', 'item_2', 'item_3', 'item_4']\n",
        "my_tuple = ('one', 'two', 'three')\n",
        "my_dict = {'letter': 'g', 'number': 'seven', 'symbol': '&'}"
      ],
      "execution_count": null,
      "outputs": []
    },
    {
      "cell_type": "markdown",
      "metadata": {
        "id": "mITOXO-g2nJn"
      },
      "source": [
        "## Section-"
      ]
    },
    {
      "cell_type": "markdown",
      "metadata": {
        "collapsed": true,
        "id": "rPPS5VZN2nJo"
      },
      "source": [
        "### Print out a string that uses a formatter"
      ]
    },
    {
      "cell_type": "code",
      "metadata": {
        "id": "0Xil7xoP2nJo"
      },
      "source": [
        "print(\"john has {} cars.\".format(5))\n"
      ],
      "execution_count": null,
      "outputs": []
    },
    {
      "cell_type": "markdown",
      "metadata": {
        "id": "eM-4CfmY2nJo"
      },
      "source": [
        "### We can also assign a variable to be equal to the value of a string that has formatter placeholders:"
      ]
    },
    {
      "cell_type": "code",
      "metadata": {
        "id": "I10fwG0T2nJp"
      },
      "source": [
        "open_string = \"john likes {}.\"\n",
        "\n",
        "print(open_string.format(\"open source\"))"
      ],
      "execution_count": null,
      "outputs": []
    },
    {
      "cell_type": "markdown",
      "metadata": {
        "id": "JQXJdo_n2nJp"
      },
      "source": [
        "### Using Formatters with Multiple Placeholders"
      ]
    },
    {
      "cell_type": "code",
      "metadata": {
        "id": "F9D26bNF2nJp"
      },
      "source": [
        "new_open_string = \"john likes {} {}.\"                      #2 {} placeholders\n",
        "print(new_open_string.format(\"open-source\", \"software\"))    #Pass 2 strings into method, separated by a comma"
      ],
      "execution_count": null,
      "outputs": []
    },
    {
      "cell_type": "code",
      "metadata": {
        "id": "RveB2lrk2nJp"
      },
      "source": [
        "sammy_string = \"john loves {} {}, and has {} {}.\"                      #4 {} placeholders\n",
        "print(sammy_string.format(\"open-source\", \"software\", 5, \"balloons\"))    #Pass 4 strings into method"
      ],
      "execution_count": null,
      "outputs": []
    },
    {
      "cell_type": "markdown",
      "metadata": {
        "id": "_joDyMNw2nJq"
      },
      "source": [
        "### Reordering Formatters with Positional and Keyword Arguments\n"
      ]
    },
    {
      "cell_type": "code",
      "metadata": {
        "id": "aJQhtwBn2nJq"
      },
      "source": [
        "print(\"john the {} has a pet {}!\".format(\"shark\", \"pilot fish\"))"
      ],
      "execution_count": null,
      "outputs": []
    },
    {
      "cell_type": "markdown",
      "metadata": {
        "id": "PmEu73gu2nJq"
      },
      "source": [
        "### We can pass these index numbers into the curly braces that serve as the placeholders in the original string:"
      ]
    },
    {
      "cell_type": "code",
      "metadata": {
        "id": "dRlNtpMJ2nJq"
      },
      "source": [
        "\n",
        "print(\"john the {0} has a pet {1}!\".format(\"shark\", \"pilot fish\"))\n",
        "\n",
        "print(\"john is a {}, {}, and {} {}!\".format(\"happy\", \"smiling\", \"blue\", \"shark\"))\n"
      ],
      "execution_count": null,
      "outputs": []
    },
    {
      "cell_type": "markdown",
      "metadata": {
        "id": "P9NosbSr2nJr"
      },
      "source": [
        "### Python Program to Get String Input from User\n"
      ]
    },
    {
      "cell_type": "code",
      "metadata": {
        "id": "-kabcPwG2nJr"
      },
      "source": [
        "inputString = input(\"Enter any string: \")\n",
        "print(inputString)"
      ],
      "execution_count": null,
      "outputs": []
    },
    {
      "cell_type": "markdown",
      "metadata": {
        "collapsed": true,
        "id": "9l9kX7h92nJr"
      },
      "source": [
        "### Python program for conditional statements\n",
        "\n",
        "### 1)If the student receives over 65% on her test, report that her grade passes; if not, report that her grade fails"
      ]
    },
    {
      "cell_type": "code",
      "metadata": {
        "id": "GZJQbF-_2nJr"
      },
      "source": [
        "grade = 70\n",
        "\n",
        "if grade >= 65:\n",
        "    print(\"Passing grade\")\n",
        "    \n",
        "    "
      ],
      "execution_count": null,
      "outputs": []
    },
    {
      "cell_type": "code",
      "metadata": {
        "id": "YGjX8L842nJs"
      },
      "source": [
        "grade = 60\n",
        "\n",
        "if grade >= 65:\n",
        "    print(\"Passing grade\")\n",
        "\n",
        "else:\n",
        "    print(\"Failing grade\")"
      ],
      "execution_count": null,
      "outputs": []
    },
    {
      "cell_type": "markdown",
      "metadata": {
        "id": "iTemjeQG2nJt"
      },
      "source": [
        "### Write a python program calculate whether a bank account balance is below 0."
      ]
    },
    {
      "cell_type": "code",
      "metadata": {
        "id": "cUIDenDV2nJt"
      },
      "source": [
        "balance = 522\n",
        "\n",
        "if balance < 0:\n",
        "    print(\"Balance is below 0, add funds now or you will be charged a penalty.\")\n",
        "\n",
        "else:\n",
        "    print(\"Your balance is 0 or above.\")\n"
      ],
      "execution_count": null,
      "outputs": []
    },
    {
      "cell_type": "markdown",
      "metadata": {
        "id": "LBz_Mp1k2nJt"
      },
      "source": [
        "### Using Else if statement"
      ]
    },
    {
      "cell_type": "code",
      "metadata": {
        "id": "QHw-b3lV2nJx"
      },
      "source": [
        "balance = 522\n",
        "\n",
        "if balance < 0:\n",
        "    print(\"Balance is below 0, add funds now or you will be charged a penalty.\")\n",
        "\n",
        "elif balance == 0:\n",
        "    print(\"Balance is equal to 0, add funds soon.\")\n",
        "\n",
        "else:\n",
        "    print(\"Your balance is 0 or above.\")"
      ],
      "execution_count": null,
      "outputs": []
    },
    {
      "cell_type": "markdown",
      "metadata": {
        "id": "pnGQNuEf2nJx"
      },
      "source": [
        "### Python program to print  Fibonacci series between 0 to 50."
      ]
    },
    {
      "cell_type": "code",
      "metadata": {
        "id": "rEuaBorT2nJy",
        "outputId": "9879d72e-0cfc-4d8e-c0bd-2a4d899b892a"
      },
      "source": [
        "nterms = 50\n",
        "\n",
        "a = 0\n",
        "b = 1\n",
        "\n",
        "count = 0\n",
        "\n",
        "if nterms <= 0:\n",
        "   print(\"enter a positive integer\")\n",
        "elif nterms == 1:\n",
        "   print(\"Fibonacci sequence upto\",nterms,\":\")\n",
        "   print(0)\n",
        "else:\n",
        "   print(\"Fibonacci sequence upto\",nterms,\":\")\n",
        "   while count < nterms:\n",
        "       print(a,end=' , ')\n",
        "       nth = a + b\n",
        "       # update values\n",
        "       a = b\n",
        "       b = nth\n",
        "       count=count+1\n"
      ],
      "execution_count": null,
      "outputs": [
        {
          "output_type": "stream",
          "text": [
            "Fibonacci sequence upto 50 :\n",
            "0 , 1 , 1 , 2 , 3 , 5 , 8 , 13 , 21 , 34 , 55 , 89 , 144 , 233 , 377 , 610 , 987 , 1597 , 2584 , 4181 , 6765 , 10946 , 17711 , 28657 , 46368 , 75025 , 121393 , 196418 , 317811 , 514229 , 832040 , 1346269 , 2178309 , 3524578 , 5702887 , 9227465 , 14930352 , 24157817 , 39088169 , 63245986 , 102334155 , 165580141 , 267914296 , 433494437 , 701408733 , 1134903170 , 1836311903 , 2971215073 , 4807526976 , 7778742049 , "
          ],
          "name": "stdout"
        }
      ]
    },
    {
      "cell_type": "markdown",
      "metadata": {
        "id": "aslHzKzS2nJz"
      },
      "source": [
        "### Python program to find numbers which are divisible by 7 and multiple of 5 between a range 150 to 270"
      ]
    },
    {
      "cell_type": "code",
      "metadata": {
        "id": "gQOpmouT2nJz",
        "colab": {
          "base_uri": "https://localhost:8080/"
        },
        "outputId": "00d46059-2f94-441c-96e3-70ca1b7a4a37"
      },
      "source": [
        "for number in range(150,270):\n",
        "    if number %7==0 and number %5==0 :\n",
        "        print(number)"
      ],
      "execution_count": null,
      "outputs": [
        {
          "output_type": "stream",
          "text": [
            "175\n",
            "210\n",
            "245\n"
          ],
          "name": "stdout"
        }
      ]
    },
    {
      "cell_type": "markdown",
      "metadata": {
        "id": "vulS4O292nJ0"
      },
      "source": [
        "### Python program to Sum all the items in a list"
      ]
    },
    {
      "cell_type": "code",
      "metadata": {
        "id": "wouCF9r12nJ0"
      },
      "source": [
        "def sum_list(items):\n",
        "    sum_numbers = 0\n",
        "    for x in items:\n",
        "        sum_numbers += x\n",
        "    return sum_numbers\n",
        "\n",
        "print(sum_list([20,12,20,22]))"
      ],
      "execution_count": null,
      "outputs": []
    },
    {
      "cell_type": "markdown",
      "metadata": {
        "id": "h6peLrvl2nJ0"
      },
      "source": [
        "### Python program to Remove duplicates from a list."
      ]
    },
    {
      "cell_type": "code",
      "metadata": {
        "id": "ZIs4J4jl2nJ0",
        "colab": {
          "base_uri": "https://localhost:8080/"
        },
        "outputId": "dfaa6836-326c-4b40-acff-b1478563d102"
      },
      "source": [
        "a = [10,20,30,40,50,60,70,40,80,50,40]\n",
        "\n",
        "dup_items = set()\n",
        "uniq_items = []\n",
        "for x in a:\n",
        "    if x not in dup_items:\n",
        "        uniq_items.append(x)\n",
        "        dup_items.add(x)\n",
        "\n",
        "print(dup_items)"
      ],
      "execution_count": null,
      "outputs": [
        {
          "output_type": "stream",
          "text": [
            "{70, 40, 10, 80, 50, 20, 60, 30}\n"
          ],
          "name": "stdout"
        }
      ]
    },
    {
      "cell_type": "markdown",
      "metadata": {
        "id": "Ekg-g9ES2nJ1"
      },
      "source": [
        "### Python program to Get the largest number from a list."
      ]
    },
    {
      "cell_type": "code",
      "metadata": {
        "id": "jg61X3ml2nJ4"
      },
      "source": [
        "def max_num_in_list( list ):\n",
        "    max = list[ 0 ]\n",
        "    for a in list:\n",
        "        if a > max:\n",
        "            max = a\n",
        "    return max\n",
        "print(max_num_in_list([1, 12, 28, 0]))"
      ],
      "execution_count": null,
      "outputs": []
    },
    {
      "cell_type": "markdown",
      "metadata": {
        "id": "_hkRho5W2nJ5"
      },
      "source": [
        "### Concatenation of Tuples."
      ]
    },
    {
      "cell_type": "code",
      "metadata": {
        "id": "yaG3Y-FC2nJ6"
      },
      "source": [
        "# Code for concatenating 2 tuples\n",
        " \n",
        "tuple1 = (0, 1, 2, 3)\n",
        "tuple2 = ('python', 'code')\n",
        " \n",
        "# Concatenating above two\n",
        "print(tuple1 + tuple2)"
      ],
      "execution_count": null,
      "outputs": []
    },
    {
      "cell_type": "markdown",
      "metadata": {
        "id": "tXB38R8h2nJ6"
      },
      "source": [
        "### Nesting of Tuples."
      ]
    },
    {
      "cell_type": "code",
      "metadata": {
        "id": "MMbTw7rQ2nJ6"
      },
      "source": [
        "# Code for creating nested tuples\n",
        " \n",
        "tuple1 = (0, 1, 2, 3)\n",
        "tuple2 = ('python', 'code')\n",
        "tuple3 = (tuple1, tuple2)\n",
        "print(tuple3)\n"
      ],
      "execution_count": null,
      "outputs": []
    },
    {
      "cell_type": "markdown",
      "metadata": {
        "id": "BZHxqn462nJ6"
      },
      "source": [
        "### Write a Python program to add an item in a tuple."
      ]
    },
    {
      "cell_type": "code",
      "metadata": {
        "id": "yK5B4tSo2nJ7"
      },
      "source": [
        "#create a tuple\n",
        "tuplex = (4, 6, 2, 8, 3, 1) \n",
        "print(tuplex)\n",
        "#tuples are immutable, so you can not add new elements\n",
        "#using merge of tuples with the + operator you can add an element and it will create a new tuple\n",
        "\n",
        "#adding items in a specific index\n",
        "tuplex = tuplex[:6] + (15, 20, 25)\n",
        "print(tuplex)\n"
      ],
      "execution_count": null,
      "outputs": []
    },
    {
      "cell_type": "markdown",
      "metadata": {
        "id": "tY1L8xBz2nJ7"
      },
      "source": [
        "### Write a Python program to remove an item from a tuple."
      ]
    },
    {
      "cell_type": "code",
      "metadata": {
        "id": "vOkrLkJ72nJ7"
      },
      "source": [
        "#create a tuple\n",
        "tuplex = \"I\", \"D\", \"S\", \"P\", \"J\"\n",
        "listx = list(tuplex) \n",
        "#use different ways to remove an item of the list\n",
        "listx.remove(\"I\")\n",
        "tuplex = tuple(listx)\n",
        "print(tuplex)"
      ],
      "execution_count": null,
      "outputs": []
    },
    {
      "cell_type": "markdown",
      "metadata": {
        "id": "0PX_XjAL2nJ7"
      },
      "source": [
        "### Python Program to Check if a given key already exists in a dictionary."
      ]
    },
    {
      "cell_type": "code",
      "metadata": {
        "id": "IP5QXaOm2nJ8"
      },
      "source": [
        "d = {1: 10, 2: 20, 3: 30, 4: 40, 5: 50, 6: 60}\n",
        "def is_key_present(x):\n",
        "  if x in d:\n",
        "      print('Key is present in the dictionary')\n",
        "  else:\n",
        "      print('Key is not present in the dictionary')\n",
        "is_key_present(5)\n",
        "is_key_present(9)"
      ],
      "execution_count": null,
      "outputs": []
    },
    {
      "cell_type": "markdown",
      "metadata": {
        "id": "-Liey_-22nJ8"
      },
      "source": [
        "### Write a Python script to merge two Python dictionaries."
      ]
    },
    {
      "cell_type": "code",
      "metadata": {
        "id": "t4SHVpC52nKD"
      },
      "source": [
        "d1 = {'a': 100, 'b': 200}\n",
        "d2 = {'x': 300, 'y': 200}\n",
        "d = d1.copy()\n",
        "d.update(d2)\n",
        "print(d)"
      ],
      "execution_count": null,
      "outputs": []
    },
    {
      "cell_type": "markdown",
      "metadata": {
        "id": "Rn8rr9a82nKD"
      },
      "source": [
        "### Write a Python function to find the Max of three numbers."
      ]
    },
    {
      "cell_type": "code",
      "metadata": {
        "id": "J1_w3f-M2nKF"
      },
      "source": [
        "def max_of_two( x, y ):\n",
        "    if x > y:\n",
        "        return x\n",
        "    return y\n",
        "def max_of_three( x, y, z ):\n",
        "    return max_of_two( x, max_of_two( y, z ) )\n",
        "print(max_of_three(13, 26, -5))"
      ],
      "execution_count": null,
      "outputs": []
    },
    {
      "cell_type": "markdown",
      "metadata": {
        "collapsed": true,
        "id": "l30uAhlM2nKI"
      },
      "source": [
        "### Write a Python program to reverse a string."
      ]
    },
    {
      "cell_type": "code",
      "metadata": {
        "id": "_iUMuVwk2nKI"
      },
      "source": [
        "def string_reverse(str1):\n",
        "\n",
        "    rstr1 = ''\n",
        "    index = len(str1)\n",
        "    while index > 0:\n",
        "        rstr1 += str1[ index - 1 ]\n",
        "        index = index - 1\n",
        "    return rstr1\n",
        "print(string_reverse('INSAID'))"
      ],
      "execution_count": null,
      "outputs": []
    },
    {
      "cell_type": "markdown",
      "metadata": {
        "collapsed": true,
        "id": "lWatAxoa2nKJ"
      },
      "source": [
        "### Write a Python function to calculate the factorial of a number "
      ]
    },
    {
      "cell_type": "code",
      "metadata": {
        "id": "MqjRJjPZ2nKK"
      },
      "source": [
        "def factorial(n):\n",
        "    if n == 0:\n",
        "        return 1\n",
        "    else:\n",
        "        return n * factorial(n-1)\n",
        "n=int(input(\"Input a number to compute the factiorial : \"))\n",
        "print(factorial(n))"
      ],
      "execution_count": null,
      "outputs": []
    },
    {
      "cell_type": "markdown",
      "metadata": {
        "id": "HotgDlpA2nKK"
      },
      "source": [
        "### Write a Python function to sum all the numbers in a list."
      ]
    },
    {
      "cell_type": "code",
      "metadata": {
        "id": "CJGpK_Cy2nKK"
      },
      "source": [
        "def sum(numbers):\n",
        "    total = 0\n",
        "    for x in numbers:\n",
        "        total += x\n",
        "    return total\n",
        "print(sum((8, 2, 3, 0, 7)))"
      ],
      "execution_count": null,
      "outputs": []
    },
    {
      "cell_type": "markdown",
      "metadata": {
        "collapsed": true,
        "id": "uTVU9BlJ2nKL"
      },
      "source": [
        "### Write a Python function to check whether a number is in a given range."
      ]
    },
    {
      "cell_type": "code",
      "metadata": {
        "id": "dcJPub5f2nKL"
      },
      "source": [
        "def test_range(n):\n",
        "    if n in range(3,9):        # 3<=5 and 9>=5\n",
        "        print( \" %s is in the range\" % n)\n",
        "    else :\n",
        "        print(\"The number is outside the given range.\")\n",
        "test_range(5)"
      ],
      "execution_count": null,
      "outputs": []
    },
    {
      "cell_type": "markdown",
      "metadata": {
        "id": "uGdIk1ag2nKL"
      },
      "source": [
        "### Find the value of pi using math module."
      ]
    },
    {
      "cell_type": "code",
      "metadata": {
        "id": "hsf-usTX2nKL"
      },
      "source": [
        "# import statement example\n",
        "# to import standard module math\n",
        "\n",
        "import math\n",
        "print(\"The value of pi is\", math.pi)"
      ],
      "execution_count": null,
      "outputs": []
    },
    {
      "cell_type": "markdown",
      "metadata": {
        "id": "3Tq56E4t2nKL"
      },
      "source": [
        "### Write a Python program to read an entire text file.\n",
        "\n",
        "### Content of text.txt.\n",
        "\n",
        "### What is Python language?      \n",
        "\n",
        "#### Python is a widely used high-level, general-purpose, interpreted, dynamic programming language."
      ]
    },
    {
      "cell_type": "code",
      "metadata": {
        "id": "puXC2kM12nKO"
      },
      "source": [
        "def file_read(fname):\n",
        "        txt = open(fname)\n",
        "        print(txt.read())\n",
        "\n",
        "file_read('test.txt')"
      ],
      "execution_count": null,
      "outputs": []
    },
    {
      "cell_type": "markdown",
      "metadata": {
        "collapsed": true,
        "id": "muM7VgBY2nKO"
      },
      "source": [
        "### Write a Python program to read a file line by line and store it into a list."
      ]
    },
    {
      "cell_type": "code",
      "metadata": {
        "id": "5Fp8-AP42nKP"
      },
      "source": [
        "def file_read(fname):\n",
        "        with open(fname) as f:\n",
        "                #Content_list is the list that contains the read lines.     \n",
        "                content_list = f.readlines()\n",
        "                print(content_list)\n",
        "\n",
        "file_read('test.txt')"
      ],
      "execution_count": null,
      "outputs": []
    },
    {
      "cell_type": "markdown",
      "metadata": {
        "id": "nWhwJF_Y2nLM"
      },
      "source": [
        "### A python program to create user-defined exception."
      ]
    },
    {
      "cell_type": "code",
      "metadata": {
        "id": "T6gII9eq2nLQ"
      },
      "source": [
        "class MyError(Exception):\n",
        " \n",
        "    # Constructor or Initializer\n",
        "    def __init__(self, value):\n",
        "        self.value = value\n",
        " \n",
        "    # __str__ is to print() the value\n",
        "    def __str__(self):\n",
        "        return('Suchit says a New Exception occured:  '+repr(self.value))\n",
        "''' \n",
        "# try:\n",
        "#     raise(MyError(3/7))\n",
        " \n",
        "# except MyError as error:\n",
        "#     print(error)\n",
        "'''\n",
        "raise(MyError(3/7))"
      ],
      "execution_count": null,
      "outputs": []
    },
    {
      "cell_type": "markdown",
      "metadata": {
        "id": "SK5YrtrM2nLQ"
      },
      "source": [
        "### Write a Python program to calculate the discriminant value."
      ]
    },
    {
      "cell_type": "code",
      "metadata": {
        "id": "RcgMtOZ_2nLQ"
      },
      "source": [
        "def discriminant():\n",
        "    a_value = float(input('The a value: '))\n",
        "    b_value = float(input('The b value: '))\n",
        "    c_value = float(input('The c value: '))\n",
        "    discriminant = (b_value**2) - (4*a_value*c_value)\n",
        "    if discriminant > 0:\n",
        "        print('Two Solutions. Discriminant value is:', discriminant)\n",
        "    elif discriminant == 0:\n",
        "        print('One Solution. Discriminant value is:', discriminant)\n",
        "    elif discriminant < 0:\n",
        "        print('No Real Solutions. Discriminant value is:', discriminant)\n",
        "\n",
        "\n",
        "discriminant()\n"
      ],
      "execution_count": null,
      "outputs": []
    },
    {
      "cell_type": "code",
      "metadata": {
        "id": "ytRIMb8O2nLR"
      },
      "source": [
        "print('Hello World')"
      ],
      "execution_count": null,
      "outputs": []
    },
    {
      "cell_type": "code",
      "metadata": {
        "id": "F4wyP26f2nLR"
      },
      "source": [
        "print('What am I typing are you able to see?')"
      ],
      "execution_count": null,
      "outputs": []
    }
  ]
}